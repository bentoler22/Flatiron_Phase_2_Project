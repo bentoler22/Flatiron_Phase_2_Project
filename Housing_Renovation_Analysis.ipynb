{
 "cells": [
  {
   "cell_type": "markdown",
   "metadata": {},
   "source": [
    "# Housing Renovation Analysis"
   ]
  },
  {
   "cell_type": "markdown",
   "metadata": {},
   "source": [
    "<img src=\"images/housing.jpg\" alt=\"Drawing\" style=\"width: 1000px;height:300px;float: left;\"/>"
   ]
  },
  {
   "cell_type": "markdown",
   "metadata": {},
   "source": [
    "## Overview\n",
    "This project uses linear regression analysis to infer how certain variables impact housing prices and by how much. Analysis of data from King County House Sales shows that house condition, grade, and bathroom number are three key features that can increase a house's price. Any home seller can use this information to make decisions on potential renovations. "
   ]
  },
  {
   "cell_type": "markdown",
   "metadata": {},
   "source": [
    "## Business Problem\n",
    "A real estate agency is looking to guide homeowners who are looking to sell their houses. They want to provide these homeowners with analysis of how renovations may impact the price of their home."
   ]
  },
  {
   "cell_type": "markdown",
   "metadata": {},
   "source": [
    "## Data Understanding\n",
    "This project uses data from the King County House Sales dataset. It includes information on house age, size, condition and other features."
   ]
  },
  {
   "cell_type": "code",
   "execution_count": 586,
   "metadata": {
    "scrolled": true
   },
   "outputs": [],
   "source": [
    "#import libraries\n",
    "import pandas as pd\n",
    "import numpy as np\n",
    "import scipy.stats as stats\n",
    "import math\n",
    "import matplotlib.pyplot as plt\n",
    "from sklearn.impute import MissingIndicator\n",
    "from sklearn.impute import SimpleImputer\n",
    "from sklearn.linear_model import LinearRegression\n",
    "from sklearn.model_selection import train_test_split\n",
    "from sklearn import preprocessing\n",
    "from sklearn.model_selection import cross_validate, ShuffleSplit\n",
    "import statsmodels.api as sm\n",
    "from sklearn.feature_selection import RFECV\n",
    "from statsmodels.stats.outliers_influence import variance_inflation_factor\n",
    "import matplotlib.ticker as ticker\n",
    "\n",
    "%matplotlib inline"
   ]
  },
  {
   "cell_type": "code",
   "execution_count": 587,
   "metadata": {
    "scrolled": false
   },
   "outputs": [
    {
     "data": {
      "text/html": [
       "<div>\n",
       "<style scoped>\n",
       "    .dataframe tbody tr th:only-of-type {\n",
       "        vertical-align: middle;\n",
       "    }\n",
       "\n",
       "    .dataframe tbody tr th {\n",
       "        vertical-align: top;\n",
       "    }\n",
       "\n",
       "    .dataframe thead th {\n",
       "        text-align: right;\n",
       "    }\n",
       "</style>\n",
       "<table border=\"1\" class=\"dataframe\">\n",
       "  <thead>\n",
       "    <tr style=\"text-align: right;\">\n",
       "      <th></th>\n",
       "      <th>id</th>\n",
       "      <th>date</th>\n",
       "      <th>price</th>\n",
       "      <th>bedrooms</th>\n",
       "      <th>bathrooms</th>\n",
       "      <th>sqft_living</th>\n",
       "      <th>sqft_lot</th>\n",
       "      <th>floors</th>\n",
       "      <th>waterfront</th>\n",
       "      <th>view</th>\n",
       "      <th>...</th>\n",
       "      <th>grade</th>\n",
       "      <th>sqft_above</th>\n",
       "      <th>sqft_basement</th>\n",
       "      <th>yr_built</th>\n",
       "      <th>yr_renovated</th>\n",
       "      <th>zipcode</th>\n",
       "      <th>lat</th>\n",
       "      <th>long</th>\n",
       "      <th>sqft_living15</th>\n",
       "      <th>sqft_lot15</th>\n",
       "    </tr>\n",
       "  </thead>\n",
       "  <tbody>\n",
       "    <tr>\n",
       "      <th>0</th>\n",
       "      <td>7129300520</td>\n",
       "      <td>10/13/2014</td>\n",
       "      <td>221900.0</td>\n",
       "      <td>3</td>\n",
       "      <td>1.00</td>\n",
       "      <td>1180</td>\n",
       "      <td>5650</td>\n",
       "      <td>1.0</td>\n",
       "      <td>NaN</td>\n",
       "      <td>NONE</td>\n",
       "      <td>...</td>\n",
       "      <td>7 Average</td>\n",
       "      <td>1180</td>\n",
       "      <td>0.0</td>\n",
       "      <td>1955</td>\n",
       "      <td>0.0</td>\n",
       "      <td>98178</td>\n",
       "      <td>47.5112</td>\n",
       "      <td>-122.257</td>\n",
       "      <td>1340</td>\n",
       "      <td>5650</td>\n",
       "    </tr>\n",
       "    <tr>\n",
       "      <th>1</th>\n",
       "      <td>6414100192</td>\n",
       "      <td>12/9/2014</td>\n",
       "      <td>538000.0</td>\n",
       "      <td>3</td>\n",
       "      <td>2.25</td>\n",
       "      <td>2570</td>\n",
       "      <td>7242</td>\n",
       "      <td>2.0</td>\n",
       "      <td>NO</td>\n",
       "      <td>NONE</td>\n",
       "      <td>...</td>\n",
       "      <td>7 Average</td>\n",
       "      <td>2170</td>\n",
       "      <td>400.0</td>\n",
       "      <td>1951</td>\n",
       "      <td>1991.0</td>\n",
       "      <td>98125</td>\n",
       "      <td>47.7210</td>\n",
       "      <td>-122.319</td>\n",
       "      <td>1690</td>\n",
       "      <td>7639</td>\n",
       "    </tr>\n",
       "    <tr>\n",
       "      <th>2</th>\n",
       "      <td>5631500400</td>\n",
       "      <td>2/25/2015</td>\n",
       "      <td>180000.0</td>\n",
       "      <td>2</td>\n",
       "      <td>1.00</td>\n",
       "      <td>770</td>\n",
       "      <td>10000</td>\n",
       "      <td>1.0</td>\n",
       "      <td>NO</td>\n",
       "      <td>NONE</td>\n",
       "      <td>...</td>\n",
       "      <td>6 Low Average</td>\n",
       "      <td>770</td>\n",
       "      <td>0.0</td>\n",
       "      <td>1933</td>\n",
       "      <td>NaN</td>\n",
       "      <td>98028</td>\n",
       "      <td>47.7379</td>\n",
       "      <td>-122.233</td>\n",
       "      <td>2720</td>\n",
       "      <td>8062</td>\n",
       "    </tr>\n",
       "    <tr>\n",
       "      <th>3</th>\n",
       "      <td>2487200875</td>\n",
       "      <td>12/9/2014</td>\n",
       "      <td>604000.0</td>\n",
       "      <td>4</td>\n",
       "      <td>3.00</td>\n",
       "      <td>1960</td>\n",
       "      <td>5000</td>\n",
       "      <td>1.0</td>\n",
       "      <td>NO</td>\n",
       "      <td>NONE</td>\n",
       "      <td>...</td>\n",
       "      <td>7 Average</td>\n",
       "      <td>1050</td>\n",
       "      <td>910.0</td>\n",
       "      <td>1965</td>\n",
       "      <td>0.0</td>\n",
       "      <td>98136</td>\n",
       "      <td>47.5208</td>\n",
       "      <td>-122.393</td>\n",
       "      <td>1360</td>\n",
       "      <td>5000</td>\n",
       "    </tr>\n",
       "    <tr>\n",
       "      <th>4</th>\n",
       "      <td>1954400510</td>\n",
       "      <td>2/18/2015</td>\n",
       "      <td>510000.0</td>\n",
       "      <td>3</td>\n",
       "      <td>2.00</td>\n",
       "      <td>1680</td>\n",
       "      <td>8080</td>\n",
       "      <td>1.0</td>\n",
       "      <td>NO</td>\n",
       "      <td>NONE</td>\n",
       "      <td>...</td>\n",
       "      <td>8 Good</td>\n",
       "      <td>1680</td>\n",
       "      <td>0.0</td>\n",
       "      <td>1987</td>\n",
       "      <td>0.0</td>\n",
       "      <td>98074</td>\n",
       "      <td>47.6168</td>\n",
       "      <td>-122.045</td>\n",
       "      <td>1800</td>\n",
       "      <td>7503</td>\n",
       "    </tr>\n",
       "  </tbody>\n",
       "</table>\n",
       "<p>5 rows × 21 columns</p>\n",
       "</div>"
      ],
      "text/plain": [
       "           id        date     price  bedrooms  bathrooms  sqft_living  \\\n",
       "0  7129300520  10/13/2014  221900.0         3       1.00         1180   \n",
       "1  6414100192   12/9/2014  538000.0         3       2.25         2570   \n",
       "2  5631500400   2/25/2015  180000.0         2       1.00          770   \n",
       "3  2487200875   12/9/2014  604000.0         4       3.00         1960   \n",
       "4  1954400510   2/18/2015  510000.0         3       2.00         1680   \n",
       "\n",
       "   sqft_lot  floors waterfront  view  ...          grade sqft_above  \\\n",
       "0      5650     1.0        NaN  NONE  ...      7 Average       1180   \n",
       "1      7242     2.0         NO  NONE  ...      7 Average       2170   \n",
       "2     10000     1.0         NO  NONE  ...  6 Low Average        770   \n",
       "3      5000     1.0         NO  NONE  ...      7 Average       1050   \n",
       "4      8080     1.0         NO  NONE  ...         8 Good       1680   \n",
       "\n",
       "   sqft_basement yr_built  yr_renovated  zipcode      lat     long  \\\n",
       "0            0.0     1955           0.0    98178  47.5112 -122.257   \n",
       "1          400.0     1951        1991.0    98125  47.7210 -122.319   \n",
       "2            0.0     1933           NaN    98028  47.7379 -122.233   \n",
       "3          910.0     1965           0.0    98136  47.5208 -122.393   \n",
       "4            0.0     1987           0.0    98074  47.6168 -122.045   \n",
       "\n",
       "   sqft_living15  sqft_lot15  \n",
       "0           1340        5650  \n",
       "1           1690        7639  \n",
       "2           2720        8062  \n",
       "3           1360        5000  \n",
       "4           1800        7503  \n",
       "\n",
       "[5 rows x 21 columns]"
      ]
     },
     "execution_count": 587,
     "metadata": {},
     "output_type": "execute_result"
    }
   ],
   "source": [
    "#load and preiview data\n",
    "df = pd.read_csv('data/kc_house_data.csv')\n",
    "df.head(5)"
   ]
  },
  {
   "cell_type": "code",
   "execution_count": 588,
   "metadata": {
    "scrolled": true
   },
   "outputs": [
    {
     "name": "stdout",
     "output_type": "stream",
     "text": [
      "<class 'pandas.core.frame.DataFrame'>\n",
      "RangeIndex: 21597 entries, 0 to 21596\n",
      "Data columns (total 21 columns):\n",
      " #   Column         Non-Null Count  Dtype  \n",
      "---  ------         --------------  -----  \n",
      " 0   id             21597 non-null  int64  \n",
      " 1   date           21597 non-null  object \n",
      " 2   price          21597 non-null  float64\n",
      " 3   bedrooms       21597 non-null  int64  \n",
      " 4   bathrooms      21597 non-null  float64\n",
      " 5   sqft_living    21597 non-null  int64  \n",
      " 6   sqft_lot       21597 non-null  int64  \n",
      " 7   floors         21597 non-null  float64\n",
      " 8   waterfront     19221 non-null  object \n",
      " 9   view           21534 non-null  object \n",
      " 10  condition      21597 non-null  object \n",
      " 11  grade          21597 non-null  object \n",
      " 12  sqft_above     21597 non-null  int64  \n",
      " 13  sqft_basement  21597 non-null  object \n",
      " 14  yr_built       21597 non-null  int64  \n",
      " 15  yr_renovated   17755 non-null  float64\n",
      " 16  zipcode        21597 non-null  int64  \n",
      " 17  lat            21597 non-null  float64\n",
      " 18  long           21597 non-null  float64\n",
      " 19  sqft_living15  21597 non-null  int64  \n",
      " 20  sqft_lot15     21597 non-null  int64  \n",
      "dtypes: float64(6), int64(9), object(6)\n",
      "memory usage: 3.5+ MB\n"
     ]
    }
   ],
   "source": [
    "df.info()"
   ]
  },
  {
   "cell_type": "markdown",
   "metadata": {},
   "source": [
    "The data has six non-numeric columns that will need to be manipulated or removed before regression analysis: \"date\", \"waterfront\", \"view\", \"condition\", \"grade\", and \"sqft_basement\". "
   ]
  },
  {
   "cell_type": "markdown",
   "metadata": {},
   "source": [
    "## Data Preparation"
   ]
  },
  {
   "cell_type": "markdown",
   "metadata": {},
   "source": [
    "### Data Cleaning\n",
    "Drop irrelevant columns, address missing values and manipulate data into desired forms"
   ]
  },
  {
   "cell_type": "code",
   "execution_count": 589,
   "metadata": {},
   "outputs": [],
   "source": [
    "#drop irrelevant columns\n",
    "df.drop(['id', 'date', 'zipcode', 'lat', 'long', 'yr_renovated', 'view'],\n",
    "        axis=1, inplace=True)"
   ]
  },
  {
   "cell_type": "code",
   "execution_count": 590,
   "metadata": {},
   "outputs": [],
   "source": [
    "#fill in missing sqft_basement values\n",
    "df.loc[df.sqft_basement == '?', 'sqft_basement'] = (df[df.sqft_basement \n",
    "                                                       == '?'].sqft_living\n",
    "                               - df[df.sqft_basement == '?'].sqft_above)\n",
    "\n",
    "#convert into numeric\n",
    "df['sqft_basement'] = df.sqft_basement.astype('float64')\n",
    "\n",
    "#sqft_basement is a zero inflated variable, so I convert it into \n",
    "#a categorical variable\n",
    "df['is_basement'] = df.sqft_basement.map(lambda x: 0 if x == 0 else 1)\n",
    "df.drop('sqft_basement', axis=1, inplace=True)"
   ]
  },
  {
   "cell_type": "code",
   "execution_count": 591,
   "metadata": {},
   "outputs": [],
   "source": [
    "#convert condition and grade into numeric values\n",
    "df['condition'] = df.condition.map(lambda x: 0 if x=='Poor' \n",
    "                                   else (1 if x=='Fair'\n",
    "                                    else (2 if x=='Average'\n",
    "                                    else  (3 if x=='Good' else 4))))\n",
    "\n",
    "df['grade'] = df.grade.map(lambda x: int(x[0:2]) - 3)"
   ]
  },
  {
   "cell_type": "code",
   "execution_count": 592,
   "metadata": {},
   "outputs": [],
   "source": [
    "#categoricals = ['condition', 'grade']"
   ]
  },
  {
   "cell_type": "code",
   "execution_count": 593,
   "metadata": {},
   "outputs": [],
   "source": [
    "#dummies = pd.get_dummies(df[categoricals], prefix=categoricals)"
   ]
  },
  {
   "cell_type": "code",
   "execution_count": 594,
   "metadata": {},
   "outputs": [],
   "source": [
    "#dummies.drop(['condition_Poor', 'grade_3 Poor'], axis=1, inplace=True)"
   ]
  },
  {
   "cell_type": "code",
   "execution_count": 595,
   "metadata": {
    "scrolled": false
   },
   "outputs": [],
   "source": [
    "#convert waterfront strings to 0 and 1\n",
    "df['waterfront'] = df.waterfront.map(lambda x: 0 if x==\"NO\" \n",
    "                                     else (1 if x==\"YES\" else None))\n",
    "\n",
    "#create new column indicating if waterfront value is missing\n",
    "waterfront = df[[\"waterfront\"]]\n",
    "missing_indicator = MissingIndicator()\n",
    "missing_indicator.fit(waterfront)\n",
    "waterfront_missing = missing_indicator.transform(waterfront)\n",
    "\n",
    "#add waterfront missing to dataframe and convert to binary\n",
    "df['waterfront_missing'] = waterfront_missing\n",
    "\n",
    "df['waterfront_missing'] = df.waterfront_missing.map(lambda x: 0 if x==False\n",
    "                                         else 1)"
   ]
  },
  {
   "cell_type": "code",
   "execution_count": 596,
   "metadata": {
    "scrolled": false
   },
   "outputs": [],
   "source": [
    "#fill in missing waterfront values with median\n",
    "imputer = SimpleImputer(strategy=\"median\")\n",
    "\n",
    "imputer.fit(waterfront)\n",
    "waterfront_imputed = imputer.transform(waterfront)\n",
    "\n",
    "df['waterfront'] = waterfront_imputed"
   ]
  },
  {
   "cell_type": "code",
   "execution_count": 597,
   "metadata": {},
   "outputs": [],
   "source": [
    "# df.drop(categoricals, axis=1, inplace=True)\n",
    "# df = pd.concat([df, dummies], axis=1)"
   ]
  },
  {
   "cell_type": "markdown",
   "metadata": {},
   "source": [
    "### Log Transformation\n",
    "Transform continuous variables that have skewed distribution."
   ]
  },
  {
   "cell_type": "code",
   "execution_count": 598,
   "metadata": {},
   "outputs": [],
   "source": [
    "#examine distributions of continuous variables\n",
    "cont_data = df.loc[:, ((df.dtypes != 'object') & (df.nunique() > 20))]\n",
    "#cont_data.hist(bins='auto', figsize=(10,10));"
   ]
  },
  {
   "cell_type": "code",
   "execution_count": 599,
   "metadata": {
    "scrolled": false
   },
   "outputs": [],
   "source": [
    "#log transforms of continuous variables\n",
    "log_names = [f'{column}_log' for column in cont_data.columns]\n",
    "\n",
    "log_data = np.log(cont_data);\n",
    "log_data.columns = log_names;\n",
    "#log_data.hist(figsize=(10, 10), bins='auto');"
   ]
  },
  {
   "cell_type": "markdown",
   "metadata": {},
   "source": [
    "With the exception of yr_built and bathrooms, log transforming the other variables improved the skewness of the data. I will replace the original data of these variables with the log transformed data."
   ]
  },
  {
   "cell_type": "code",
   "execution_count": 600,
   "metadata": {
    "scrolled": true
   },
   "outputs": [
    {
     "name": "stderr",
     "output_type": "stream",
     "text": [
      "C:\\Users\\bento\\anaconda3.0\\lib\\site-packages\\pandas\\core\\frame.py:4906: SettingWithCopyWarning: \n",
      "A value is trying to be set on a copy of a slice from a DataFrame\n",
      "\n",
      "See the caveats in the documentation: https://pandas.pydata.org/pandas-docs/stable/user_guide/indexing.html#returning-a-view-versus-a-copy\n",
      "  return super().drop(\n"
     ]
    }
   ],
   "source": [
    "#drop variables not included in log transformed data\n",
    "cont_data.drop(['bathrooms', 'yr_built'], axis=1, inplace=True)\n",
    "log_data.drop(['bathrooms_log', 'yr_built_log'], axis=1, inplace=True)"
   ]
  },
  {
   "cell_type": "code",
   "execution_count": 601,
   "metadata": {},
   "outputs": [],
   "source": [
    "#replace continuous variables with log transforms\n",
    "df.drop(cont_data.columns, axis=1, inplace=True)\n",
    "df = pd.concat([df, log_data],  axis=1)"
   ]
  },
  {
   "cell_type": "markdown",
   "metadata": {},
   "source": [
    "### Split Data\n",
    "I split the data into a training and test set. The training set will be used to build a model. The model will be validated on the test set."
   ]
  },
  {
   "cell_type": "code",
   "execution_count": 602,
   "metadata": {},
   "outputs": [],
   "source": [
    "#assigning independent(X) and dependent(y) variables\n",
    "X = df.drop('price_log', axis=1)\n",
    "y = df.price_log"
   ]
  },
  {
   "cell_type": "code",
   "execution_count": 603,
   "metadata": {},
   "outputs": [],
   "source": [
    "#Split the data\n",
    "X_train, X_test, y_train, y_test = train_test_split(X, y, test_size=0.25)"
   ]
  },
  {
   "cell_type": "markdown",
   "metadata": {},
   "source": [
    "### Feature Scaling\n",
    "The features in this dataset have different scales so I standardize all non-binary independent variable to insure some aren't improperly weighted in the model."
   ]
  },
  {
   "cell_type": "code",
   "execution_count": 604,
   "metadata": {},
   "outputs": [],
   "source": [
    "#X_train feature scaling\n",
    "std_scale = preprocessing.StandardScaler().fit(X_train.drop(['waterfront', 'waterfront_missing'], axis=1))\n",
    "data_std = std_scale.transform(X_train.drop(['waterfront', 'waterfront_missing'], axis=1))\n",
    "data_std = pd.DataFrame(data_std, columns=X_train.drop(['waterfront', 'waterfront_missing'], axis=1).columns,\n",
    "                       index=X_train.index)"
   ]
  },
  {
   "cell_type": "code",
   "execution_count": 605,
   "metadata": {},
   "outputs": [],
   "source": [
    "#replace original data with standardized data\n",
    "X_train_std = pd.concat([data_std, X_train[['waterfront', 'waterfront_missing']]], axis=1)"
   ]
  },
  {
   "cell_type": "code",
   "execution_count": 606,
   "metadata": {},
   "outputs": [],
   "source": [
    "#X_test feature scaling\n",
    "std_scale = preprocessing.StandardScaler().fit(X_test.drop(['waterfront', 'waterfront_missing'], axis=1))\n",
    "data_std = std_scale.transform(X_test.drop(['waterfront', 'waterfront_missing'], axis=1))\n",
    "data_std = pd.DataFrame(data_std, columns=X_test.drop(['waterfront', 'waterfront_missing'], axis=1).columns,\n",
    "                       index=X_test.index)"
   ]
  },
  {
   "cell_type": "code",
   "execution_count": 607,
   "metadata": {},
   "outputs": [],
   "source": [
    "#replace original data with standardized data\n",
    "X_test_std = pd.concat([data_std, X_test[['waterfront', 'waterfront_missing']]],  axis=1)"
   ]
  },
  {
   "cell_type": "code",
   "execution_count": 609,
   "metadata": {},
   "outputs": [],
   "source": [
    "# X_train_std = X_train\n",
    "# X_test_std = X_test"
   ]
  },
  {
   "cell_type": "markdown",
   "metadata": {},
   "source": [
    "## Linear Regression Modeling\n",
    "Using the cleaned, transformed, and scaled data above, I will construct a multiple linear regression model for house price using the predictor variables."
   ]
  },
  {
   "cell_type": "markdown",
   "metadata": {},
   "source": [
    "### Baseline Model\n",
    "The baseline model will predict housing price based on only the most highly correlated predictor variable."
   ]
  },
  {
   "cell_type": "code",
   "execution_count": 610,
   "metadata": {
    "scrolled": false
   },
   "outputs": [
    {
     "data": {
      "text/plain": [
       "price_log             1.000000\n",
       "grade                 0.705392\n",
       "sqft_living_log       0.670939\n",
       "sqft_living15_log     0.604994\n",
       "sqft_above_log        0.583070\n",
       "bathrooms             0.548723\n",
       "bedrooms              0.336703\n",
       "floors                0.309265\n",
       "is_basement           0.208268\n",
       "waterfront            0.179058\n",
       "sqft_lot_log          0.139579\n",
       "sqft_lot15_log        0.124937\n",
       "yr_built              0.079306\n",
       "condition             0.042369\n",
       "waterfront_missing   -0.003666\n",
       "Name: price_log, dtype: float64"
      ]
     },
     "execution_count": 610,
     "metadata": {},
     "output_type": "execute_result"
    }
   ],
   "source": [
    "#determine highest correlating feature with price\n",
    "pd.concat([X_train_std, y_train], axis=1).corr().price_log.sort_values(\n",
    "    ascending=False)"
   ]
  },
  {
   "cell_type": "markdown",
   "metadata": {},
   "source": [
    "House grade is most highly correlate with price at a value of 0.704, so our baseline model will just include grade as a predictor."
   ]
  },
  {
   "cell_type": "code",
   "execution_count": 611,
   "metadata": {},
   "outputs": [],
   "source": [
    "#define regression object\n",
    "baseline_model = LinearRegression()"
   ]
  },
  {
   "cell_type": "code",
   "execution_count": 612,
   "metadata": {
    "scrolled": true
   },
   "outputs": [
    {
     "name": "stdout",
     "output_type": "stream",
     "text": [
      "Train score:      0.49634748045378557\n",
      "Validation score: 0.5009256319503995\n"
     ]
    }
   ],
   "source": [
    "#define how many splits to make of training data\n",
    "splitter = ShuffleSplit(n_splits=3, test_size=0.25, random_state=0)\n",
    "\n",
    "#score the model using only the grade data as a predictor\n",
    "baseline_scores = cross_validate(\n",
    "    estimator=baseline_model,\n",
    "    X=X_train_std[['grade']],\n",
    "    y=y_train,\n",
    "    return_train_score=True,\n",
    "    cv=splitter\n",
    ")\n",
    "\n",
    "#print training and validation scores\n",
    "print(\"Train score:     \", baseline_scores[\"train_score\"].mean())\n",
    "print(\"Validation score:\", baseline_scores[\"test_score\"].mean())"
   ]
  },
  {
   "cell_type": "markdown",
   "metadata": {},
   "source": [
    "A r-score of only 0.50 means that only 50% of the varaince in the data is explained by this model. This is not ideal, so I move on to a second model. "
   ]
  },
  {
   "cell_type": "markdown",
   "metadata": {},
   "source": [
    "### Second Model\n",
    "For the second model I will use all predictor variables and see if it improves the score compared to the baseline."
   ]
  },
  {
   "cell_type": "code",
   "execution_count": 613,
   "metadata": {},
   "outputs": [],
   "source": [
    "second_model = LinearRegression()"
   ]
  },
  {
   "cell_type": "code",
   "execution_count": 614,
   "metadata": {},
   "outputs": [
    {
     "name": "stdout",
     "output_type": "stream",
     "text": [
      "Train score:      0.6571445487100456\n",
      "Validation score: 0.6624494456837994\n"
     ]
    }
   ],
   "source": [
    "second_model_scores = cross_validate(\n",
    "    estimator=second_model,\n",
    "    X=X_train_std,\n",
    "    y=y_train,\n",
    "    return_train_score=True,\n",
    "    cv=splitter\n",
    ")\n",
    "\n",
    "#print training and validation scores\n",
    "print(\"Train score:     \", second_model_scores[\"train_score\"].mean())\n",
    "print(\"Validation score:\", second_model_scores[\"test_score\"].mean())"
   ]
  },
  {
   "cell_type": "markdown",
   "metadata": {},
   "source": [
    "Using all the predictors improved the score by about 0.16"
   ]
  },
  {
   "cell_type": "markdown",
   "metadata": {},
   "source": [
    "### Third Model: Check for Multicollinearity\n",
    "Using a model with all the variables will likely includes multicollinearity which could negatively affect the accuracy of the model coefficients, so I use the variance inflation factor to determine if any variables should be removed due to multicollinearity."
   ]
  },
  {
   "cell_type": "code",
   "execution_count": 615,
   "metadata": {},
   "outputs": [
    {
     "data": {
      "text/plain": [
       "bedrooms               1.751104\n",
       "bathrooms              3.223974\n",
       "floors                 2.374984\n",
       "condition              1.208051\n",
       "grade                  2.992384\n",
       "yr_built               1.765013\n",
       "is_basement            4.502965\n",
       "sqft_living_log       19.568416\n",
       "sqft_lot_log           6.869541\n",
       "sqft_above_log        19.389643\n",
       "sqft_living15_log      2.733034\n",
       "sqft_lot15_log         6.642283\n",
       "waterfront             1.024249\n",
       "waterfront_missing     1.000246\n",
       "Name: Variance Inflation Factor, dtype: float64"
      ]
     },
     "execution_count": 615,
     "metadata": {},
     "output_type": "execute_result"
    }
   ],
   "source": [
    "#calculate varaince inflation factor for all variables\n",
    "vif = [variance_inflation_factor(X_train_std.values,\n",
    "           i) for i in range(X_train_std.shape[1])]\n",
    "#convert to pandas series\n",
    "pd.Series(vif, index=X_train_std.columns, \n",
    "          name=\"Variance Inflation Factor\")"
   ]
  },
  {
   "cell_type": "markdown",
   "metadata": {},
   "source": [
    "Any variable with an inflation of 5 is exhibiting multicollinearity. Sqft_lot_log appears to be highly correlated with sqft_lot15_log and sqft_living_log is correlated with sqft_above_log so I will drop one from each of these pairs."
   ]
  },
  {
   "cell_type": "code",
   "execution_count": 616,
   "metadata": {},
   "outputs": [],
   "source": [
    "third_model = LinearRegression()"
   ]
  },
  {
   "cell_type": "code",
   "execution_count": 617,
   "metadata": {},
   "outputs": [
    {
     "name": "stdout",
     "output_type": "stream",
     "text": [
      "Train score:      0.6547346164590073\n",
      "Validation score: 0.6599293539931522\n"
     ]
    }
   ],
   "source": [
    "third_model_scores = cross_validate(\n",
    "    estimator=third_model,\n",
    "    X=X_train_std.drop(['sqft_lot15_log', 'sqft_living_log'], axis=1),\n",
    "    y=y_train,\n",
    "    return_train_score=True,\n",
    "    cv=splitter\n",
    ")\n",
    "\n",
    "print(\"Train score:     \", third_model_scores[\"train_score\"].mean())\n",
    "print(\"Validation score:\", third_model_scores[\"test_score\"].mean())"
   ]
  },
  {
   "cell_type": "markdown",
   "metadata": {},
   "source": [
    "This model's score is slightly lower than the second model, but excluding multicollinearity gives greater confidence in our model coefficients, so this is currently our best model."
   ]
  },
  {
   "cell_type": "markdown",
   "metadata": {},
   "source": [
    "### Fourth Model\n",
    "As a final step I will use sklearn feature selection to determine if any other predictors should be elimanted from the model."
   ]
  },
  {
   "cell_type": "code",
   "execution_count": 618,
   "metadata": {
    "scrolled": true
   },
   "outputs": [
    {
     "name": "stdout",
     "output_type": "stream",
     "text": [
      "Was the column selected?\n",
      "bedrooms: True\n",
      "bathrooms: True\n",
      "floors: True\n",
      "condition: True\n",
      "grade: True\n",
      "yr_built: True\n",
      "is_basement: True\n",
      "sqft_lot_log: True\n",
      "sqft_above_log: True\n",
      "sqft_living15_log: True\n",
      "waterfront: True\n",
      "waterfront_missing: False\n"
     ]
    }
   ],
   "source": [
    "model_for_RFECV = LinearRegression()\n",
    "\n",
    "# Instantiate and fit the selector\n",
    "selector = RFECV(model_for_RFECV, cv=splitter)\n",
    "selector.fit(X_train_std.drop(['sqft_lot15_log',\n",
    "                              'sqft_living_log'], axis=1), y_train)\n",
    "\n",
    "# Print which variables were selected\n",
    "print(\"Was the column selected?\")\n",
    "for index, col in enumerate(X_train_std.drop(['sqft_lot15_log',\n",
    "                              'sqft_living_log'], axis=1).columns):\n",
    "    print(f\"{col}: {selector.support_[index]}\")"
   ]
  },
  {
   "cell_type": "markdown",
   "metadata": {},
   "source": [
    "bedrooms and waterfront_missing were not selected, so our fourth model will exclude these two features."
   ]
  },
  {
   "cell_type": "code",
   "execution_count": 619,
   "metadata": {},
   "outputs": [],
   "source": [
    "fourth_model = LinearRegression()"
   ]
  },
  {
   "cell_type": "code",
   "execution_count": 621,
   "metadata": {
    "scrolled": true
   },
   "outputs": [
    {
     "name": "stdout",
     "output_type": "stream",
     "text": [
      "Train score:      0.6547286821033663\n",
      "Validation score: 0.6599512563234294\n"
     ]
    }
   ],
   "source": [
    "fourth_model_scores = cross_validate(\n",
    "    estimator=fourth_model,\n",
    "    X=X_train_std.drop(['waterfront_missing', 'sqft_living_log',\n",
    "                              'sqft_lot15_log'], axis=1),\n",
    "    y=y_train,\n",
    "    return_train_score=True,\n",
    "    cv=splitter\n",
    ")\n",
    "\n",
    "print(\"Train score:     \", fourth_model_scores[\"train_score\"].mean())\n",
    "print(\"Validation score:\", fourth_model_scores[\"test_score\"].mean())"
   ]
  },
  {
   "cell_type": "markdown",
   "metadata": {},
   "source": [
    "Feature selection slightly increased our test score to 0.6599."
   ]
  },
  {
   "cell_type": "markdown",
   "metadata": {},
   "source": [
    "### Final Model\n",
    "Given the results from our models above, the final model will include all predictors from X_train except sqft_lot_log, sqft_living_log, sqft_above_log, bedrooms, and waterfront_missing. "
   ]
  },
  {
   "cell_type": "code",
   "execution_count": 622,
   "metadata": {},
   "outputs": [],
   "source": [
    "X_train_final = X_train_std.drop(['waterfront_missing', 'sqft_lot15_log',\n",
    "                              'sqft_living_log'], axis=1)\n",
    "X_test_final = X_test_std.drop(['waterfront_missing', 'sqft_lot15_log',\n",
    "                              'sqft_living_log'], axis=1)"
   ]
  },
  {
   "cell_type": "code",
   "execution_count": 623,
   "metadata": {},
   "outputs": [],
   "source": [
    "final_model = LinearRegression()"
   ]
  },
  {
   "cell_type": "code",
   "execution_count": 624,
   "metadata": {},
   "outputs": [
    {
     "data": {
      "text/plain": [
       "LinearRegression()"
      ]
     },
     "execution_count": 624,
     "metadata": {},
     "output_type": "execute_result"
    }
   ],
   "source": [
    "#construct model using final selected data\n",
    "final_model.fit(X_train_final, y_train)"
   ]
  },
  {
   "cell_type": "code",
   "execution_count": 625,
   "metadata": {
    "scrolled": true
   },
   "outputs": [
    {
     "data": {
      "text/plain": [
       "0.6628411393616467"
      ]
     },
     "execution_count": 625,
     "metadata": {},
     "output_type": "execute_result"
    }
   ],
   "source": [
    "#R-squared score of the test set\n",
    "final_model.score(X_test_final, y_test)"
   ]
  },
  {
   "cell_type": "markdown",
   "metadata": {},
   "source": [
    "## Check for Linear Regression Assumptions\n",
    "Before using the final model for anlaysis, I need to check that the model meets the assumptions of linear regression of linearity, normality, and homoscedasticity."
   ]
  },
  {
   "cell_type": "markdown",
   "metadata": {},
   "source": [
    "### Linearity"
   ]
  },
  {
   "cell_type": "code",
   "execution_count": 626,
   "metadata": {
    "scrolled": false
   },
   "outputs": [
    {
     "data": {
      "image/png": "[encoded data removed]",
      "text/plain": [
       "<Figure size 432x288 with 1 Axes>"
      ]
     },
     "metadata": {
      "needs_background": "light"
     },
     "output_type": "display_data"
    }
   ],
   "source": [
    "#predict the log(price) values based on X_test set\n",
    "preds = final_model.predict(X_test_final)\n",
    "\n",
    "#plot the predicted data vs the actual and compare to perfect line\n",
    "fig, ax = plt.subplots()\n",
    "perfect_line = np.arange(y_test.min(), y_test.max())\n",
    "ax.plot(perfect_line, perfect_line, linestyle=\"--\", color=\"orange\", label=\"Perfect Fit\")\n",
    "ax.scatter(y_test, preds, alpha=0.5)\n",
    "ax.set_xlabel(\"Actual log(Price)\")\n",
    "ax.set_ylabel(\"Predicted log(Price)\")\n",
    "ax.legend();"
   ]
  },
  {
   "cell_type": "markdown",
   "metadata": {},
   "source": [
    "The model is sufficiently linear, and thus fulfills the linearity assumption."
   ]
  },
  {
   "cell_type": "markdown",
   "metadata": {},
   "source": [
    "### Normality"
   ]
  },
  {
   "cell_type": "code",
   "execution_count": 627,
   "metadata": {
    "scrolled": true
   },
   "outputs": [
    {
     "name": "stderr",
     "output_type": "stream",
     "text": [
      "C:\\Users\\bento\\anaconda3.0\\lib\\site-packages\\statsmodels\\graphics\\gofplots.py:993: UserWarning: marker is redundantly defined by the 'marker' keyword argument and the fmt string \"bo\" (-> marker='o'). The keyword argument will take precedence.\n",
      "  ax.plot(x, y, fmt, **plot_style)\n"
     ]
    },
    {
     "data": {
      "image/png": "[encoded data removed]",
      "text/plain": [
       "<Figure size 432x288 with 1 Axes>"
      ]
     },
     "metadata": {
      "needs_background": "light"
     },
     "output_type": "display_data"
    }
   ],
   "source": [
    "#calculate the residuals(differnce between actrual and predicted)\n",
    "residuals = (y_test - preds)\n",
    "#graph qq-plot\n",
    "sm.graphics.qqplot(residuals, dist=stats.norm, line='45', fit=True);"
   ]
  },
  {
   "cell_type": "markdown",
   "metadata": {},
   "source": [
    "The qq-plot of the residuals is linear thus the normality assumption is fulfilled."
   ]
  },
  {
   "cell_type": "markdown",
   "metadata": {},
   "source": [
    "### Homoscedasticity"
   ]
  },
  {
   "cell_type": "code",
   "execution_count": 628,
   "metadata": {
    "scrolled": false
   },
   "outputs": [
    {
     "data": {
      "image/png": "[encoded data removed]",
      "text/plain": [
       "<Figure size 432x288 with 1 Axes>"
      ]
     },
     "metadata": {
      "needs_background": "light"
     },
     "output_type": "display_data"
    }
   ],
   "source": [
    "fig, ax = plt.subplots()\n",
    "\n",
    "#plot the predicted data vs its residuals\n",
    "ax.scatter(preds, residuals, alpha=0.5)\n",
    "ax.plot(preds, [0 for i in range(len(X_test))])\n",
    "ax.set_xlabel(\"Predicted Value\")\n",
    "ax.set_ylabel(\"Actual - Predicted Value\");"
   ]
  },
  {
   "cell_type": "markdown",
   "metadata": {},
   "source": [
    "The plot above is not significantly cone shaped thus the homoscedasticity assumption is fulfilled."
   ]
  },
  {
   "cell_type": "markdown",
   "metadata": {},
   "source": [
    "## Model Interpretation\n",
    "Now that the model has proven to follow the assumptions of linear regression, I can now interpret the model."
   ]
  },
  {
   "cell_type": "code",
   "execution_count": 634,
   "metadata": {
    "scrolled": true
   },
   "outputs": [
    {
     "name": "stdout",
     "output_type": "stream",
     "text": [
      "                   Coefficients\n",
      "bedrooms              -0.024611\n",
      "bathrooms              0.061646\n",
      "floors                 0.036693\n",
      "condition              0.029089\n",
      "grade                  0.257648\n",
      "yr_built              -0.173024\n",
      "is_basement            0.079572\n",
      "sqft_lot_log          -0.037562\n",
      "sqft_above_log         0.105827\n",
      "sqft_living15_log      0.095791\n",
      "waterfront             0.573009\n",
      "\n",
      "Intercept: 13.042780472043018\n"
     ]
    }
   ],
   "source": [
    "#define model coefficients into dataframe\n",
    "coefs = pd.DataFrame(final_model.coef_, index=X_train_final.columns, columns=[\"Coefficients\"])\n",
    "print(coefs)\n",
    "print()\n",
    "print(\"Intercept:\", final_model.intercept_)"
   ]
  },
  {
   "cell_type": "code",
   "execution_count": 643,
   "metadata": {},
   "outputs": [
    {
     "name": "stdout",
     "output_type": "stream",
     "text": [
      "Waterfront:  77.35950470648329\n",
      "Grade:  29.388323994499466\n",
      "Yr_Built:  -15.8882499438058\n",
      "Intercept:  461750.72678654443\n"
     ]
    }
   ],
   "source": [
    "#Top 3 coefficients adjusted for transformation and standarization\n",
    "waterfront_coef = (np.exp(coefs['Coefficients'].waterfront) - 1)*100\n",
    "print(\"Waterfront: \", waterfront_coef)\n",
    "grade_coef = (np.exp(coefs['Coefficients'].grade) - 1)*100\n",
    "print(\"Grade: \", grade_coef)\n",
    "yr_built_coef = (np.exp(coefs['Coefficients'].yr_built) - 1)*100\n",
    "print(\"Yr_Built: \", yr_built_coef)\n",
    "\n",
    "intercept_adj = np.exp(final_model.intercept_)\n",
    "print(\"Intercept: \", intercept_adj)"
   ]
  },
  {
   "cell_type": "markdown",
   "metadata": {},
   "source": [
    "According to the final model, our base housing price for King's County is $461,529. The three most significant predictors of price are waterfont views, house grade, and the year built. Having a waterfront view increases the house price by 74%. A one stadnard deviation increase in house grade results in a 24% increase in house price. And for every one standard deviation increase in year built, house price goes down by about 16%. The final model has an R-squared value of 0.65, meaning that 65% of the variance in the data is described by the model. The model fulfills all three assumptions of linear regression, and thus can be used for inferential analysis"
   ]
  },
  {
   "cell_type": "markdown",
   "metadata": {},
   "source": [
    "## Renovation Analysis\n",
    "The business problem was to provide recommendations on how house renovations impact price, thus I want to take a closer look at just the variables that can be most easily altered by renovations. These include grade, condition, and number of bathrooms. "
   ]
  },
  {
   "cell_type": "code",
   "execution_count": 644,
   "metadata": {},
   "outputs": [],
   "source": [
    "#select coefficients that can be affected by renovations\n",
    "reno_coefs = coefs.loc[['grade', 'condition', 'bathrooms'], :]\n",
    "\n",
    "#calculate their original standard deviations\n",
    "reno_coefs['stds'] =  [X_train[i].std() for i in reno_coefs.index]\n",
    "\n",
    "#calculate adjusted coefficient values\n",
    "reno_coefs['Adj_coefficients'] = (np.exp(reno_coefs.Coefficients) - 1)*100 / reno_coefs.stds\n",
    "reno_coefs.sort_values(by='Coefficients', inplace=True)\n",
    "reno_coefs.reset_index(inplace=True)"
   ]
  },
  {
   "cell_type": "code",
   "execution_count": 647,
   "metadata": {},
   "outputs": [],
   "source": [
    "#define function for format of y-axis ticks\n",
    "def y_tick_format(y, pos):\n",
    "    new_format = '{}%'.format(y)\n",
    "    return new_format"
   ]
  },
  {
   "cell_type": "code",
   "execution_count": 648,
   "metadata": {
    "scrolled": false
   },
   "outputs": [
    {
     "data": {
      "image/png": "[encoded data removed]",
      "text/plain": [
       "<Figure size 720x576 with 1 Axes>"
      ]
     },
     "metadata": {
      "needs_background": "light"
     },
     "output_type": "display_data"
    }
   ],
   "source": [
    "#define figure\n",
    "fig, ax = plt.subplots(figsize=(10,8));\n",
    "#plot adjusted \n",
    "reno_coefs.plot.bar(ax=ax, x='index', y='Adj_coefficients');\n",
    "ax.set_ylim([0, 30]);\n",
    "ax.set(xlabel=None);\n",
    "ax.set_ylabel('Price Increase', fontsize=18)\n",
    "ax.set_xticklabels(reno_coefs['index'], rotation=0, fontsize=18);\n",
    "ax.get_legend().remove();\n",
    "ax.set_title('House Price Change per Unit Increase\\n in Predictor Variable', fontsize=20);\n",
    "ax.yaxis.set_major_formatter(ticker.FuncFormatter(y_tick_format));\n",
    "ax.yaxis.set_major_locator(ticker.MultipleLocator(5))\n",
    "ax.yaxis.set_minor_locator(ticker.MultipleLocator(1))"
   ]
  },
  {
   "cell_type": "markdown",
   "metadata": {},
   "source": [
    "## Conclusions"
   ]
  },
  {
   "cell_type": "markdown",
   "metadata": {},
   "source": [
    "- **Homeowners should invest in the maintenance and repair of worn out hosuse features:** maintening and repairing house features such as paint, roofing, plumbing, etc. to improve overall house condition can increase of house's sale price.\n",
    "- **Add a full or half bathroom to an exisiting unused area in the house:** an additional full bathroom in a house can increase the price by about 8.6%. According to homeadvisor, the average cost of a new bathroom is $15,000, thus for any house over $200,000, adding a new bathrooms presents a good return on investment\n",
    "- **Home owners with larger budgets should invest in construction and design upgrades:** improving a house's grade by upadting to higher quality materials and features and improving design aspects can increase a house price by nearly 25% per unit grade increase."
   ]
  },
  {
   "cell_type": "markdown",
   "metadata": {},
   "source": [
    "## Next Steps"
   ]
  },
  {
   "cell_type": "markdown",
   "metadata": {},
   "source": [
    "- **Search for addition data to add to model to imporove prediction accuracy:** the r-squared value of 0.65 is not ideal for use in predicting price. Adding additional data not included in this dataset may improve the accuracy.\n",
    "- **Determine what design attributes most imporve house grade:** housing grade is the second strongest predictor of house price, and is partly determined by the design and construction quality of the house. Knowing what defines quality design will be helpful in making more specific recommendations.\n",
    "- **Look at how location within King County affects house price:** this model did not include latitude and longitutde. Including some metric for location in a future model may impact the relative importance of other predictor variables."
   ]
  }
 ],
 "metadata": {
  "kernelspec": {
   "display_name": "Python 3 (ipykernel)",
   "language": "python",
   "name": "python3"
  },
  "language_info": {
   "codemirror_mode": {
    "name": "ipython",
    "version": 3
   },
   "file_extension": ".py",
   "mimetype": "text/x-python",
   "name": "python",
   "nbconvert_exporter": "python",
   "pygments_lexer": "ipython3",
   "version": "3.9.7"
  },
  "toc": {
   "base_numbering": 1,
   "nav_menu": {},
   "number_sections": true,
   "sideBar": true,
   "skip_h1_title": false,
   "title_cell": "Table of Contents",
   "title_sidebar": "Contents",
   "toc_cell": false,
   "toc_position": {},
   "toc_section_display": true,
   "toc_window_display": false
  }
 },
 "nbformat": 4,
 "nbformat_minor": 2
}
