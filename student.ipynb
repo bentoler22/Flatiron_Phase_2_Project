{
 "cells": [
  {
   "cell_type": "markdown",
   "metadata": {},
   "source": [
    "# Housing Renovation Analysis"
   ]
  },
  {
   "cell_type": "markdown",
   "metadata": {},
   "source": [
    "<img src=\"images/housing.jpg\" alt=\"Drawing\" style=\"width: 1000px;height:300px;float: left;\"/>"
   ]
  },
  {
   "cell_type": "markdown",
   "metadata": {},
   "source": [
    "## Overview\n",
    "This project uses linear regression analysis to infer how certain variables impact housing prices and by how much. Analysis of data from King County House Sales shows that house condition, grade, and bathroom number are three key features that can increase a house's price. Any home seller can use this information to make decisions on potential renovations. "
   ]
  },
  {
   "cell_type": "markdown",
   "metadata": {},
   "source": [
    "## Business Problem\n",
    "A real estate agency is looking to guide homeowners who looking to sell their houses. They want to provied these homeowners with anlaysis of how renovations may impact the price of their home."
   ]
  },
  {
   "cell_type": "markdown",
   "metadata": {},
   "source": [
    "## Data Understanding\n",
    "This project uses data from the King County House Sales dataset. It includes information on house age, size, condition and other features."
   ]
  },
  {
   "cell_type": "code",
   "execution_count": 419,
   "metadata": {
    "scrolled": true
   },
   "outputs": [],
   "source": [
    "import pandas as pd\n",
    "import numpy as np\n",
    "import matplotlib.pyplot as plt\n",
    "from sklearn.linear_model import LinearRegression\n",
    "\n",
    "%matplotlib inline"
   ]
  },
  {
   "cell_type": "code",
   "execution_count": 420,
   "metadata": {
    "scrolled": false
   },
   "outputs": [
    {
     "data": {
      "text/html": [
       "<div>\n",
       "<style scoped>\n",
       "    .dataframe tbody tr th:only-of-type {\n",
       "        vertical-align: middle;\n",
       "    }\n",
       "\n",
       "    .dataframe tbody tr th {\n",
       "        vertical-align: top;\n",
       "    }\n",
       "\n",
       "    .dataframe thead th {\n",
       "        text-align: right;\n",
       "    }\n",
       "</style>\n",
       "<table border=\"1\" class=\"dataframe\">\n",
       "  <thead>\n",
       "    <tr style=\"text-align: right;\">\n",
       "      <th></th>\n",
       "      <th>id</th>\n",
       "      <th>date</th>\n",
       "      <th>price</th>\n",
       "      <th>bedrooms</th>\n",
       "      <th>bathrooms</th>\n",
       "      <th>sqft_living</th>\n",
       "      <th>sqft_lot</th>\n",
       "      <th>floors</th>\n",
       "      <th>waterfront</th>\n",
       "      <th>view</th>\n",
       "      <th>...</th>\n",
       "      <th>grade</th>\n",
       "      <th>sqft_above</th>\n",
       "      <th>sqft_basement</th>\n",
       "      <th>yr_built</th>\n",
       "      <th>yr_renovated</th>\n",
       "      <th>zipcode</th>\n",
       "      <th>lat</th>\n",
       "      <th>long</th>\n",
       "      <th>sqft_living15</th>\n",
       "      <th>sqft_lot15</th>\n",
       "    </tr>\n",
       "  </thead>\n",
       "  <tbody>\n",
       "    <tr>\n",
       "      <th>0</th>\n",
       "      <td>7129300520</td>\n",
       "      <td>10/13/2014</td>\n",
       "      <td>221900.0</td>\n",
       "      <td>3</td>\n",
       "      <td>1.00</td>\n",
       "      <td>1180</td>\n",
       "      <td>5650</td>\n",
       "      <td>1.0</td>\n",
       "      <td>NaN</td>\n",
       "      <td>NONE</td>\n",
       "      <td>...</td>\n",
       "      <td>7 Average</td>\n",
       "      <td>1180</td>\n",
       "      <td>0.0</td>\n",
       "      <td>1955</td>\n",
       "      <td>0.0</td>\n",
       "      <td>98178</td>\n",
       "      <td>47.5112</td>\n",
       "      <td>-122.257</td>\n",
       "      <td>1340</td>\n",
       "      <td>5650</td>\n",
       "    </tr>\n",
       "    <tr>\n",
       "      <th>1</th>\n",
       "      <td>6414100192</td>\n",
       "      <td>12/9/2014</td>\n",
       "      <td>538000.0</td>\n",
       "      <td>3</td>\n",
       "      <td>2.25</td>\n",
       "      <td>2570</td>\n",
       "      <td>7242</td>\n",
       "      <td>2.0</td>\n",
       "      <td>NO</td>\n",
       "      <td>NONE</td>\n",
       "      <td>...</td>\n",
       "      <td>7 Average</td>\n",
       "      <td>2170</td>\n",
       "      <td>400.0</td>\n",
       "      <td>1951</td>\n",
       "      <td>1991.0</td>\n",
       "      <td>98125</td>\n",
       "      <td>47.7210</td>\n",
       "      <td>-122.319</td>\n",
       "      <td>1690</td>\n",
       "      <td>7639</td>\n",
       "    </tr>\n",
       "    <tr>\n",
       "      <th>2</th>\n",
       "      <td>5631500400</td>\n",
       "      <td>2/25/2015</td>\n",
       "      <td>180000.0</td>\n",
       "      <td>2</td>\n",
       "      <td>1.00</td>\n",
       "      <td>770</td>\n",
       "      <td>10000</td>\n",
       "      <td>1.0</td>\n",
       "      <td>NO</td>\n",
       "      <td>NONE</td>\n",
       "      <td>...</td>\n",
       "      <td>6 Low Average</td>\n",
       "      <td>770</td>\n",
       "      <td>0.0</td>\n",
       "      <td>1933</td>\n",
       "      <td>NaN</td>\n",
       "      <td>98028</td>\n",
       "      <td>47.7379</td>\n",
       "      <td>-122.233</td>\n",
       "      <td>2720</td>\n",
       "      <td>8062</td>\n",
       "    </tr>\n",
       "    <tr>\n",
       "      <th>3</th>\n",
       "      <td>2487200875</td>\n",
       "      <td>12/9/2014</td>\n",
       "      <td>604000.0</td>\n",
       "      <td>4</td>\n",
       "      <td>3.00</td>\n",
       "      <td>1960</td>\n",
       "      <td>5000</td>\n",
       "      <td>1.0</td>\n",
       "      <td>NO</td>\n",
       "      <td>NONE</td>\n",
       "      <td>...</td>\n",
       "      <td>7 Average</td>\n",
       "      <td>1050</td>\n",
       "      <td>910.0</td>\n",
       "      <td>1965</td>\n",
       "      <td>0.0</td>\n",
       "      <td>98136</td>\n",
       "      <td>47.5208</td>\n",
       "      <td>-122.393</td>\n",
       "      <td>1360</td>\n",
       "      <td>5000</td>\n",
       "    </tr>\n",
       "    <tr>\n",
       "      <th>4</th>\n",
       "      <td>1954400510</td>\n",
       "      <td>2/18/2015</td>\n",
       "      <td>510000.0</td>\n",
       "      <td>3</td>\n",
       "      <td>2.00</td>\n",
       "      <td>1680</td>\n",
       "      <td>8080</td>\n",
       "      <td>1.0</td>\n",
       "      <td>NO</td>\n",
       "      <td>NONE</td>\n",
       "      <td>...</td>\n",
       "      <td>8 Good</td>\n",
       "      <td>1680</td>\n",
       "      <td>0.0</td>\n",
       "      <td>1987</td>\n",
       "      <td>0.0</td>\n",
       "      <td>98074</td>\n",
       "      <td>47.6168</td>\n",
       "      <td>-122.045</td>\n",
       "      <td>1800</td>\n",
       "      <td>7503</td>\n",
       "    </tr>\n",
       "  </tbody>\n",
       "</table>\n",
       "<p>5 rows × 21 columns</p>\n",
       "</div>"
      ],
      "text/plain": [
       "           id        date     price  bedrooms  bathrooms  sqft_living  \\\n",
       "0  7129300520  10/13/2014  221900.0         3       1.00         1180   \n",
       "1  6414100192   12/9/2014  538000.0         3       2.25         2570   \n",
       "2  5631500400   2/25/2015  180000.0         2       1.00          770   \n",
       "3  2487200875   12/9/2014  604000.0         4       3.00         1960   \n",
       "4  1954400510   2/18/2015  510000.0         3       2.00         1680   \n",
       "\n",
       "   sqft_lot  floors waterfront  view  ...          grade sqft_above  \\\n",
       "0      5650     1.0        NaN  NONE  ...      7 Average       1180   \n",
       "1      7242     2.0         NO  NONE  ...      7 Average       2170   \n",
       "2     10000     1.0         NO  NONE  ...  6 Low Average        770   \n",
       "3      5000     1.0         NO  NONE  ...      7 Average       1050   \n",
       "4      8080     1.0         NO  NONE  ...         8 Good       1680   \n",
       "\n",
       "   sqft_basement yr_built  yr_renovated  zipcode      lat     long  \\\n",
       "0            0.0     1955           0.0    98178  47.5112 -122.257   \n",
       "1          400.0     1951        1991.0    98125  47.7210 -122.319   \n",
       "2            0.0     1933           NaN    98028  47.7379 -122.233   \n",
       "3          910.0     1965           0.0    98136  47.5208 -122.393   \n",
       "4            0.0     1987           0.0    98074  47.6168 -122.045   \n",
       "\n",
       "   sqft_living15  sqft_lot15  \n",
       "0           1340        5650  \n",
       "1           1690        7639  \n",
       "2           2720        8062  \n",
       "3           1360        5000  \n",
       "4           1800        7503  \n",
       "\n",
       "[5 rows x 21 columns]"
      ]
     },
     "execution_count": 420,
     "metadata": {},
     "output_type": "execute_result"
    }
   ],
   "source": [
    "df = pd.read_csv('data/kc_house_data.csv')\n",
    "df.head(5)"
   ]
  },
  {
   "cell_type": "code",
   "execution_count": 421,
   "metadata": {
    "scrolled": true
   },
   "outputs": [
    {
     "name": "stdout",
     "output_type": "stream",
     "text": [
      "<class 'pandas.core.frame.DataFrame'>\n",
      "RangeIndex: 21597 entries, 0 to 21596\n",
      "Data columns (total 21 columns):\n",
      " #   Column         Non-Null Count  Dtype  \n",
      "---  ------         --------------  -----  \n",
      " 0   id             21597 non-null  int64  \n",
      " 1   date           21597 non-null  object \n",
      " 2   price          21597 non-null  float64\n",
      " 3   bedrooms       21597 non-null  int64  \n",
      " 4   bathrooms      21597 non-null  float64\n",
      " 5   sqft_living    21597 non-null  int64  \n",
      " 6   sqft_lot       21597 non-null  int64  \n",
      " 7   floors         21597 non-null  float64\n",
      " 8   waterfront     19221 non-null  object \n",
      " 9   view           21534 non-null  object \n",
      " 10  condition      21597 non-null  object \n",
      " 11  grade          21597 non-null  object \n",
      " 12  sqft_above     21597 non-null  int64  \n",
      " 13  sqft_basement  21597 non-null  object \n",
      " 14  yr_built       21597 non-null  int64  \n",
      " 15  yr_renovated   17755 non-null  float64\n",
      " 16  zipcode        21597 non-null  int64  \n",
      " 17  lat            21597 non-null  float64\n",
      " 18  long           21597 non-null  float64\n",
      " 19  sqft_living15  21597 non-null  int64  \n",
      " 20  sqft_lot15     21597 non-null  int64  \n",
      "dtypes: float64(6), int64(9), object(6)\n",
      "memory usage: 3.5+ MB\n"
     ]
    }
   ],
   "source": [
    "df.info()"
   ]
  },
  {
   "cell_type": "code",
   "execution_count": 422,
   "metadata": {},
   "outputs": [
    {
     "data": {
      "text/plain": [
       "0.0       12826\n",
       "?           454\n",
       "600.0       217\n",
       "500.0       209\n",
       "700.0       208\n",
       "          ...  \n",
       "1920.0        1\n",
       "3480.0        1\n",
       "2730.0        1\n",
       "2720.0        1\n",
       "248.0         1\n",
       "Name: sqft_basement, Length: 304, dtype: int64"
      ]
     },
     "execution_count": 422,
     "metadata": {},
     "output_type": "execute_result"
    }
   ],
   "source": [
    "df.sqft_basement.value_counts()"
   ]
  },
  {
   "cell_type": "markdown",
   "metadata": {},
   "source": [
    "## Data Preparation"
   ]
  },
  {
   "cell_type": "markdown",
   "metadata": {},
   "source": [
    "### Data Cleaning\n",
    "Drop irrelevant columns, address missing values and manipulate data into desired forms"
   ]
  },
  {
   "cell_type": "code",
   "execution_count": 423,
   "metadata": {},
   "outputs": [],
   "source": [
    "#drop irrelevant columns\n",
    "df.drop(['id', 'date', 'zipcode', 'lat', 'long', 'yr_renovated', 'view'], axis=1, inplace=True)"
   ]
  },
  {
   "cell_type": "code",
   "execution_count": 424,
   "metadata": {},
   "outputs": [],
   "source": [
    "#fill in missing sqft_basement values\n",
    "df.loc[df.sqft_basement == '?', 'sqft_basement'] = (df[df.sqft_basement == '?'].sqft_living\n",
    "                               - df[df.sqft_basement == '?'].sqft_above)\n",
    "\n",
    "#convert into numeric\n",
    "df['sqft_basement'] = df.sqft_basement.astype('float64')\n",
    "\n",
    "#convert into categorical variable\n",
    "df['is_basement'] = df.sqft_basement.map(lambda x: 0 if x == 0 else 1)\n",
    "df.drop('sqft_basement', axis=1, inplace=True)"
   ]
  },
  {
   "cell_type": "code",
   "execution_count": 425,
   "metadata": {},
   "outputs": [],
   "source": [
    "#convert condition and grade into numeric values\n",
    "df['condition'] = df.condition.map(lambda x: 0 if x=='Poor' \n",
    "                                   else (1 if x=='Fair'\n",
    "                                    else (2 if x=='Average'\n",
    "                                    else  (3 if x=='Good' else 4))))\n",
    "\n",
    "df['grade'] = df.grade.map(lambda x: int(x[0:2])-3)"
   ]
  },
  {
   "cell_type": "code",
   "execution_count": 426,
   "metadata": {},
   "outputs": [
    {
     "data": {
      "text/plain": [
       "2376"
      ]
     },
     "execution_count": 426,
     "metadata": {},
     "output_type": "execute_result"
    }
   ],
   "source": [
    "df.waterfront.isna().sum()"
   ]
  },
  {
   "cell_type": "code",
   "execution_count": 427,
   "metadata": {},
   "outputs": [],
   "source": [
    "categoricals = ['waterfront']"
   ]
  },
  {
   "cell_type": "code",
   "execution_count": 428,
   "metadata": {},
   "outputs": [],
   "source": [
    "dummies = pd.get_dummies(df[categoricals], prefix=categoricals, drop_first=True)"
   ]
  },
  {
   "cell_type": "code",
   "execution_count": 429,
   "metadata": {},
   "outputs": [],
   "source": [
    "df.drop(categoricals, axis=1, inplace=True)\n",
    "df = pd.concat([df, dummies], axis=1)"
   ]
  },
  {
   "cell_type": "markdown",
   "metadata": {},
   "source": [
    "### Transformation and Scaling"
   ]
  },
  {
   "cell_type": "code",
   "execution_count": 430,
   "metadata": {},
   "outputs": [],
   "source": [
    "#continuous variables\n",
    "cont_data = df.loc[:, ((df.dtypes != 'object') & (df.nunique() > 20))]"
   ]
  },
  {
   "cell_type": "code",
   "execution_count": 431,
   "metadata": {
    "scrolled": true
   },
   "outputs": [
    {
     "data": {
      "image/png": "[encoded data removed]",
      "text/plain": [
       "<Figure size 720x720 with 9 Axes>"
      ]
     },
     "metadata": {
      "needs_background": "light"
     },
     "output_type": "display_data"
    }
   ],
   "source": [
    "cont_data.hist(bins='auto', figsize=(10,10));"
   ]
  },
  {
   "cell_type": "code",
   "execution_count": 432,
   "metadata": {
    "scrolled": true
   },
   "outputs": [
    {
     "data": {
      "image/png": "[encoded data removed]",
      "text/plain": [
       "<Figure size 720x720 with 9 Axes>"
      ]
     },
     "metadata": {
      "needs_background": "light"
     },
     "output_type": "display_data"
    }
   ],
   "source": [
    "#log transforms of continuous variables\n",
    "log_names = [f'{column}_log' for column in cont_data.columns]\n",
    "\n",
    "cont_log = np.log(cont_data);\n",
    "cont_log.columns = log_names;\n",
    "cont_log.hist(figsize=(10, 10), bins='auto');"
   ]
  },
  {
   "cell_type": "code",
   "execution_count": 433,
   "metadata": {},
   "outputs": [],
   "source": [
    "#replace continuous variables with log transforms\n",
    "df.drop(cont_data.columns, axis=1, inplace=True)\n",
    "data = pd.concat([df,cont_log],  axis=1)"
   ]
  },
  {
   "cell_type": "code",
   "execution_count": 471,
   "metadata": {},
   "outputs": [],
   "source": [
    "#feature scaling\n",
    "from sklearn import preprocessing\n",
    "std_scale = preprocessing.StandardScaler().fit(data.drop('waterfront_YES', axis=1))\n",
    "data_std = std_scale.transform(data.drop('waterfront_YES', axis=1))\n",
    "data_std = pd.DataFrame(data_std, columns=data.drop('waterfront_YES', axis=1).columns)"
   ]
  },
  {
   "cell_type": "code",
   "execution_count": 472,
   "metadata": {},
   "outputs": [],
   "source": [
    "final_data = pd.concat([data_std,data.waterfront_YES],  axis=1)"
   ]
  },
  {
   "cell_type": "markdown",
   "metadata": {},
   "source": [
    "## Modeling"
   ]
  },
  {
   "cell_type": "code",
   "execution_count": 473,
   "metadata": {},
   "outputs": [],
   "source": [
    "X = final_data.drop('price_log', axis=1)\n",
    "y = final_data.price_log"
   ]
  },
  {
   "cell_type": "code",
   "execution_count": 474,
   "metadata": {},
   "outputs": [],
   "source": [
    "from sklearn.model_selection import train_test_split\n",
    "X_train, X_test, y_train, y_test = train_test_split(X, y, test_size=0.25)"
   ]
  },
  {
   "cell_type": "code",
   "execution_count": 153,
   "metadata": {},
   "outputs": [],
   "source": [
    "features = ['condition', 'bathrooms','grade']"
   ]
  },
  {
   "cell_type": "code",
   "execution_count": 475,
   "metadata": {
    "scrolled": false
   },
   "outputs": [
    {
     "name": "stderr",
     "output_type": "stream",
     "text": [
      "C:\\Users\\bento\\anaconda3.0\\lib\\site-packages\\statsmodels\\tsa\\tsatools.py:142: FutureWarning: In a future version of pandas all arguments of concat except for the argument 'objs' will be keyword-only\n",
      "  x = pd.concat(x[::order], 1)\n"
     ]
    }
   ],
   "source": [
    "import statsmodels.api as sm\n",
    "\n",
    "model = sm.OLS(y_train, sm.add_constant(X_train.drop('sqft_lot_log', axis=1))).fit()"
   ]
  },
  {
   "cell_type": "code",
   "execution_count": 476,
   "metadata": {},
   "outputs": [
    {
     "data": {
      "text/html": [
       "<table class=\"simpletable\">\n",
       "<caption>OLS Regression Results</caption>\n",
       "<tr>\n",
       "  <th>Dep. Variable:</th>        <td>price_log</td>    <th>  R-squared:         </th> <td>   0.661</td> \n",
       "</tr>\n",
       "<tr>\n",
       "  <th>Model:</th>                   <td>OLS</td>       <th>  Adj. R-squared:    </th> <td>   0.661</td> \n",
       "</tr>\n",
       "<tr>\n",
       "  <th>Method:</th>             <td>Least Squares</td>  <th>  F-statistic:       </th> <td>   2628.</td> \n",
       "</tr>\n",
       "<tr>\n",
       "  <th>Date:</th>             <td>Sun, 16 Jan 2022</td> <th>  Prob (F-statistic):</th>  <td>  0.00</td>  \n",
       "</tr>\n",
       "<tr>\n",
       "  <th>Time:</th>                 <td>17:16:30</td>     <th>  Log-Likelihood:    </th> <td> -14257.</td> \n",
       "</tr>\n",
       "<tr>\n",
       "  <th>No. Observations:</th>      <td> 16197</td>      <th>  AIC:               </th> <td>2.854e+04</td>\n",
       "</tr>\n",
       "<tr>\n",
       "  <th>Df Residuals:</th>          <td> 16184</td>      <th>  BIC:               </th> <td>2.864e+04</td>\n",
       "</tr>\n",
       "<tr>\n",
       "  <th>Df Model:</th>              <td>    12</td>      <th>                     </th>     <td> </td>    \n",
       "</tr>\n",
       "<tr>\n",
       "  <th>Covariance Type:</th>      <td>nonrobust</td>    <th>                     </th>     <td> </td>    \n",
       "</tr>\n",
       "</table>\n",
       "<table class=\"simpletable\">\n",
       "<tr>\n",
       "          <td></td>             <th>coef</th>     <th>std err</th>      <th>t</th>      <th>P>|t|</th>  <th>[0.025</th>    <th>0.975]</th>  \n",
       "</tr>\n",
       "<tr>\n",
       "  <th>const</th>             <td>   -0.0045</td> <td>    0.005</td> <td>   -0.973</td> <td> 0.330</td> <td>   -0.014</td> <td>    0.005</td>\n",
       "</tr>\n",
       "<tr>\n",
       "  <th>bedrooms</th>          <td>   -0.0597</td> <td>    0.006</td> <td>   -9.434</td> <td> 0.000</td> <td>   -0.072</td> <td>   -0.047</td>\n",
       "</tr>\n",
       "<tr>\n",
       "  <th>floors</th>            <td>    0.0780</td> <td>    0.007</td> <td>   11.137</td> <td> 0.000</td> <td>    0.064</td> <td>    0.092</td>\n",
       "</tr>\n",
       "<tr>\n",
       "  <th>condition</th>         <td>    0.0515</td> <td>    0.005</td> <td>   10.208</td> <td> 0.000</td> <td>    0.042</td> <td>    0.061</td>\n",
       "</tr>\n",
       "<tr>\n",
       "  <th>grade</th>             <td>    0.4799</td> <td>    0.008</td> <td>   60.725</td> <td> 0.000</td> <td>    0.464</td> <td>    0.495</td>\n",
       "</tr>\n",
       "<tr>\n",
       "  <th>is_basement</th>       <td>    0.0885</td> <td>    0.010</td> <td>    9.083</td> <td> 0.000</td> <td>    0.069</td> <td>    0.108</td>\n",
       "</tr>\n",
       "<tr>\n",
       "  <th>bathrooms_log</th>     <td>    0.0742</td> <td>    0.008</td> <td>    8.874</td> <td> 0.000</td> <td>    0.058</td> <td>    0.091</td>\n",
       "</tr>\n",
       "<tr>\n",
       "  <th>sqft_living_log</th>   <td>    0.2071</td> <td>    0.021</td> <td>   10.044</td> <td> 0.000</td> <td>    0.167</td> <td>    0.248</td>\n",
       "</tr>\n",
       "<tr>\n",
       "  <th>sqft_above_log</th>    <td>    0.0578</td> <td>    0.020</td> <td>    2.855</td> <td> 0.004</td> <td>    0.018</td> <td>    0.098</td>\n",
       "</tr>\n",
       "<tr>\n",
       "  <th>yr_built_log</th>      <td>   -0.3224</td> <td>    0.006</td> <td>  -52.123</td> <td> 0.000</td> <td>   -0.334</td> <td>   -0.310</td>\n",
       "</tr>\n",
       "<tr>\n",
       "  <th>sqft_living15_log</th> <td>    0.1739</td> <td>    0.008</td> <td>   23.068</td> <td> 0.000</td> <td>    0.159</td> <td>    0.189</td>\n",
       "</tr>\n",
       "<tr>\n",
       "  <th>sqft_lot15_log</th>    <td>   -0.0875</td> <td>    0.006</td> <td>  -15.338</td> <td> 0.000</td> <td>   -0.099</td> <td>   -0.076</td>\n",
       "</tr>\n",
       "<tr>\n",
       "  <th>waterfront_YES</th>    <td>    1.0753</td> <td>    0.055</td> <td>   19.448</td> <td> 0.000</td> <td>    0.967</td> <td>    1.184</td>\n",
       "</tr>\n",
       "</table>\n",
       "<table class=\"simpletable\">\n",
       "<tr>\n",
       "  <th>Omnibus:</th>       <td>53.719</td> <th>  Durbin-Watson:     </th> <td>   1.992</td>\n",
       "</tr>\n",
       "<tr>\n",
       "  <th>Prob(Omnibus):</th> <td> 0.000</td> <th>  Jarque-Bera (JB):  </th> <td>  70.363</td>\n",
       "</tr>\n",
       "<tr>\n",
       "  <th>Skew:</th>          <td>-0.027</td> <th>  Prob(JB):          </th> <td>5.26e-16</td>\n",
       "</tr>\n",
       "<tr>\n",
       "  <th>Kurtosis:</th>      <td> 3.318</td> <th>  Cond. No.          </th> <td>    26.7</td>\n",
       "</tr>\n",
       "</table><br/><br/>Notes:<br/>[1] Standard Errors assume that the covariance matrix of the errors is correctly specified."
      ],
      "text/plain": [
       "<class 'statsmodels.iolib.summary.Summary'>\n",
       "\"\"\"\n",
       "                            OLS Regression Results                            \n",
       "==============================================================================\n",
       "Dep. Variable:              price_log   R-squared:                       0.661\n",
       "Model:                            OLS   Adj. R-squared:                  0.661\n",
       "Method:                 Least Squares   F-statistic:                     2628.\n",
       "Date:                Sun, 16 Jan 2022   Prob (F-statistic):               0.00\n",
       "Time:                        17:16:30   Log-Likelihood:                -14257.\n",
       "No. Observations:               16197   AIC:                         2.854e+04\n",
       "Df Residuals:                   16184   BIC:                         2.864e+04\n",
       "Df Model:                          12                                         \n",
       "Covariance Type:            nonrobust                                         \n",
       "=====================================================================================\n",
       "                        coef    std err          t      P>|t|      [0.025      0.975]\n",
       "-------------------------------------------------------------------------------------\n",
       "const                -0.0045      0.005     -0.973      0.330      -0.014       0.005\n",
       "bedrooms             -0.0597      0.006     -9.434      0.000      -0.072      -0.047\n",
       "floors                0.0780      0.007     11.137      0.000       0.064       0.092\n",
       "condition             0.0515      0.005     10.208      0.000       0.042       0.061\n",
       "grade                 0.4799      0.008     60.725      0.000       0.464       0.495\n",
       "is_basement           0.0885      0.010      9.083      0.000       0.069       0.108\n",
       "bathrooms_log         0.0742      0.008      8.874      0.000       0.058       0.091\n",
       "sqft_living_log       0.2071      0.021     10.044      0.000       0.167       0.248\n",
       "sqft_above_log        0.0578      0.020      2.855      0.004       0.018       0.098\n",
       "yr_built_log         -0.3224      0.006    -52.123      0.000      -0.334      -0.310\n",
       "sqft_living15_log     0.1739      0.008     23.068      0.000       0.159       0.189\n",
       "sqft_lot15_log       -0.0875      0.006    -15.338      0.000      -0.099      -0.076\n",
       "waterfront_YES        1.0753      0.055     19.448      0.000       0.967       1.184\n",
       "==============================================================================\n",
       "Omnibus:                       53.719   Durbin-Watson:                   1.992\n",
       "Prob(Omnibus):                  0.000   Jarque-Bera (JB):               70.363\n",
       "Skew:                          -0.027   Prob(JB):                     5.26e-16\n",
       "Kurtosis:                       3.318   Cond. No.                         26.7\n",
       "==============================================================================\n",
       "\n",
       "Notes:\n",
       "[1] Standard Errors assume that the covariance matrix of the errors is correctly specified.\n",
       "\"\"\""
      ]
     },
     "execution_count": 476,
     "metadata": {},
     "output_type": "execute_result"
    }
   ],
   "source": [
    "model.summary()"
   ]
  },
  {
   "cell_type": "code",
   "execution_count": 463,
   "metadata": {},
   "outputs": [],
   "source": [
    "X_train_final = X_train\n",
    "X_test_final = X_test"
   ]
  },
  {
   "cell_type": "code",
   "execution_count": 464,
   "metadata": {},
   "outputs": [],
   "source": [
    "final_model = LinearRegression()"
   ]
  },
  {
   "cell_type": "code",
   "execution_count": 465,
   "metadata": {},
   "outputs": [
    {
     "data": {
      "text/plain": [
       "LinearRegression()"
      ]
     },
     "execution_count": 465,
     "metadata": {},
     "output_type": "execute_result"
    }
   ],
   "source": [
    "final_model.fit(X_train_final, y_train)"
   ]
  },
  {
   "cell_type": "code",
   "execution_count": 466,
   "metadata": {
    "scrolled": true
   },
   "outputs": [
    {
     "data": {
      "text/plain": [
       "0.6682532071359475"
      ]
     },
     "execution_count": 466,
     "metadata": {},
     "output_type": "execute_result"
    }
   ],
   "source": [
    "final_model.score(X_test_final, y_test)"
   ]
  },
  {
   "cell_type": "markdown",
   "metadata": {},
   "source": [
    "## Check for Linear Regression Assumptions"
   ]
  },
  {
   "cell_type": "code",
   "execution_count": 469,
   "metadata": {
    "scrolled": true
   },
   "outputs": [
    {
     "data": {
      "image/png": "[encoded data removed]",
      "text/plain": [
       "<Figure size 432x288 with 1 Axes>"
      ]
     },
     "metadata": {
      "needs_background": "light"
     },
     "output_type": "display_data"
    }
   ],
   "source": [
    "preds = final_model.predict(X_test_final)\n",
    "fig, ax = plt.subplots()\n",
    "\n",
    "perfect_line = np.arange(y_test.min(), y_test.max())\n",
    "ax.plot(perfect_line, linestyle=\"--\", color=\"orange\", label=\"Perfect Fit\")\n",
    "ax.scatter(y_test, preds, alpha=0.5)\n",
    "ax.set_xlabel(\"Actual Price\")\n",
    "ax.set_ylabel(\"Predicted Price\")\n",
    "ax.legend();"
   ]
  },
  {
   "cell_type": "code",
   "execution_count": 459,
   "metadata": {},
   "outputs": [
    {
     "name": "stderr",
     "output_type": "stream",
     "text": [
      "C:\\Users\\bento\\anaconda3.0\\lib\\site-packages\\statsmodels\\graphics\\gofplots.py:993: UserWarning: marker is redundantly defined by the 'marker' keyword argument and the fmt string \"bo\" (-> marker='o'). The keyword argument will take precedence.\n",
      "  ax.plot(x, y, fmt, **plot_style)\n"
     ]
    },
    {
     "data": {
      "image/png": "[encoded data removed]",
      "text/plain": [
       "<Figure size 432x288 with 1 Axes>"
      ]
     },
     "metadata": {
      "needs_background": "light"
     },
     "output_type": "display_data"
    }
   ],
   "source": [
    "import scipy.stats as stats\n",
    "residuals = (y_test - preds)\n",
    "sm.graphics.qqplot(residuals, dist=stats.norm, line='45', fit=True);"
   ]
  },
  {
   "cell_type": "code",
   "execution_count": 460,
   "metadata": {
    "scrolled": false
   },
   "outputs": [
    {
     "data": {
      "image/png": "[encoded data removed]",
      "text/plain": [
       "<Figure size 432x288 with 1 Axes>"
      ]
     },
     "metadata": {
      "needs_background": "light"
     },
     "output_type": "display_data"
    }
   ],
   "source": [
    "fig, ax = plt.subplots()\n",
    "\n",
    "ax.scatter(preds, residuals, alpha=0.5)\n",
    "ax.plot(preds, [0 for i in range(len(X_test))])\n",
    "ax.set_xlabel(\"Predicted Value\")\n",
    "ax.set_ylabel(\"Actual - Predicted Value\");"
   ]
  },
  {
   "cell_type": "code",
   "execution_count": 392,
   "metadata": {},
   "outputs": [
    {
     "data": {
      "text/plain": [
       "bedrooms               27.050650\n",
       "floors                 20.441041\n",
       "condition              16.249926\n",
       "grade                  48.894828\n",
       "is_basement             7.224768\n",
       "waterfront_YES          1.023098\n",
       "bathrooms_log          11.261585\n",
       "sqft_living_log      6284.783146\n",
       "sqft_lot_log          673.558774\n",
       "sqft_above_log       5779.326369\n",
       "yr_built_log         1333.295593\n",
       "sqft_living15_log    1469.279214\n",
       "sqft_lot15_log        796.056021\n",
       "Name: Variance Inflation Factor, dtype: float64"
      ]
     },
     "execution_count": 392,
     "metadata": {},
     "output_type": "execute_result"
    }
   ],
   "source": [
    "from statsmodels.stats.outliers_influence import variance_inflation_factor\n",
    "vif = [variance_inflation_factor(X_train.values, i) for i in range(X_train.shape[1])]\n",
    "pd.Series(vif, index=X_train.columns, name=\"Variance Inflation Factor\")"
   ]
  },
  {
   "cell_type": "markdown",
   "metadata": {},
   "source": [
    "## Baseline Model"
   ]
  },
  {
   "cell_type": "code",
   "execution_count": 247,
   "metadata": {},
   "outputs": [],
   "source": [
    "baseline_model = LinearRegression()"
   ]
  },
  {
   "cell_type": "code",
   "execution_count": 252,
   "metadata": {},
   "outputs": [
    {
     "name": "stdout",
     "output_type": "stream",
     "text": [
      "Train score:      0.48774659364870426\n",
      "Validation score: 0.5024006604207555\n"
     ]
    }
   ],
   "source": [
    "from sklearn.model_selection import cross_validate, ShuffleSplit\n",
    "\n",
    "splitter = ShuffleSplit(n_splits=3, test_size=0.25, random_state=0)\n",
    "\n",
    "baseline_scores = cross_validate(\n",
    "    estimator=baseline_model,\n",
    "    X=df[['sqft_living']],\n",
    "    y=df[['price']],\n",
    "    return_train_score=True,\n",
    "    cv=splitter\n",
    ")\n",
    "\n",
    "print(\"Train score:     \", baseline_scores[\"train_score\"].mean())\n",
    "print(\"Validation score:\", baseline_scores[\"test_score\"].mean())"
   ]
  },
  {
   "cell_type": "code",
   "execution_count": 253,
   "metadata": {},
   "outputs": [
    {
     "name": "stdout",
     "output_type": "stream",
     "text": [
      "Train score:      0.686751031368749\n",
      "Validation score: 0.6755513899110218\n"
     ]
    }
   ],
   "source": [
    "from sklearn.model_selection import cross_validate, ShuffleSplit\n",
    "\n",
    "splitter = ShuffleSplit(n_splits=3, test_size=0.25, random_state=0)\n",
    "\n",
    "baseline_scores = cross_validate(\n",
    "    estimator=baseline_model,\n",
    "    X=X_train,\n",
    "    y=y_train,\n",
    "    return_train_score=True,\n",
    "    cv=splitter\n",
    ")\n",
    "\n",
    "print(\"Train score:     \", baseline_scores[\"train_score\"].mean())\n",
    "print(\"Validation score:\", baseline_scores[\"test_score\"].mean())"
   ]
  },
  {
   "cell_type": "code",
   "execution_count": 254,
   "metadata": {},
   "outputs": [
    {
     "name": "stderr",
     "output_type": "stream",
     "text": [
      "C:\\Users\\bento\\anaconda3.0\\lib\\site-packages\\statsmodels\\tsa\\tsatools.py:142: FutureWarning: In a future version of pandas all arguments of concat except for the argument 'objs' will be keyword-only\n",
      "  x = pd.concat(x[::order], 1)\n"
     ]
    },
    {
     "data": {
      "text/html": [
       "<table class=\"simpletable\">\n",
       "<caption>OLS Regression Results</caption>\n",
       "<tr>\n",
       "  <th>Dep. Variable:</th>          <td>price</td>      <th>  R-squared:         </th>  <td>   0.685</td>  \n",
       "</tr>\n",
       "<tr>\n",
       "  <th>Model:</th>                   <td>OLS</td>       <th>  Adj. R-squared:    </th>  <td>   0.684</td>  \n",
       "</tr>\n",
       "<tr>\n",
       "  <th>Method:</th>             <td>Least Squares</td>  <th>  F-statistic:       </th>  <td>   1254.</td>  \n",
       "</tr>\n",
       "<tr>\n",
       "  <th>Date:</th>             <td>Fri, 14 Jan 2022</td> <th>  Prob (F-statistic):</th>   <td>  0.00</td>   \n",
       "</tr>\n",
       "<tr>\n",
       "  <th>Time:</th>                 <td>18:36:28</td>     <th>  Log-Likelihood:    </th> <td>-2.2110e+05</td>\n",
       "</tr>\n",
       "<tr>\n",
       "  <th>No. Observations:</th>      <td> 16197</td>      <th>  AIC:               </th>  <td>4.423e+05</td> \n",
       "</tr>\n",
       "<tr>\n",
       "  <th>Df Residuals:</th>          <td> 16168</td>      <th>  BIC:               </th>  <td>4.425e+05</td> \n",
       "</tr>\n",
       "<tr>\n",
       "  <th>Df Model:</th>              <td>    28</td>      <th>                     </th>      <td> </td>     \n",
       "</tr>\n",
       "<tr>\n",
       "  <th>Covariance Type:</th>      <td>nonrobust</td>    <th>                     </th>      <td> </td>     \n",
       "</tr>\n",
       "</table>\n",
       "<table class=\"simpletable\">\n",
       "<tr>\n",
       "           <td></td>              <th>coef</th>     <th>std err</th>      <th>t</th>      <th>P>|t|</th>  <th>[0.025</th>    <th>0.975]</th>  \n",
       "</tr>\n",
       "<tr>\n",
       "  <th>const</th>               <td> 6.927e+06</td> <td> 1.48e+05</td> <td>   46.851</td> <td> 0.000</td> <td> 6.64e+06</td> <td> 7.22e+06</td>\n",
       "</tr>\n",
       "<tr>\n",
       "  <th>bedrooms</th>            <td>-2.493e+04</td> <td> 2258.793</td> <td>  -11.038</td> <td> 0.000</td> <td>-2.94e+04</td> <td>-2.05e+04</td>\n",
       "</tr>\n",
       "<tr>\n",
       "  <th>bathrooms</th>           <td> 4.873e+04</td> <td> 3861.605</td> <td>   12.619</td> <td> 0.000</td> <td> 4.12e+04</td> <td> 5.63e+04</td>\n",
       "</tr>\n",
       "<tr>\n",
       "  <th>sqft_living</th>         <td>  129.9518</td> <td>    7.299</td> <td>   17.803</td> <td> 0.000</td> <td>  115.644</td> <td>  144.260</td>\n",
       "</tr>\n",
       "<tr>\n",
       "  <th>sqft_lot</th>            <td>    0.0312</td> <td>    0.058</td> <td>    0.534</td> <td> 0.593</td> <td>   -0.083</td> <td>    0.146</td>\n",
       "</tr>\n",
       "<tr>\n",
       "  <th>floors</th>              <td> 4.458e+04</td> <td> 4235.616</td> <td>   10.524</td> <td> 0.000</td> <td> 3.63e+04</td> <td> 5.29e+04</td>\n",
       "</tr>\n",
       "<tr>\n",
       "  <th>sqft_above</th>          <td>  -10.2653</td> <td>    8.038</td> <td>   -1.277</td> <td> 0.202</td> <td>  -26.020</td> <td>    5.489</td>\n",
       "</tr>\n",
       "<tr>\n",
       "  <th>yr_built</th>            <td>-3258.0794</td> <td>   75.607</td> <td>  -43.092</td> <td> 0.000</td> <td>-3406.277</td> <td>-3109.882</td>\n",
       "</tr>\n",
       "<tr>\n",
       "  <th>sqft_living15</th>       <td>   26.2740</td> <td>    4.002</td> <td>    6.565</td> <td> 0.000</td> <td>   18.429</td> <td>   34.119</td>\n",
       "</tr>\n",
       "<tr>\n",
       "  <th>sqft_lot15</th>          <td>   -0.6266</td> <td>    0.086</td> <td>   -7.322</td> <td> 0.000</td> <td>   -0.794</td> <td>   -0.459</td>\n",
       "</tr>\n",
       "<tr>\n",
       "  <th>waterfront_YES</th>      <td> 5.438e+05</td> <td> 2.39e+04</td> <td>   22.732</td> <td> 0.000</td> <td> 4.97e+05</td> <td> 5.91e+05</td>\n",
       "</tr>\n",
       "<tr>\n",
       "  <th>view_EXCELLENT</th>      <td> 1.763e+05</td> <td> 1.82e+04</td> <td>    9.681</td> <td> 0.000</td> <td> 1.41e+05</td> <td> 2.12e+05</td>\n",
       "</tr>\n",
       "<tr>\n",
       "  <th>view_FAIR</th>           <td> 5.957e+04</td> <td> 1.49e+04</td> <td>    3.999</td> <td> 0.000</td> <td> 3.04e+04</td> <td> 8.88e+04</td>\n",
       "</tr>\n",
       "<tr>\n",
       "  <th>view_GOOD</th>           <td> 6.513e+04</td> <td>  1.3e+04</td> <td>    5.021</td> <td> 0.000</td> <td> 3.97e+04</td> <td> 9.05e+04</td>\n",
       "</tr>\n",
       "<tr>\n",
       "  <th>view_NONE</th>           <td>-5.448e+04</td> <td> 7882.277</td> <td>   -6.912</td> <td> 0.000</td> <td>-6.99e+04</td> <td> -3.9e+04</td>\n",
       "</tr>\n",
       "<tr>\n",
       "  <th>condition_Fair</th>      <td>-2.371e+04</td> <td> 1.86e+04</td> <td>   -1.278</td> <td> 0.201</td> <td>-6.01e+04</td> <td> 1.27e+04</td>\n",
       "</tr>\n",
       "<tr>\n",
       "  <th>condition_Good</th>      <td> 1.713e+04</td> <td> 4025.555</td> <td>    4.254</td> <td> 0.000</td> <td> 9235.115</td> <td>  2.5e+04</td>\n",
       "</tr>\n",
       "<tr>\n",
       "  <th>condition_Poor</th>      <td>-9.435e+04</td> <td> 4.33e+04</td> <td>   -2.181</td> <td> 0.029</td> <td>-1.79e+05</td> <td>-9538.110</td>\n",
       "</tr>\n",
       "<tr>\n",
       "  <th>condition_Very Good</th> <td> 5.393e+04</td> <td> 6480.361</td> <td>    8.322</td> <td> 0.000</td> <td> 4.12e+04</td> <td> 6.66e+04</td>\n",
       "</tr>\n",
       "<tr>\n",
       "  <th>grade_11 Excellent</th>  <td> 2.939e+05</td> <td> 1.41e+04</td> <td>   20.912</td> <td> 0.000</td> <td> 2.66e+05</td> <td> 3.21e+05</td>\n",
       "</tr>\n",
       "<tr>\n",
       "  <th>grade_12 Luxury</th>     <td> 7.262e+05</td> <td> 2.71e+04</td> <td>   26.827</td> <td> 0.000</td> <td> 6.73e+05</td> <td> 7.79e+05</td>\n",
       "</tr>\n",
       "<tr>\n",
       "  <th>grade_13 Mansion</th>    <td> 1.784e+06</td> <td>  7.4e+04</td> <td>   24.102</td> <td> 0.000</td> <td> 1.64e+06</td> <td> 1.93e+06</td>\n",
       "</tr>\n",
       "<tr>\n",
       "  <th>grade_3 Poor</th>        <td>-3.257e-10</td> <td> 1.51e-10</td> <td>   -2.160</td> <td> 0.031</td> <td>-6.21e-10</td> <td>-3.02e-11</td>\n",
       "</tr>\n",
       "<tr>\n",
       "  <th>grade_4 Low</th>         <td> -5.06e+05</td> <td> 4.86e+04</td> <td>  -10.406</td> <td> 0.000</td> <td>-6.01e+05</td> <td>-4.11e+05</td>\n",
       "</tr>\n",
       "<tr>\n",
       "  <th>grade_5 Fair</th>        <td>-5.399e+05</td> <td> 1.93e+04</td> <td>  -28.006</td> <td> 0.000</td> <td>-5.78e+05</td> <td>-5.02e+05</td>\n",
       "</tr>\n",
       "<tr>\n",
       "  <th>grade_6 Low Average</th> <td>-4.828e+05</td> <td> 1.21e+04</td> <td>  -39.831</td> <td> 0.000</td> <td>-5.07e+05</td> <td>-4.59e+05</td>\n",
       "</tr>\n",
       "<tr>\n",
       "  <th>grade_7 Average</th>     <td>-4.053e+05</td> <td>    1e+04</td> <td>  -40.497</td> <td> 0.000</td> <td>-4.25e+05</td> <td>-3.86e+05</td>\n",
       "</tr>\n",
       "<tr>\n",
       "  <th>grade_8 Good</th>        <td>-3.223e+05</td> <td> 9045.232</td> <td>  -35.635</td> <td> 0.000</td> <td> -3.4e+05</td> <td>-3.05e+05</td>\n",
       "</tr>\n",
       "<tr>\n",
       "  <th>grade_9 Better</th>      <td>-1.803e+05</td> <td> 8817.135</td> <td>  -20.446</td> <td> 0.000</td> <td>-1.98e+05</td> <td>-1.63e+05</td>\n",
       "</tr>\n",
       "<tr>\n",
       "  <th>is_basement</th>         <td> 2.068e+04</td> <td> 6180.257</td> <td>    3.346</td> <td> 0.001</td> <td> 8566.717</td> <td> 3.28e+04</td>\n",
       "</tr>\n",
       "</table>\n",
       "<table class=\"simpletable\">\n",
       "<tr>\n",
       "  <th>Omnibus:</th>       <td>9858.717</td> <th>  Durbin-Watson:     </th>  <td>   2.006</td> \n",
       "</tr>\n",
       "<tr>\n",
       "  <th>Prob(Omnibus):</th>  <td> 0.000</td>  <th>  Jarque-Bera (JB):  </th> <td>440111.923</td>\n",
       "</tr>\n",
       "<tr>\n",
       "  <th>Skew:</th>           <td> 2.288</td>  <th>  Prob(JB):          </th>  <td>    0.00</td> \n",
       "</tr>\n",
       "<tr>\n",
       "  <th>Kurtosis:</th>       <td>28.124</td>  <th>  Cond. No.          </th>  <td>1.12e+16</td> \n",
       "</tr>\n",
       "</table><br/><br/>Notes:<br/>[1] Standard Errors assume that the covariance matrix of the errors is correctly specified.<br/>[2] The smallest eigenvalue is 3.2e-19. This might indicate that there are<br/>strong multicollinearity problems or that the design matrix is singular."
      ],
      "text/plain": [
       "<class 'statsmodels.iolib.summary.Summary'>\n",
       "\"\"\"\n",
       "                            OLS Regression Results                            \n",
       "==============================================================================\n",
       "Dep. Variable:                  price   R-squared:                       0.685\n",
       "Model:                            OLS   Adj. R-squared:                  0.684\n",
       "Method:                 Least Squares   F-statistic:                     1254.\n",
       "Date:                Fri, 14 Jan 2022   Prob (F-statistic):               0.00\n",
       "Time:                        18:36:28   Log-Likelihood:            -2.2110e+05\n",
       "No. Observations:               16197   AIC:                         4.423e+05\n",
       "Df Residuals:                   16168   BIC:                         4.425e+05\n",
       "Df Model:                          28                                         \n",
       "Covariance Type:            nonrobust                                         \n",
       "=======================================================================================\n",
       "                          coef    std err          t      P>|t|      [0.025      0.975]\n",
       "---------------------------------------------------------------------------------------\n",
       "const                6.927e+06   1.48e+05     46.851      0.000    6.64e+06    7.22e+06\n",
       "bedrooms            -2.493e+04   2258.793    -11.038      0.000   -2.94e+04   -2.05e+04\n",
       "bathrooms            4.873e+04   3861.605     12.619      0.000    4.12e+04    5.63e+04\n",
       "sqft_living           129.9518      7.299     17.803      0.000     115.644     144.260\n",
       "sqft_lot                0.0312      0.058      0.534      0.593      -0.083       0.146\n",
       "floors               4.458e+04   4235.616     10.524      0.000    3.63e+04    5.29e+04\n",
       "sqft_above            -10.2653      8.038     -1.277      0.202     -26.020       5.489\n",
       "yr_built            -3258.0794     75.607    -43.092      0.000   -3406.277   -3109.882\n",
       "sqft_living15          26.2740      4.002      6.565      0.000      18.429      34.119\n",
       "sqft_lot15             -0.6266      0.086     -7.322      0.000      -0.794      -0.459\n",
       "waterfront_YES       5.438e+05   2.39e+04     22.732      0.000    4.97e+05    5.91e+05\n",
       "view_EXCELLENT       1.763e+05   1.82e+04      9.681      0.000    1.41e+05    2.12e+05\n",
       "view_FAIR            5.957e+04   1.49e+04      3.999      0.000    3.04e+04    8.88e+04\n",
       "view_GOOD            6.513e+04    1.3e+04      5.021      0.000    3.97e+04    9.05e+04\n",
       "view_NONE           -5.448e+04   7882.277     -6.912      0.000   -6.99e+04    -3.9e+04\n",
       "condition_Fair      -2.371e+04   1.86e+04     -1.278      0.201   -6.01e+04    1.27e+04\n",
       "condition_Good       1.713e+04   4025.555      4.254      0.000    9235.115     2.5e+04\n",
       "condition_Poor      -9.435e+04   4.33e+04     -2.181      0.029   -1.79e+05   -9538.110\n",
       "condition_Very Good  5.393e+04   6480.361      8.322      0.000    4.12e+04    6.66e+04\n",
       "grade_11 Excellent   2.939e+05   1.41e+04     20.912      0.000    2.66e+05    3.21e+05\n",
       "grade_12 Luxury      7.262e+05   2.71e+04     26.827      0.000    6.73e+05    7.79e+05\n",
       "grade_13 Mansion     1.784e+06    7.4e+04     24.102      0.000    1.64e+06    1.93e+06\n",
       "grade_3 Poor        -3.257e-10   1.51e-10     -2.160      0.031   -6.21e-10   -3.02e-11\n",
       "grade_4 Low          -5.06e+05   4.86e+04    -10.406      0.000   -6.01e+05   -4.11e+05\n",
       "grade_5 Fair        -5.399e+05   1.93e+04    -28.006      0.000   -5.78e+05   -5.02e+05\n",
       "grade_6 Low Average -4.828e+05   1.21e+04    -39.831      0.000   -5.07e+05   -4.59e+05\n",
       "grade_7 Average     -4.053e+05      1e+04    -40.497      0.000   -4.25e+05   -3.86e+05\n",
       "grade_8 Good        -3.223e+05   9045.232    -35.635      0.000    -3.4e+05   -3.05e+05\n",
       "grade_9 Better      -1.803e+05   8817.135    -20.446      0.000   -1.98e+05   -1.63e+05\n",
       "is_basement          2.068e+04   6180.257      3.346      0.001    8566.717    3.28e+04\n",
       "==============================================================================\n",
       "Omnibus:                     9858.717   Durbin-Watson:                   2.006\n",
       "Prob(Omnibus):                  0.000   Jarque-Bera (JB):           440111.923\n",
       "Skew:                           2.288   Prob(JB):                         0.00\n",
       "Kurtosis:                      28.124   Cond. No.                     1.12e+16\n",
       "==============================================================================\n",
       "\n",
       "Notes:\n",
       "[1] Standard Errors assume that the covariance matrix of the errors is correctly specified.\n",
       "[2] The smallest eigenvalue is 3.2e-19. This might indicate that there are\n",
       "strong multicollinearity problems or that the design matrix is singular.\n",
       "\"\"\""
      ]
     },
     "execution_count": 254,
     "metadata": {},
     "output_type": "execute_result"
    }
   ],
   "source": [
    "import statsmodels.api as sm\n",
    "\n",
    "sm.OLS(y_train, sm.add_constant(X_train)).fit().summary()"
   ]
  },
  {
   "cell_type": "code",
   "execution_count": 117,
   "metadata": {},
   "outputs": [],
   "source": [
    "significant_features = [\"bedrooms\", \"bathrooms\", \"floors\", \"waterfront\", \"condition\",\n",
    "                       \"grade\", \"yr_built\", \"sqft_above\",\n",
    "                       \"sqft_living\", \"sqft_living15\", \"sqft_lot15\"]"
   ]
  },
  {
   "cell_type": "code",
   "execution_count": 118,
   "metadata": {},
   "outputs": [],
   "source": [
    "# significant_features = [\"bedrooms\", \"floors\", \"waterfront\", \"condition\",\n",
    "#                         \"yr_built\", \"sqft_living\", \"sqft_lot15\"]"
   ]
  },
  {
   "cell_type": "code",
   "execution_count": 120,
   "metadata": {},
   "outputs": [
    {
     "name": "stdout",
     "output_type": "stream",
     "text": [
      "Train score:      0.6466812437493469\n",
      "Validation score: 0.6604438919448264\n"
     ]
    }
   ],
   "source": [
    "from sklearn.model_selection import cross_validate, ShuffleSplit\n",
    "\n",
    "splitter = ShuffleSplit(n_splits=3, test_size=0.25, random_state=0)\n",
    "\n",
    "baseline_scores = cross_validate(\n",
    "    estimator=baseline_model,\n",
    "    X=X_train[significant_features],\n",
    "    y=y_train,\n",
    "    return_train_score=True,\n",
    "    cv=splitter\n",
    ")\n",
    "\n",
    "print(\"Train score:     \", baseline_scores[\"train_score\"].mean())\n",
    "print(\"Validation score:\", baseline_scores[\"test_score\"].mean())"
   ]
  },
  {
   "cell_type": "code",
   "execution_count": 255,
   "metadata": {
    "scrolled": true
   },
   "outputs": [
    {
     "name": "stdout",
     "output_type": "stream",
     "text": [
      "Was the column selected?\n",
      "bedrooms: True\n",
      "bathrooms: True\n",
      "sqft_living: True\n",
      "sqft_lot: False\n",
      "floors: True\n",
      "sqft_above: True\n",
      "yr_built: True\n",
      "sqft_living15: True\n",
      "sqft_lot15: True\n",
      "waterfront_YES: True\n",
      "view_EXCELLENT: True\n",
      "view_FAIR: False\n",
      "view_GOOD: False\n",
      "view_NONE: True\n",
      "condition_Fair: False\n",
      "condition_Good: False\n",
      "condition_Poor: False\n",
      "condition_Very Good: True\n",
      "grade_11 Excellent: True\n",
      "grade_12 Luxury: True\n",
      "grade_13 Mansion: True\n",
      "grade_3 Poor: False\n",
      "grade_4 Low: True\n",
      "grade_5 Fair: True\n",
      "grade_6 Low Average: True\n",
      "grade_7 Average: True\n",
      "grade_8 Good: True\n",
      "grade_9 Better: True\n",
      "is_basement: False\n"
     ]
    }
   ],
   "source": [
    "from sklearn.feature_selection import RFECV\n",
    "from sklearn.preprocessing import StandardScaler\n",
    "\n",
    "# Importances are based on coefficient magnitude, so\n",
    "# we need to scale the data to normalize the coefficients\n",
    "data_for_RFECV = StandardScaler().fit_transform(X_train)\n",
    "\n",
    "model_for_RFECV = LinearRegression()\n",
    "\n",
    "# Instantiate and fit the selector\n",
    "selector = RFECV(model_for_RFECV, cv=splitter)\n",
    "selector.fit(data_for_RFECV, y_train)\n",
    "\n",
    "# Print the results\n",
    "print(\"Was the column selected?\")\n",
    "for index, col in enumerate(X_train.columns):\n",
    "    print(f\"{col}: {selector.support_[index]}\")"
   ]
  },
  {
   "cell_type": "code",
   "execution_count": 260,
   "metadata": {},
   "outputs": [],
   "source": [
    "features = X_train.columns[selector.support_]"
   ]
  },
  {
   "cell_type": "code",
   "execution_count": 261,
   "metadata": {
    "scrolled": true
   },
   "outputs": [
    {
     "name": "stderr",
     "output_type": "stream",
     "text": [
      "C:\\Users\\bento\\anaconda3.0\\lib\\site-packages\\statsmodels\\tsa\\tsatools.py:142: FutureWarning: In a future version of pandas all arguments of concat except for the argument 'objs' will be keyword-only\n",
      "  x = pd.concat(x[::order], 1)\n"
     ]
    },
    {
     "data": {
      "text/html": [
       "<table class=\"simpletable\">\n",
       "<caption>OLS Regression Results</caption>\n",
       "<tr>\n",
       "  <th>Dep. Variable:</th>          <td>price</td>      <th>  R-squared:         </th>  <td>   0.683</td>  \n",
       "</tr>\n",
       "<tr>\n",
       "  <th>Model:</th>                   <td>OLS</td>       <th>  Adj. R-squared:    </th>  <td>   0.683</td>  \n",
       "</tr>\n",
       "<tr>\n",
       "  <th>Method:</th>             <td>Least Squares</td>  <th>  F-statistic:       </th>  <td>   1663.</td>  \n",
       "</tr>\n",
       "<tr>\n",
       "  <th>Date:</th>             <td>Fri, 14 Jan 2022</td> <th>  Prob (F-statistic):</th>   <td>  0.00</td>   \n",
       "</tr>\n",
       "<tr>\n",
       "  <th>Time:</th>                 <td>18:42:15</td>     <th>  Log-Likelihood:    </th> <td>-2.2113e+05</td>\n",
       "</tr>\n",
       "<tr>\n",
       "  <th>No. Observations:</th>      <td> 16197</td>      <th>  AIC:               </th>  <td>4.423e+05</td> \n",
       "</tr>\n",
       "<tr>\n",
       "  <th>Df Residuals:</th>          <td> 16175</td>      <th>  BIC:               </th>  <td>4.425e+05</td> \n",
       "</tr>\n",
       "<tr>\n",
       "  <th>Df Model:</th>              <td>    21</td>      <th>                     </th>      <td> </td>     \n",
       "</tr>\n",
       "<tr>\n",
       "  <th>Covariance Type:</th>      <td>nonrobust</td>    <th>                     </th>      <td> </td>     \n",
       "</tr>\n",
       "</table>\n",
       "<table class=\"simpletable\">\n",
       "<tr>\n",
       "           <td></td>              <th>coef</th>     <th>std err</th>      <th>t</th>      <th>P>|t|</th>  <th>[0.025</th>    <th>0.975]</th>  \n",
       "</tr>\n",
       "<tr>\n",
       "  <th>const</th>               <td> 7.126e+06</td> <td> 1.44e+05</td> <td>   49.540</td> <td> 0.000</td> <td> 6.84e+06</td> <td> 7.41e+06</td>\n",
       "</tr>\n",
       "<tr>\n",
       "  <th>bedrooms</th>            <td>-2.487e+04</td> <td> 2259.183</td> <td>  -11.008</td> <td> 0.000</td> <td>-2.93e+04</td> <td>-2.04e+04</td>\n",
       "</tr>\n",
       "<tr>\n",
       "  <th>bathrooms</th>           <td> 5.029e+04</td> <td> 3841.079</td> <td>   13.092</td> <td> 0.000</td> <td> 4.28e+04</td> <td> 5.78e+04</td>\n",
       "</tr>\n",
       "<tr>\n",
       "  <th>sqft_living</th>         <td>  149.1278</td> <td>    5.133</td> <td>   29.050</td> <td> 0.000</td> <td>  139.066</td> <td>  159.190</td>\n",
       "</tr>\n",
       "<tr>\n",
       "  <th>floors</th>              <td> 4.224e+04</td> <td> 4201.153</td> <td>   10.054</td> <td> 0.000</td> <td>  3.4e+04</td> <td> 5.05e+04</td>\n",
       "</tr>\n",
       "<tr>\n",
       "  <th>sqft_above</th>          <td>  -32.6430</td> <td>    5.090</td> <td>   -6.413</td> <td> 0.000</td> <td>  -42.620</td> <td>  -22.666</td>\n",
       "</tr>\n",
       "<tr>\n",
       "  <th>yr_built</th>            <td>-3337.6453</td> <td>   73.912</td> <td>  -45.157</td> <td> 0.000</td> <td>-3482.522</td> <td>-3192.769</td>\n",
       "</tr>\n",
       "<tr>\n",
       "  <th>sqft_living15</th>       <td>   26.7186</td> <td>    3.999</td> <td>    6.682</td> <td> 0.000</td> <td>   18.881</td> <td>   34.557</td>\n",
       "</tr>\n",
       "<tr>\n",
       "  <th>sqft_lot15</th>          <td>   -0.5913</td> <td>    0.061</td> <td>   -9.720</td> <td> 0.000</td> <td>   -0.711</td> <td>   -0.472</td>\n",
       "</tr>\n",
       "<tr>\n",
       "  <th>waterfront_YES</th>      <td> 5.446e+05</td> <td>  2.4e+04</td> <td>   22.736</td> <td> 0.000</td> <td> 4.98e+05</td> <td> 5.92e+05</td>\n",
       "</tr>\n",
       "<tr>\n",
       "  <th>view_EXCELLENT</th>      <td> 1.445e+05</td> <td> 1.74e+04</td> <td>    8.285</td> <td> 0.000</td> <td>  1.1e+05</td> <td> 1.79e+05</td>\n",
       "</tr>\n",
       "<tr>\n",
       "  <th>view_NONE</th>           <td>-8.245e+04</td> <td> 6167.795</td> <td>  -13.367</td> <td> 0.000</td> <td>-9.45e+04</td> <td>-7.04e+04</td>\n",
       "</tr>\n",
       "<tr>\n",
       "  <th>condition_Very Good</th> <td> 4.587e+04</td> <td> 6239.830</td> <td>    7.351</td> <td> 0.000</td> <td> 3.36e+04</td> <td> 5.81e+04</td>\n",
       "</tr>\n",
       "<tr>\n",
       "  <th>grade_11 Excellent</th>  <td> 2.951e+05</td> <td> 1.41e+04</td> <td>   20.964</td> <td> 0.000</td> <td> 2.67e+05</td> <td> 3.23e+05</td>\n",
       "</tr>\n",
       "<tr>\n",
       "  <th>grade_12 Luxury</th>     <td> 7.241e+05</td> <td> 2.71e+04</td> <td>   26.703</td> <td> 0.000</td> <td> 6.71e+05</td> <td> 7.77e+05</td>\n",
       "</tr>\n",
       "<tr>\n",
       "  <th>grade_13 Mansion</th>    <td>  1.78e+06</td> <td> 7.41e+04</td> <td>   24.005</td> <td> 0.000</td> <td> 1.63e+06</td> <td> 1.93e+06</td>\n",
       "</tr>\n",
       "<tr>\n",
       "  <th>grade_4 Low</th>         <td>-5.143e+05</td> <td> 4.86e+04</td> <td>  -10.578</td> <td> 0.000</td> <td> -6.1e+05</td> <td>-4.19e+05</td>\n",
       "</tr>\n",
       "<tr>\n",
       "  <th>grade_5 Fair</th>        <td>-5.505e+05</td> <td> 1.91e+04</td> <td>  -28.801</td> <td> 0.000</td> <td>-5.88e+05</td> <td>-5.13e+05</td>\n",
       "</tr>\n",
       "<tr>\n",
       "  <th>grade_6 Low Average</th> <td> -4.88e+05</td> <td> 1.21e+04</td> <td>  -40.428</td> <td> 0.000</td> <td>-5.12e+05</td> <td>-4.64e+05</td>\n",
       "</tr>\n",
       "<tr>\n",
       "  <th>grade_7 Average</th>     <td>-4.066e+05</td> <td>    1e+04</td> <td>  -40.654</td> <td> 0.000</td> <td>-4.26e+05</td> <td>-3.87e+05</td>\n",
       "</tr>\n",
       "<tr>\n",
       "  <th>grade_8 Good</th>        <td> -3.23e+05</td> <td> 9044.095</td> <td>  -35.709</td> <td> 0.000</td> <td>-3.41e+05</td> <td>-3.05e+05</td>\n",
       "</tr>\n",
       "<tr>\n",
       "  <th>grade_9 Better</th>      <td>-1.806e+05</td> <td> 8825.919</td> <td>  -20.458</td> <td> 0.000</td> <td>-1.98e+05</td> <td>-1.63e+05</td>\n",
       "</tr>\n",
       "</table>\n",
       "<table class=\"simpletable\">\n",
       "<tr>\n",
       "  <th>Omnibus:</th>       <td>9756.783</td> <th>  Durbin-Watson:     </th>  <td>   2.006</td> \n",
       "</tr>\n",
       "<tr>\n",
       "  <th>Prob(Omnibus):</th>  <td> 0.000</td>  <th>  Jarque-Bera (JB):  </th> <td>419792.946</td>\n",
       "</tr>\n",
       "<tr>\n",
       "  <th>Skew:</th>           <td> 2.263</td>  <th>  Prob(JB):          </th>  <td>    0.00</td> \n",
       "</tr>\n",
       "<tr>\n",
       "  <th>Kurtosis:</th>       <td>27.526</td>  <th>  Cond. No.          </th>  <td>2.71e+06</td> \n",
       "</tr>\n",
       "</table><br/><br/>Notes:<br/>[1] Standard Errors assume that the covariance matrix of the errors is correctly specified.<br/>[2] The condition number is large, 2.71e+06. This might indicate that there are<br/>strong multicollinearity or other numerical problems."
      ],
      "text/plain": [
       "<class 'statsmodels.iolib.summary.Summary'>\n",
       "\"\"\"\n",
       "                            OLS Regression Results                            \n",
       "==============================================================================\n",
       "Dep. Variable:                  price   R-squared:                       0.683\n",
       "Model:                            OLS   Adj. R-squared:                  0.683\n",
       "Method:                 Least Squares   F-statistic:                     1663.\n",
       "Date:                Fri, 14 Jan 2022   Prob (F-statistic):               0.00\n",
       "Time:                        18:42:15   Log-Likelihood:            -2.2113e+05\n",
       "No. Observations:               16197   AIC:                         4.423e+05\n",
       "Df Residuals:                   16175   BIC:                         4.425e+05\n",
       "Df Model:                          21                                         \n",
       "Covariance Type:            nonrobust                                         \n",
       "=======================================================================================\n",
       "                          coef    std err          t      P>|t|      [0.025      0.975]\n",
       "---------------------------------------------------------------------------------------\n",
       "const                7.126e+06   1.44e+05     49.540      0.000    6.84e+06    7.41e+06\n",
       "bedrooms            -2.487e+04   2259.183    -11.008      0.000   -2.93e+04   -2.04e+04\n",
       "bathrooms            5.029e+04   3841.079     13.092      0.000    4.28e+04    5.78e+04\n",
       "sqft_living           149.1278      5.133     29.050      0.000     139.066     159.190\n",
       "floors               4.224e+04   4201.153     10.054      0.000     3.4e+04    5.05e+04\n",
       "sqft_above            -32.6430      5.090     -6.413      0.000     -42.620     -22.666\n",
       "yr_built            -3337.6453     73.912    -45.157      0.000   -3482.522   -3192.769\n",
       "sqft_living15          26.7186      3.999      6.682      0.000      18.881      34.557\n",
       "sqft_lot15             -0.5913      0.061     -9.720      0.000      -0.711      -0.472\n",
       "waterfront_YES       5.446e+05    2.4e+04     22.736      0.000    4.98e+05    5.92e+05\n",
       "view_EXCELLENT       1.445e+05   1.74e+04      8.285      0.000     1.1e+05    1.79e+05\n",
       "view_NONE           -8.245e+04   6167.795    -13.367      0.000   -9.45e+04   -7.04e+04\n",
       "condition_Very Good  4.587e+04   6239.830      7.351      0.000    3.36e+04    5.81e+04\n",
       "grade_11 Excellent   2.951e+05   1.41e+04     20.964      0.000    2.67e+05    3.23e+05\n",
       "grade_12 Luxury      7.241e+05   2.71e+04     26.703      0.000    6.71e+05    7.77e+05\n",
       "grade_13 Mansion      1.78e+06   7.41e+04     24.005      0.000    1.63e+06    1.93e+06\n",
       "grade_4 Low         -5.143e+05   4.86e+04    -10.578      0.000    -6.1e+05   -4.19e+05\n",
       "grade_5 Fair        -5.505e+05   1.91e+04    -28.801      0.000   -5.88e+05   -5.13e+05\n",
       "grade_6 Low Average  -4.88e+05   1.21e+04    -40.428      0.000   -5.12e+05   -4.64e+05\n",
       "grade_7 Average     -4.066e+05      1e+04    -40.654      0.000   -4.26e+05   -3.87e+05\n",
       "grade_8 Good         -3.23e+05   9044.095    -35.709      0.000   -3.41e+05   -3.05e+05\n",
       "grade_9 Better      -1.806e+05   8825.919    -20.458      0.000   -1.98e+05   -1.63e+05\n",
       "==============================================================================\n",
       "Omnibus:                     9756.783   Durbin-Watson:                   2.006\n",
       "Prob(Omnibus):                  0.000   Jarque-Bera (JB):           419792.946\n",
       "Skew:                           2.263   Prob(JB):                         0.00\n",
       "Kurtosis:                      27.526   Cond. No.                     2.71e+06\n",
       "==============================================================================\n",
       "\n",
       "Notes:\n",
       "[1] Standard Errors assume that the covariance matrix of the errors is correctly specified.\n",
       "[2] The condition number is large, 2.71e+06. This might indicate that there are\n",
       "strong multicollinearity or other numerical problems.\n",
       "\"\"\""
      ]
     },
     "execution_count": 261,
     "metadata": {},
     "output_type": "execute_result"
    }
   ],
   "source": [
    "sm.OLS(y_train, sm.add_constant(X_train[features])).fit().summary()"
   ]
  },
  {
   "cell_type": "code",
   "execution_count": 125,
   "metadata": {},
   "outputs": [],
   "source": [
    "def normalize(feature):\n",
    "    return (feature - feature.mean()) / feature.std()\n"
   ]
  },
  {
   "cell_type": "code",
   "execution_count": 297,
   "metadata": {},
   "outputs": [],
   "source": [
    "cont_log_norm = cont_log.apply(normalize)"
   ]
  },
  {
   "cell_type": "code",
   "execution_count": 332,
   "metadata": {
    "scrolled": true
   },
   "outputs": [
    {
     "data": {
      "image/png": "[encoded data removed]",
      "text/plain": [
       "<Figure size 720x720 with 6 Axes>"
      ]
     },
     "metadata": {
      "needs_background": "light"
     },
     "output_type": "display_data"
    }
   ],
   "source": [
    "cont_log_norm.hist(figsize=(10, 10), bins='auto');"
   ]
  },
  {
   "cell_type": "code",
   "execution_count": 301,
   "metadata": {},
   "outputs": [],
   "source": [
    "data_norm = data.drop('price', axis=1).apply(normalize)"
   ]
  },
  {
   "cell_type": "code",
   "execution_count": 303,
   "metadata": {},
   "outputs": [],
   "source": [
    "final_data = pd.concat([df[['price']], data_norm], axis=1)"
   ]
  },
  {
   "cell_type": "code",
   "execution_count": 344,
   "metadata": {},
   "outputs": [],
   "source": [
    "df2=df.corr().abs().stack().reset_index().sort_values(0, ascending=False)\n",
    "\n",
    "# zip the variable name columns (Which were only named level_0 and level_1 by default) in a new column named \"pairs\"\n",
    "df2['pairs'] = list(zip(df2.level_0, df2.level_1))\n",
    "\n",
    "# set index to pairs\n",
    "df2.set_index(['pairs'], inplace = True)\n",
    "\n",
    "#d rop level columns\n",
    "df2.drop(columns=['level_1', 'level_0'], inplace = True)\n",
    "\n",
    "# rename correlation column as cc rather than 0\n",
    "df2.columns = ['cc']\n",
    "\n",
    "# drop duplicates. This could be dangerous if you have variables perfectly correlated with variables other than themselves.\n",
    "# for the sake of exercise, kept it in.\n",
    "df2.drop_duplicates(inplace=True)"
   ]
  },
  {
   "cell_type": "code",
   "execution_count": 346,
   "metadata": {
    "scrolled": false
   },
   "outputs": [
    {
     "data": {
      "text/html": [
       "<div>\n",
       "<style scoped>\n",
       "    .dataframe tbody tr th:only-of-type {\n",
       "        vertical-align: middle;\n",
       "    }\n",
       "\n",
       "    .dataframe tbody tr th {\n",
       "        vertical-align: top;\n",
       "    }\n",
       "\n",
       "    .dataframe thead th {\n",
       "        text-align: right;\n",
       "    }\n",
       "</style>\n",
       "<table border=\"1\" class=\"dataframe\">\n",
       "  <thead>\n",
       "    <tr style=\"text-align: right;\">\n",
       "      <th></th>\n",
       "      <th>cc</th>\n",
       "    </tr>\n",
       "    <tr>\n",
       "      <th>pairs</th>\n",
       "      <th></th>\n",
       "    </tr>\n",
       "  </thead>\n",
       "  <tbody>\n",
       "    <tr>\n",
       "      <th>(sqft_living, sqft_above)</th>\n",
       "      <td>0.876448</td>\n",
       "    </tr>\n",
       "    <tr>\n",
       "      <th>(sqft_living, grade)</th>\n",
       "      <td>0.762779</td>\n",
       "    </tr>\n",
       "    <tr>\n",
       "      <th>(sqft_living15, sqft_living)</th>\n",
       "      <td>0.756402</td>\n",
       "    </tr>\n",
       "    <tr>\n",
       "      <th>(grade, sqft_above)</th>\n",
       "      <td>0.756073</td>\n",
       "    </tr>\n",
       "    <tr>\n",
       "      <th>(sqft_living, bathrooms)</th>\n",
       "      <td>0.755758</td>\n",
       "    </tr>\n",
       "  </tbody>\n",
       "</table>\n",
       "</div>"
      ],
      "text/plain": [
       "                                    cc\n",
       "pairs                                 \n",
       "(sqft_living, sqft_above)     0.876448\n",
       "(sqft_living, grade)          0.762779\n",
       "(sqft_living15, sqft_living)  0.756402\n",
       "(grade, sqft_above)           0.756073\n",
       "(sqft_living, bathrooms)      0.755758"
      ]
     },
     "execution_count": 346,
     "metadata": {},
     "output_type": "execute_result"
    }
   ],
   "source": [
    "df2[(df2.cc>.75) & (df2.cc <1)]"
   ]
  },
  {
   "cell_type": "markdown",
   "metadata": {},
   "source": [
    "## Assumptions"
   ]
  },
  {
   "cell_type": "code",
   "execution_count": 127,
   "metadata": {},
   "outputs": [],
   "source": [
    "X_train_final = X_train[significant_features]\n",
    "X_test_final = X_test[significant_features]"
   ]
  },
  {
   "cell_type": "code",
   "execution_count": 128,
   "metadata": {},
   "outputs": [],
   "source": [
    "final_model = LinearRegression()"
   ]
  },
  {
   "cell_type": "code",
   "execution_count": 129,
   "metadata": {},
   "outputs": [
    {
     "data": {
      "text/plain": [
       "LinearRegression()"
      ]
     },
     "execution_count": 129,
     "metadata": {},
     "output_type": "execute_result"
    }
   ],
   "source": [
    "final_model.fit(X_train_final, y_train)"
   ]
  },
  {
   "cell_type": "code",
   "execution_count": 130,
   "metadata": {},
   "outputs": [
    {
     "data": {
      "text/plain": [
       "0.6404700884222043"
      ]
     },
     "execution_count": 130,
     "metadata": {},
     "output_type": "execute_result"
    }
   ],
   "source": [
    "final_model.score(X_test_final, y_test)"
   ]
  },
  {
   "cell_type": "code",
   "execution_count": 131,
   "metadata": {},
   "outputs": [
    {
     "data": {
      "text/plain": [
       "217661.07009109753"
      ]
     },
     "execution_count": 131,
     "metadata": {},
     "output_type": "execute_result"
    }
   ],
   "source": [
    "from sklearn.metrics import mean_squared_error\n",
    "\n",
    "mean_squared_error(y_test, final_model.predict(X_test_final), squared=False)"
   ]
  },
  {
   "cell_type": "code",
   "execution_count": 132,
   "metadata": {},
   "outputs": [
    {
     "name": "stdout",
     "output_type": "stream",
     "text": [
      "bedrooms         -47811.652319\n",
      "bathrooms         51581.343942\n",
      "floors            28004.853595\n",
      "waterfront       785531.273479\n",
      "condition         21136.655537\n",
      "grade            123262.867436\n",
      "yr_built          -3815.696253\n",
      "sqft_above          -15.875420\n",
      "sqft_living         184.146258\n",
      "sqft_living15        27.813219\n",
      "sqft_lot15           -0.609609\n",
      "Name: Coefficients, dtype: float64\n",
      "\n",
      "Intercept: 6669204.745548959\n"
     ]
    }
   ],
   "source": [
    "print(pd.Series(final_model.coef_, index=X_train_final.columns, name=\"Coefficients\"))\n",
    "print()\n",
    "print(\"Intercept:\", final_model.intercept_)"
   ]
  },
  {
   "cell_type": "code",
   "execution_count": 133,
   "metadata": {},
   "outputs": [
    {
     "data": {
      "image/png": "[encoded data removed]",
      "text/plain": [
       "<Figure size 432x288 with 1 Axes>"
      ]
     },
     "metadata": {
      "needs_background": "light"
     },
     "output_type": "display_data"
    }
   ],
   "source": [
    "preds = final_model.predict(X_test_final)\n",
    "fig, ax = plt.subplots()\n",
    "\n",
    "perfect_line = np.arange(y_test.min(), y_test.max())\n",
    "ax.plot(perfect_line, linestyle=\"--\", color=\"orange\", label=\"Perfect Fit\")\n",
    "ax.scatter(y_test, preds, alpha=0.5)\n",
    "ax.set_xlabel(\"Actual Price\")\n",
    "ax.set_ylabel(\"Predicted Price\")\n",
    "ax.legend();"
   ]
  },
  {
   "cell_type": "code",
   "execution_count": 134,
   "metadata": {},
   "outputs": [
    {
     "name": "stderr",
     "output_type": "stream",
     "text": [
      "C:\\Users\\bento\\anaconda3.0\\lib\\site-packages\\statsmodels\\graphics\\gofplots.py:993: UserWarning: marker is redundantly defined by the 'marker' keyword argument and the fmt string \"bo\" (-> marker='o'). The keyword argument will take precedence.\n",
      "  ax.plot(x, y, fmt, **plot_style)\n"
     ]
    },
    {
     "data": {
      "image/png": "[encoded data removed]",
      "text/plain": [
       "<Figure size 432x288 with 1 Axes>"
      ]
     },
     "metadata": {
      "needs_background": "light"
     },
     "output_type": "display_data"
    }
   ],
   "source": [
    "import scipy.stats as stats\n",
    "residuals = (y_test - preds)\n",
    "sm.graphics.qqplot(residuals, dist=stats.norm, line='45', fit=True);"
   ]
  },
  {
   "cell_type": "code",
   "execution_count": 135,
   "metadata": {
    "scrolled": true
   },
   "outputs": [
    {
     "data": {
      "text/plain": [
       "bedrooms          25.057103\n",
       "bathrooms         25.783512\n",
       "sqft_living      103.019577\n",
       "sqft_lot           2.216549\n",
       "floors            16.455424\n",
       "waterfront         1.026952\n",
       "condition         15.863944\n",
       "grade            141.955142\n",
       "sqft_above        94.408154\n",
       "yr_built         110.751149\n",
       "sqft_living15     26.015759\n",
       "sqft_lot15         2.455143\n",
       "is_basement        5.698332\n",
       "Name: Variance Inflation Factor, dtype: float64"
      ]
     },
     "execution_count": 135,
     "metadata": {},
     "output_type": "execute_result"
    }
   ],
   "source": [
    "from statsmodels.stats.outliers_influence import variance_inflation_factor\n",
    "vif = [variance_inflation_factor(X_train.values, i) for i in range(X_train.shape[1])]\n",
    "pd.Series(vif, index=X_train.columns, name=\"Variance Inflation Factor\")"
   ]
  },
  {
   "cell_type": "code",
   "execution_count": 136,
   "metadata": {},
   "outputs": [
    {
     "data": {
      "image/png": "[encoded data removed]",
      "text/plain": [
       "<Figure size 432x288 with 1 Axes>"
      ]
     },
     "metadata": {
      "needs_background": "light"
     },
     "output_type": "display_data"
    }
   ],
   "source": [
    "fig, ax = plt.subplots()\n",
    "\n",
    "ax.scatter(preds, residuals, alpha=0.5)\n",
    "ax.plot(preds, [0 for i in range(len(X_test))])\n",
    "ax.set_xlabel(\"Predicted Value\")\n",
    "ax.set_ylabel(\"Actual - Predicted Value\");"
   ]
  },
  {
   "cell_type": "code",
   "execution_count": null,
   "metadata": {},
   "outputs": [],
   "source": []
  }
 ],
 "metadata": {
  "kernelspec": {
   "display_name": "Python 3 (ipykernel)",
   "language": "python",
   "name": "python3"
  },
  "language_info": {
   "codemirror_mode": {
    "name": "ipython",
    "version": 3
   },
   "file_extension": ".py",
   "mimetype": "text/x-python",
   "name": "python",
   "nbconvert_exporter": "python",
   "pygments_lexer": "ipython3",
   "version": "3.9.7"
  },
  "toc": {
   "base_numbering": 1,
   "nav_menu": {},
   "number_sections": true,
   "sideBar": true,
   "skip_h1_title": false,
   "title_cell": "Table of Contents",
   "title_sidebar": "Contents",
   "toc_cell": false,
   "toc_position": {},
   "toc_section_display": true,
   "toc_window_display": false
  }
 },
 "nbformat": 4,
 "nbformat_minor": 2
}
