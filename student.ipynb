{
 "cells": [
  {
   "cell_type": "markdown",
   "metadata": {},
   "source": [
    "## Final Project Submission\n",
    "\n",
    "Please fill out:\n",
    "* Student name: \n",
    "* Student pace: self paced / part time / full time\n",
    "* Scheduled project review date/time: \n",
    "* Instructor name: \n",
    "* Blog post URL:\n"
   ]
  },
  {
   "cell_type": "code",
   "execution_count": 233,
   "metadata": {
    "scrolled": true
   },
   "outputs": [],
   "source": [
    "import pandas as pd\n",
    "import numpy as np\n",
    "import matplotlib.pyplot as plt\n",
    "from sklearn.linear_model import LinearRegression\n",
    "\n",
    "%matplotlib inline"
   ]
  },
  {
   "cell_type": "code",
   "execution_count": 234,
   "metadata": {
    "scrolled": false
   },
   "outputs": [
    {
     "data": {
      "text/plain": [
       "Index(['id', 'date', 'price', 'bedrooms', 'bathrooms', 'sqft_living',\n",
       "       'sqft_lot', 'floors', 'waterfront', 'view', 'condition', 'grade',\n",
       "       'sqft_above', 'sqft_basement', 'yr_built', 'yr_renovated', 'zipcode',\n",
       "       'lat', 'long', 'sqft_living15', 'sqft_lot15'],\n",
       "      dtype='object')"
      ]
     },
     "execution_count": 234,
     "metadata": {},
     "output_type": "execute_result"
    }
   ],
   "source": [
    "df = pd.read_csv('data/kc_house_data.csv')\n",
    "df.columns"
   ]
  },
  {
   "cell_type": "code",
   "execution_count": 235,
   "metadata": {
    "scrolled": true
   },
   "outputs": [],
   "source": [
    "df.loc[df['waterfront'].isna() == True, 'waterfront'] = \"NO\""
   ]
  },
  {
   "cell_type": "code",
   "execution_count": 236,
   "metadata": {},
   "outputs": [],
   "source": [
    "df.loc[df['view'].isna() == True, 'view'] = \"NONE\""
   ]
  },
  {
   "cell_type": "code",
   "execution_count": 237,
   "metadata": {},
   "outputs": [],
   "source": [
    "df['waterfront'] = df.waterfront.map(lambda x: 0 if x=='NO' else 1)"
   ]
  },
  {
   "cell_type": "code",
   "execution_count": 238,
   "metadata": {},
   "outputs": [],
   "source": [
    "df.drop(['id', 'date', 'zipcode', 'lat', 'long', 'yr_renovated', 'view'], axis=1, inplace=True)"
   ]
  },
  {
   "cell_type": "code",
   "execution_count": 239,
   "metadata": {
    "scrolled": true
   },
   "outputs": [],
   "source": [
    "df.loc[df.sqft_basement == '?', 'sqft_basement'] = (df[df.sqft_basement == '?'].sqft_living\n",
    "                               - df[df.sqft_basement == '?'].sqft_above)"
   ]
  },
  {
   "cell_type": "code",
   "execution_count": 240,
   "metadata": {
    "scrolled": false
   },
   "outputs": [],
   "source": [
    "df['sqft_basement'] = df.sqft_basement.astype('float64')"
   ]
  },
  {
   "cell_type": "code",
   "execution_count": 241,
   "metadata": {},
   "outputs": [],
   "source": [
    "#sqft basement is a zero inflated varaible so I will make a new binary\n",
    "#variable to show if there is a basment"
   ]
  },
  {
   "cell_type": "code",
   "execution_count": 242,
   "metadata": {},
   "outputs": [],
   "source": [
    "df['is_basement'] = df.sqft_basement.map(lambda x: 0 if x == 0 else 1)"
   ]
  },
  {
   "cell_type": "code",
   "execution_count": 243,
   "metadata": {},
   "outputs": [],
   "source": [
    "df.drop('sqft_basement', axis=1, inplace=True)"
   ]
  },
  {
   "cell_type": "code",
   "execution_count": 245,
   "metadata": {},
   "outputs": [],
   "source": [
    "df['condition'] = df.condition.map(lambda x: 0 if x=='Poor' \n",
    "                                   else (1 if x=='Fair'\n",
    "                                    else (2 if x=='Average'\n",
    "                                    else  (3 if x=='Good' else 4))))"
   ]
  },
  {
   "cell_type": "code",
   "execution_count": 247,
   "metadata": {},
   "outputs": [],
   "source": [
    "df['grade'] = df.grade.map(lambda x: int(x[0:2]))"
   ]
  },
  {
   "cell_type": "code",
   "execution_count": 249,
   "metadata": {
    "scrolled": true
   },
   "outputs": [
    {
     "name": "stdout",
     "output_type": "stream",
     "text": [
      "<class 'pandas.core.frame.DataFrame'>\n",
      "RangeIndex: 21597 entries, 0 to 21596\n",
      "Data columns (total 14 columns):\n",
      " #   Column         Non-Null Count  Dtype  \n",
      "---  ------         --------------  -----  \n",
      " 0   price          21597 non-null  float64\n",
      " 1   bedrooms       21597 non-null  int64  \n",
      " 2   bathrooms      21597 non-null  float64\n",
      " 3   sqft_living    21597 non-null  int64  \n",
      " 4   sqft_lot       21597 non-null  int64  \n",
      " 5   floors         21597 non-null  float64\n",
      " 6   waterfront     21597 non-null  int64  \n",
      " 7   condition      21597 non-null  int64  \n",
      " 8   grade          21597 non-null  int64  \n",
      " 9   sqft_above     21597 non-null  int64  \n",
      " 10  yr_built       21597 non-null  int64  \n",
      " 11  sqft_living15  21597 non-null  int64  \n",
      " 12  sqft_lot15     21597 non-null  int64  \n",
      " 13  is_basement    21597 non-null  int64  \n",
      "dtypes: float64(3), int64(11)\n",
      "memory usage: 2.3 MB\n"
     ]
    }
   ],
   "source": [
    "df.info()"
   ]
  },
  {
   "cell_type": "code",
   "execution_count": 427,
   "metadata": {},
   "outputs": [],
   "source": [
    "X = df[df.price < 1000000].drop('price', axis=1)\n",
    "y = df[df.price < 1000000].price"
   ]
  },
  {
   "cell_type": "code",
   "execution_count": 428,
   "metadata": {},
   "outputs": [],
   "source": [
    "from sklearn.model_selection import train_test_split\n",
    "X_train, X_test, y_train, y_test = train_test_split(X, y, test_size=0.25)"
   ]
  },
  {
   "cell_type": "code",
   "execution_count": 209,
   "metadata": {},
   "outputs": [],
   "source": [
    "cont_data = df.loc[:, ((df.dtypes != 'object') & (df.nunique() > 120))].drop(\n",
    "                                                    'price', axis=1)"
   ]
  },
  {
   "cell_type": "code",
   "execution_count": 210,
   "metadata": {},
   "outputs": [
    {
     "data": {
      "text/html": [
       "<div>\n",
       "<style scoped>\n",
       "    .dataframe tbody tr th:only-of-type {\n",
       "        vertical-align: middle;\n",
       "    }\n",
       "\n",
       "    .dataframe tbody tr th {\n",
       "        vertical-align: top;\n",
       "    }\n",
       "\n",
       "    .dataframe thead th {\n",
       "        text-align: right;\n",
       "    }\n",
       "</style>\n",
       "<table border=\"1\" class=\"dataframe\">\n",
       "  <thead>\n",
       "    <tr style=\"text-align: right;\">\n",
       "      <th></th>\n",
       "      <th>sqft_living</th>\n",
       "      <th>sqft_lot</th>\n",
       "      <th>sqft_above</th>\n",
       "      <th>sqft_living15</th>\n",
       "      <th>sqft_lot15</th>\n",
       "    </tr>\n",
       "  </thead>\n",
       "  <tbody>\n",
       "    <tr>\n",
       "      <th>0</th>\n",
       "      <td>1180</td>\n",
       "      <td>5650</td>\n",
       "      <td>1180</td>\n",
       "      <td>1340</td>\n",
       "      <td>5650</td>\n",
       "    </tr>\n",
       "    <tr>\n",
       "      <th>1</th>\n",
       "      <td>2570</td>\n",
       "      <td>7242</td>\n",
       "      <td>2170</td>\n",
       "      <td>1690</td>\n",
       "      <td>7639</td>\n",
       "    </tr>\n",
       "    <tr>\n",
       "      <th>2</th>\n",
       "      <td>770</td>\n",
       "      <td>10000</td>\n",
       "      <td>770</td>\n",
       "      <td>2720</td>\n",
       "      <td>8062</td>\n",
       "    </tr>\n",
       "    <tr>\n",
       "      <th>3</th>\n",
       "      <td>1960</td>\n",
       "      <td>5000</td>\n",
       "      <td>1050</td>\n",
       "      <td>1360</td>\n",
       "      <td>5000</td>\n",
       "    </tr>\n",
       "    <tr>\n",
       "      <th>4</th>\n",
       "      <td>1680</td>\n",
       "      <td>8080</td>\n",
       "      <td>1680</td>\n",
       "      <td>1800</td>\n",
       "      <td>7503</td>\n",
       "    </tr>\n",
       "    <tr>\n",
       "      <th>...</th>\n",
       "      <td>...</td>\n",
       "      <td>...</td>\n",
       "      <td>...</td>\n",
       "      <td>...</td>\n",
       "      <td>...</td>\n",
       "    </tr>\n",
       "    <tr>\n",
       "      <th>21592</th>\n",
       "      <td>1530</td>\n",
       "      <td>1131</td>\n",
       "      <td>1530</td>\n",
       "      <td>1530</td>\n",
       "      <td>1509</td>\n",
       "    </tr>\n",
       "    <tr>\n",
       "      <th>21593</th>\n",
       "      <td>2310</td>\n",
       "      <td>5813</td>\n",
       "      <td>2310</td>\n",
       "      <td>1830</td>\n",
       "      <td>7200</td>\n",
       "    </tr>\n",
       "    <tr>\n",
       "      <th>21594</th>\n",
       "      <td>1020</td>\n",
       "      <td>1350</td>\n",
       "      <td>1020</td>\n",
       "      <td>1020</td>\n",
       "      <td>2007</td>\n",
       "    </tr>\n",
       "    <tr>\n",
       "      <th>21595</th>\n",
       "      <td>1600</td>\n",
       "      <td>2388</td>\n",
       "      <td>1600</td>\n",
       "      <td>1410</td>\n",
       "      <td>1287</td>\n",
       "    </tr>\n",
       "    <tr>\n",
       "      <th>21596</th>\n",
       "      <td>1020</td>\n",
       "      <td>1076</td>\n",
       "      <td>1020</td>\n",
       "      <td>1020</td>\n",
       "      <td>1357</td>\n",
       "    </tr>\n",
       "  </tbody>\n",
       "</table>\n",
       "<p>21597 rows × 5 columns</p>\n",
       "</div>"
      ],
      "text/plain": [
       "       sqft_living  sqft_lot  sqft_above  sqft_living15  sqft_lot15\n",
       "0             1180      5650        1180           1340        5650\n",
       "1             2570      7242        2170           1690        7639\n",
       "2              770     10000         770           2720        8062\n",
       "3             1960      5000        1050           1360        5000\n",
       "4             1680      8080        1680           1800        7503\n",
       "...            ...       ...         ...            ...         ...\n",
       "21592         1530      1131        1530           1530        1509\n",
       "21593         2310      5813        2310           1830        7200\n",
       "21594         1020      1350        1020           1020        2007\n",
       "21595         1600      2388        1600           1410        1287\n",
       "21596         1020      1076        1020           1020        1357\n",
       "\n",
       "[21597 rows x 5 columns]"
      ]
     },
     "execution_count": 210,
     "metadata": {},
     "output_type": "execute_result"
    }
   ],
   "source": [
    "cont_data"
   ]
  },
  {
   "cell_type": "code",
   "execution_count": 211,
   "metadata": {
    "scrolled": true
   },
   "outputs": [
    {
     "data": {
      "image/png": "[encoded data removed]",
      "text/plain": [
       "<Figure size 720x720 with 6 Axes>"
      ]
     },
     "metadata": {
      "needs_background": "light"
     },
     "output_type": "display_data"
    }
   ],
   "source": [
    "cont_data.hist(figsize=(10,10), bins='auto');"
   ]
  },
  {
   "cell_type": "code",
   "execution_count": 212,
   "metadata": {},
   "outputs": [],
   "source": [
    "#the continuous variable are skewed so i will apply log transforms"
   ]
  },
  {
   "cell_type": "code",
   "execution_count": 213,
   "metadata": {
    "scrolled": true
   },
   "outputs": [
    {
     "data": {
      "image/png": "[encoded data removed]",
      "text/plain": [
       "<Figure size 720x720 with 6 Axes>"
      ]
     },
     "metadata": {
      "needs_background": "light"
     },
     "output_type": "display_data"
    }
   ],
   "source": [
    "log_names = [f'{column}_log' for column in cont_data.columns]\n",
    "\n",
    "cont_log = np.log(cont_data);\n",
    "cont_log.columns = log_names;\n",
    "cont_log.hist(figsize=(10, 10), bins='auto');"
   ]
  },
  {
   "cell_type": "code",
   "execution_count": 214,
   "metadata": {},
   "outputs": [],
   "source": [
    "df.drop(cont_data.columns, axis=1, inplace=True)"
   ]
  },
  {
   "cell_type": "code",
   "execution_count": 215,
   "metadata": {
    "scrolled": false
   },
   "outputs": [],
   "source": [
    "data = pd.concat([df,cont_log],  axis=1)"
   ]
  },
  {
   "cell_type": "code",
   "execution_count": 365,
   "metadata": {},
   "outputs": [
    {
     "data": {
      "text/html": [
       "<div>\n",
       "<style scoped>\n",
       "    .dataframe tbody tr th:only-of-type {\n",
       "        vertical-align: middle;\n",
       "    }\n",
       "\n",
       "    .dataframe tbody tr th {\n",
       "        vertical-align: top;\n",
       "    }\n",
       "\n",
       "    .dataframe thead th {\n",
       "        text-align: right;\n",
       "    }\n",
       "</style>\n",
       "<table border=\"1\" class=\"dataframe\">\n",
       "  <thead>\n",
       "    <tr style=\"text-align: right;\">\n",
       "      <th></th>\n",
       "      <th>price</th>\n",
       "      <th>bedrooms</th>\n",
       "      <th>bathrooms</th>\n",
       "      <th>floors</th>\n",
       "      <th>waterfront</th>\n",
       "      <th>condition</th>\n",
       "      <th>grade</th>\n",
       "      <th>yr_built</th>\n",
       "      <th>is_basement</th>\n",
       "      <th>sqft_living_log</th>\n",
       "      <th>sqft_lot_log</th>\n",
       "      <th>sqft_above_log</th>\n",
       "      <th>sqft_living15_log</th>\n",
       "      <th>sqft_lot15_log</th>\n",
       "    </tr>\n",
       "  </thead>\n",
       "  <tbody>\n",
       "    <tr>\n",
       "      <th>0</th>\n",
       "      <td>221900.0</td>\n",
       "      <td>3</td>\n",
       "      <td>1.00</td>\n",
       "      <td>1.0</td>\n",
       "      <td>0</td>\n",
       "      <td>2</td>\n",
       "      <td>7</td>\n",
       "      <td>1955</td>\n",
       "      <td>0</td>\n",
       "      <td>7.073270</td>\n",
       "      <td>8.639411</td>\n",
       "      <td>7.073270</td>\n",
       "      <td>7.200425</td>\n",
       "      <td>8.639411</td>\n",
       "    </tr>\n",
       "    <tr>\n",
       "      <th>1</th>\n",
       "      <td>538000.0</td>\n",
       "      <td>3</td>\n",
       "      <td>2.25</td>\n",
       "      <td>2.0</td>\n",
       "      <td>0</td>\n",
       "      <td>2</td>\n",
       "      <td>7</td>\n",
       "      <td>1951</td>\n",
       "      <td>1</td>\n",
       "      <td>7.851661</td>\n",
       "      <td>8.887653</td>\n",
       "      <td>7.682482</td>\n",
       "      <td>7.432484</td>\n",
       "      <td>8.941022</td>\n",
       "    </tr>\n",
       "    <tr>\n",
       "      <th>2</th>\n",
       "      <td>180000.0</td>\n",
       "      <td>2</td>\n",
       "      <td>1.00</td>\n",
       "      <td>1.0</td>\n",
       "      <td>0</td>\n",
       "      <td>2</td>\n",
       "      <td>6</td>\n",
       "      <td>1933</td>\n",
       "      <td>0</td>\n",
       "      <td>6.646391</td>\n",
       "      <td>9.210340</td>\n",
       "      <td>6.646391</td>\n",
       "      <td>7.908387</td>\n",
       "      <td>8.994917</td>\n",
       "    </tr>\n",
       "    <tr>\n",
       "      <th>3</th>\n",
       "      <td>604000.0</td>\n",
       "      <td>4</td>\n",
       "      <td>3.00</td>\n",
       "      <td>1.0</td>\n",
       "      <td>0</td>\n",
       "      <td>4</td>\n",
       "      <td>7</td>\n",
       "      <td>1965</td>\n",
       "      <td>1</td>\n",
       "      <td>7.580700</td>\n",
       "      <td>8.517193</td>\n",
       "      <td>6.956545</td>\n",
       "      <td>7.215240</td>\n",
       "      <td>8.517193</td>\n",
       "    </tr>\n",
       "    <tr>\n",
       "      <th>4</th>\n",
       "      <td>510000.0</td>\n",
       "      <td>3</td>\n",
       "      <td>2.00</td>\n",
       "      <td>1.0</td>\n",
       "      <td>0</td>\n",
       "      <td>2</td>\n",
       "      <td>8</td>\n",
       "      <td>1987</td>\n",
       "      <td>0</td>\n",
       "      <td>7.426549</td>\n",
       "      <td>8.997147</td>\n",
       "      <td>7.426549</td>\n",
       "      <td>7.495542</td>\n",
       "      <td>8.923058</td>\n",
       "    </tr>\n",
       "    <tr>\n",
       "      <th>...</th>\n",
       "      <td>...</td>\n",
       "      <td>...</td>\n",
       "      <td>...</td>\n",
       "      <td>...</td>\n",
       "      <td>...</td>\n",
       "      <td>...</td>\n",
       "      <td>...</td>\n",
       "      <td>...</td>\n",
       "      <td>...</td>\n",
       "      <td>...</td>\n",
       "      <td>...</td>\n",
       "      <td>...</td>\n",
       "      <td>...</td>\n",
       "      <td>...</td>\n",
       "    </tr>\n",
       "    <tr>\n",
       "      <th>21592</th>\n",
       "      <td>360000.0</td>\n",
       "      <td>3</td>\n",
       "      <td>2.50</td>\n",
       "      <td>3.0</td>\n",
       "      <td>0</td>\n",
       "      <td>2</td>\n",
       "      <td>8</td>\n",
       "      <td>2009</td>\n",
       "      <td>0</td>\n",
       "      <td>7.333023</td>\n",
       "      <td>7.030857</td>\n",
       "      <td>7.333023</td>\n",
       "      <td>7.333023</td>\n",
       "      <td>7.319202</td>\n",
       "    </tr>\n",
       "    <tr>\n",
       "      <th>21593</th>\n",
       "      <td>400000.0</td>\n",
       "      <td>4</td>\n",
       "      <td>2.50</td>\n",
       "      <td>2.0</td>\n",
       "      <td>0</td>\n",
       "      <td>2</td>\n",
       "      <td>8</td>\n",
       "      <td>2014</td>\n",
       "      <td>0</td>\n",
       "      <td>7.745003</td>\n",
       "      <td>8.667852</td>\n",
       "      <td>7.745003</td>\n",
       "      <td>7.512071</td>\n",
       "      <td>8.881836</td>\n",
       "    </tr>\n",
       "    <tr>\n",
       "      <th>21594</th>\n",
       "      <td>402101.0</td>\n",
       "      <td>2</td>\n",
       "      <td>0.75</td>\n",
       "      <td>2.0</td>\n",
       "      <td>0</td>\n",
       "      <td>2</td>\n",
       "      <td>7</td>\n",
       "      <td>2009</td>\n",
       "      <td>0</td>\n",
       "      <td>6.927558</td>\n",
       "      <td>7.207860</td>\n",
       "      <td>6.927558</td>\n",
       "      <td>6.927558</td>\n",
       "      <td>7.604396</td>\n",
       "    </tr>\n",
       "    <tr>\n",
       "      <th>21595</th>\n",
       "      <td>400000.0</td>\n",
       "      <td>3</td>\n",
       "      <td>2.50</td>\n",
       "      <td>2.0</td>\n",
       "      <td>0</td>\n",
       "      <td>2</td>\n",
       "      <td>8</td>\n",
       "      <td>2004</td>\n",
       "      <td>0</td>\n",
       "      <td>7.377759</td>\n",
       "      <td>7.778211</td>\n",
       "      <td>7.377759</td>\n",
       "      <td>7.251345</td>\n",
       "      <td>7.160069</td>\n",
       "    </tr>\n",
       "    <tr>\n",
       "      <th>21596</th>\n",
       "      <td>325000.0</td>\n",
       "      <td>2</td>\n",
       "      <td>0.75</td>\n",
       "      <td>2.0</td>\n",
       "      <td>0</td>\n",
       "      <td>2</td>\n",
       "      <td>7</td>\n",
       "      <td>2008</td>\n",
       "      <td>0</td>\n",
       "      <td>6.927558</td>\n",
       "      <td>6.981006</td>\n",
       "      <td>6.927558</td>\n",
       "      <td>6.927558</td>\n",
       "      <td>7.213032</td>\n",
       "    </tr>\n",
       "  </tbody>\n",
       "</table>\n",
       "<p>21597 rows × 14 columns</p>\n",
       "</div>"
      ],
      "text/plain": [
       "          price  bedrooms  bathrooms  floors  waterfront  condition  grade  \\\n",
       "0      221900.0         3       1.00     1.0           0          2      7   \n",
       "1      538000.0         3       2.25     2.0           0          2      7   \n",
       "2      180000.0         2       1.00     1.0           0          2      6   \n",
       "3      604000.0         4       3.00     1.0           0          4      7   \n",
       "4      510000.0         3       2.00     1.0           0          2      8   \n",
       "...         ...       ...        ...     ...         ...        ...    ...   \n",
       "21592  360000.0         3       2.50     3.0           0          2      8   \n",
       "21593  400000.0         4       2.50     2.0           0          2      8   \n",
       "21594  402101.0         2       0.75     2.0           0          2      7   \n",
       "21595  400000.0         3       2.50     2.0           0          2      8   \n",
       "21596  325000.0         2       0.75     2.0           0          2      7   \n",
       "\n",
       "       yr_built  is_basement  sqft_living_log  sqft_lot_log  sqft_above_log  \\\n",
       "0          1955            0         7.073270      8.639411        7.073270   \n",
       "1          1951            1         7.851661      8.887653        7.682482   \n",
       "2          1933            0         6.646391      9.210340        6.646391   \n",
       "3          1965            1         7.580700      8.517193        6.956545   \n",
       "4          1987            0         7.426549      8.997147        7.426549   \n",
       "...         ...          ...              ...           ...             ...   \n",
       "21592      2009            0         7.333023      7.030857        7.333023   \n",
       "21593      2014            0         7.745003      8.667852        7.745003   \n",
       "21594      2009            0         6.927558      7.207860        6.927558   \n",
       "21595      2004            0         7.377759      7.778211        7.377759   \n",
       "21596      2008            0         6.927558      6.981006        6.927558   \n",
       "\n",
       "       sqft_living15_log  sqft_lot15_log  \n",
       "0               7.200425        8.639411  \n",
       "1               7.432484        8.941022  \n",
       "2               7.908387        8.994917  \n",
       "3               7.215240        8.517193  \n",
       "4               7.495542        8.923058  \n",
       "...                  ...             ...  \n",
       "21592           7.333023        7.319202  \n",
       "21593           7.512071        8.881836  \n",
       "21594           6.927558        7.604396  \n",
       "21595           7.251345        7.160069  \n",
       "21596           6.927558        7.213032  \n",
       "\n",
       "[21597 rows x 14 columns]"
      ]
     },
     "execution_count": 365,
     "metadata": {},
     "output_type": "execute_result"
    }
   ],
   "source": [
    "data"
   ]
  },
  {
   "cell_type": "code",
   "execution_count": 340,
   "metadata": {
    "scrolled": true
   },
   "outputs": [
    {
     "data": {
      "text/html": [
       "<div>\n",
       "<style scoped>\n",
       "    .dataframe tbody tr th:only-of-type {\n",
       "        vertical-align: middle;\n",
       "    }\n",
       "\n",
       "    .dataframe tbody tr th {\n",
       "        vertical-align: top;\n",
       "    }\n",
       "\n",
       "    .dataframe thead th {\n",
       "        text-align: right;\n",
       "    }\n",
       "</style>\n",
       "<table border=\"1\" class=\"dataframe\">\n",
       "  <thead>\n",
       "    <tr style=\"text-align: right;\">\n",
       "      <th></th>\n",
       "      <th>price</th>\n",
       "      <th>bedrooms</th>\n",
       "      <th>bathrooms</th>\n",
       "      <th>floors</th>\n",
       "      <th>waterfront</th>\n",
       "      <th>condition</th>\n",
       "      <th>grade</th>\n",
       "      <th>yr_built</th>\n",
       "      <th>is_basement</th>\n",
       "      <th>sqft_living_log</th>\n",
       "      <th>sqft_lot_log</th>\n",
       "      <th>sqft_above_log</th>\n",
       "      <th>sqft_living15_log</th>\n",
       "      <th>sqft_lot15_log</th>\n",
       "    </tr>\n",
       "  </thead>\n",
       "  <tbody>\n",
       "    <tr>\n",
       "      <th>price</th>\n",
       "      <td>1.000000</td>\n",
       "      <td>0.308787</td>\n",
       "      <td>0.525906</td>\n",
       "      <td>0.256804</td>\n",
       "      <td>0.264306</td>\n",
       "      <td>0.036056</td>\n",
       "      <td>0.667951</td>\n",
       "      <td>0.053953</td>\n",
       "      <td>0.180082</td>\n",
       "      <td>0.611839</td>\n",
       "      <td>0.161561</td>\n",
       "      <td>0.542675</td>\n",
       "      <td>0.543829</td>\n",
       "      <td>0.147913</td>\n",
       "    </tr>\n",
       "    <tr>\n",
       "      <th>bedrooms</th>\n",
       "      <td>0.308787</td>\n",
       "      <td>1.000000</td>\n",
       "      <td>0.514508</td>\n",
       "      <td>0.177944</td>\n",
       "      <td>-0.002127</td>\n",
       "      <td>0.026496</td>\n",
       "      <td>0.356563</td>\n",
       "      <td>0.155670</td>\n",
       "      <td>0.162186</td>\n",
       "      <td>0.621820</td>\n",
       "      <td>0.184922</td>\n",
       "      <td>0.516072</td>\n",
       "      <td>0.406631</td>\n",
       "      <td>0.162238</td>\n",
       "    </tr>\n",
       "    <tr>\n",
       "      <th>bathrooms</th>\n",
       "      <td>0.525906</td>\n",
       "      <td>0.514508</td>\n",
       "      <td>1.000000</td>\n",
       "      <td>0.502582</td>\n",
       "      <td>0.063629</td>\n",
       "      <td>-0.126479</td>\n",
       "      <td>0.665838</td>\n",
       "      <td>0.507173</td>\n",
       "      <td>0.162766</td>\n",
       "      <td>0.762135</td>\n",
       "      <td>0.100624</td>\n",
       "      <td>0.695839</td>\n",
       "      <td>0.571796</td>\n",
       "      <td>0.091975</td>\n",
       "    </tr>\n",
       "    <tr>\n",
       "      <th>floors</th>\n",
       "      <td>0.256804</td>\n",
       "      <td>0.177944</td>\n",
       "      <td>0.502582</td>\n",
       "      <td>1.000000</td>\n",
       "      <td>0.020797</td>\n",
       "      <td>-0.264075</td>\n",
       "      <td>0.458794</td>\n",
       "      <td>0.489193</td>\n",
       "      <td>-0.256545</td>\n",
       "      <td>0.367564</td>\n",
       "      <td>-0.237460</td>\n",
       "      <td>0.547619</td>\n",
       "      <td>0.275476</td>\n",
       "      <td>-0.227223</td>\n",
       "    </tr>\n",
       "    <tr>\n",
       "      <th>waterfront</th>\n",
       "      <td>0.264306</td>\n",
       "      <td>-0.002127</td>\n",
       "      <td>0.063629</td>\n",
       "      <td>0.020797</td>\n",
       "      <td>1.000000</td>\n",
       "      <td>0.016648</td>\n",
       "      <td>0.082818</td>\n",
       "      <td>-0.024487</td>\n",
       "      <td>0.040061</td>\n",
       "      <td>0.078900</td>\n",
       "      <td>0.072340</td>\n",
       "      <td>0.059125</td>\n",
       "      <td>0.076503</td>\n",
       "      <td>0.081562</td>\n",
       "    </tr>\n",
       "    <tr>\n",
       "      <th>condition</th>\n",
       "      <td>0.036056</td>\n",
       "      <td>0.026496</td>\n",
       "      <td>-0.126479</td>\n",
       "      <td>-0.264075</td>\n",
       "      <td>0.016648</td>\n",
       "      <td>1.000000</td>\n",
       "      <td>-0.146896</td>\n",
       "      <td>-0.361592</td>\n",
       "      <td>0.135211</td>\n",
       "      <td>-0.049620</td>\n",
       "      <td>0.073694</td>\n",
       "      <td>-0.150730</td>\n",
       "      <td>-0.089255</td>\n",
       "      <td>0.079862</td>\n",
       "    </tr>\n",
       "    <tr>\n",
       "      <th>grade</th>\n",
       "      <td>0.667951</td>\n",
       "      <td>0.356563</td>\n",
       "      <td>0.665838</td>\n",
       "      <td>0.458794</td>\n",
       "      <td>0.082818</td>\n",
       "      <td>-0.146896</td>\n",
       "      <td>1.000000</td>\n",
       "      <td>0.447865</td>\n",
       "      <td>0.051255</td>\n",
       "      <td>0.743038</td>\n",
       "      <td>0.184323</td>\n",
       "      <td>0.742869</td>\n",
       "      <td>0.689054</td>\n",
       "      <td>0.185000</td>\n",
       "    </tr>\n",
       "    <tr>\n",
       "      <th>yr_built</th>\n",
       "      <td>0.053953</td>\n",
       "      <td>0.155670</td>\n",
       "      <td>0.507173</td>\n",
       "      <td>0.489193</td>\n",
       "      <td>-0.024487</td>\n",
       "      <td>-0.361592</td>\n",
       "      <td>0.447865</td>\n",
       "      <td>1.000000</td>\n",
       "      <td>-0.167844</td>\n",
       "      <td>0.349689</td>\n",
       "      <td>-0.007287</td>\n",
       "      <td>0.451397</td>\n",
       "      <td>0.333819</td>\n",
       "      <td>0.018759</td>\n",
       "    </tr>\n",
       "    <tr>\n",
       "      <th>is_basement</th>\n",
       "      <td>0.180082</td>\n",
       "      <td>0.162186</td>\n",
       "      <td>0.162766</td>\n",
       "      <td>-0.256545</td>\n",
       "      <td>0.040061</td>\n",
       "      <td>0.135211</td>\n",
       "      <td>0.051255</td>\n",
       "      <td>-0.167844</td>\n",
       "      <td>1.000000</td>\n",
       "      <td>0.237156</td>\n",
       "      <td>-0.050144</td>\n",
       "      <td>-0.217167</td>\n",
       "      <td>0.063179</td>\n",
       "      <td>-0.055472</td>\n",
       "    </tr>\n",
       "    <tr>\n",
       "      <th>sqft_living_log</th>\n",
       "      <td>0.611839</td>\n",
       "      <td>0.621820</td>\n",
       "      <td>0.762135</td>\n",
       "      <td>0.367564</td>\n",
       "      <td>0.078900</td>\n",
       "      <td>-0.049620</td>\n",
       "      <td>0.743038</td>\n",
       "      <td>0.349689</td>\n",
       "      <td>0.237156</td>\n",
       "      <td>1.000000</td>\n",
       "      <td>0.325983</td>\n",
       "      <td>0.864979</td>\n",
       "      <td>0.746836</td>\n",
       "      <td>0.303058</td>\n",
       "    </tr>\n",
       "    <tr>\n",
       "      <th>sqft_lot_log</th>\n",
       "      <td>0.161561</td>\n",
       "      <td>0.184922</td>\n",
       "      <td>0.100624</td>\n",
       "      <td>-0.237460</td>\n",
       "      <td>0.072340</td>\n",
       "      <td>0.073694</td>\n",
       "      <td>0.184323</td>\n",
       "      <td>-0.007287</td>\n",
       "      <td>-0.050144</td>\n",
       "      <td>0.325983</td>\n",
       "      <td>1.000000</td>\n",
       "      <td>0.318663</td>\n",
       "      <td>0.363743</td>\n",
       "      <td>0.918665</td>\n",
       "    </tr>\n",
       "    <tr>\n",
       "      <th>sqft_above_log</th>\n",
       "      <td>0.542675</td>\n",
       "      <td>0.516072</td>\n",
       "      <td>0.695839</td>\n",
       "      <td>0.547619</td>\n",
       "      <td>0.059125</td>\n",
       "      <td>-0.150730</td>\n",
       "      <td>0.742869</td>\n",
       "      <td>0.451397</td>\n",
       "      <td>-0.217167</td>\n",
       "      <td>0.864979</td>\n",
       "      <td>0.318663</td>\n",
       "      <td>1.000000</td>\n",
       "      <td>0.713102</td>\n",
       "      <td>0.298696</td>\n",
       "    </tr>\n",
       "    <tr>\n",
       "      <th>sqft_living15_log</th>\n",
       "      <td>0.543829</td>\n",
       "      <td>0.406631</td>\n",
       "      <td>0.571796</td>\n",
       "      <td>0.275476</td>\n",
       "      <td>0.076503</td>\n",
       "      <td>-0.089255</td>\n",
       "      <td>0.689054</td>\n",
       "      <td>0.333819</td>\n",
       "      <td>0.063179</td>\n",
       "      <td>0.746836</td>\n",
       "      <td>0.363743</td>\n",
       "      <td>0.713102</td>\n",
       "      <td>1.000000</td>\n",
       "      <td>0.373618</td>\n",
       "    </tr>\n",
       "    <tr>\n",
       "      <th>sqft_lot15_log</th>\n",
       "      <td>0.147913</td>\n",
       "      <td>0.162238</td>\n",
       "      <td>0.091975</td>\n",
       "      <td>-0.227223</td>\n",
       "      <td>0.081562</td>\n",
       "      <td>0.079862</td>\n",
       "      <td>0.185000</td>\n",
       "      <td>0.018759</td>\n",
       "      <td>-0.055472</td>\n",
       "      <td>0.303058</td>\n",
       "      <td>0.918665</td>\n",
       "      <td>0.298696</td>\n",
       "      <td>0.373618</td>\n",
       "      <td>1.000000</td>\n",
       "    </tr>\n",
       "  </tbody>\n",
       "</table>\n",
       "</div>"
      ],
      "text/plain": [
       "                      price  bedrooms  bathrooms    floors  waterfront  \\\n",
       "price              1.000000  0.308787   0.525906  0.256804    0.264306   \n",
       "bedrooms           0.308787  1.000000   0.514508  0.177944   -0.002127   \n",
       "bathrooms          0.525906  0.514508   1.000000  0.502582    0.063629   \n",
       "floors             0.256804  0.177944   0.502582  1.000000    0.020797   \n",
       "waterfront         0.264306 -0.002127   0.063629  0.020797    1.000000   \n",
       "condition          0.036056  0.026496  -0.126479 -0.264075    0.016648   \n",
       "grade              0.667951  0.356563   0.665838  0.458794    0.082818   \n",
       "yr_built           0.053953  0.155670   0.507173  0.489193   -0.024487   \n",
       "is_basement        0.180082  0.162186   0.162766 -0.256545    0.040061   \n",
       "sqft_living_log    0.611839  0.621820   0.762135  0.367564    0.078900   \n",
       "sqft_lot_log       0.161561  0.184922   0.100624 -0.237460    0.072340   \n",
       "sqft_above_log     0.542675  0.516072   0.695839  0.547619    0.059125   \n",
       "sqft_living15_log  0.543829  0.406631   0.571796  0.275476    0.076503   \n",
       "sqft_lot15_log     0.147913  0.162238   0.091975 -0.227223    0.081562   \n",
       "\n",
       "                   condition     grade  yr_built  is_basement  \\\n",
       "price               0.036056  0.667951  0.053953     0.180082   \n",
       "bedrooms            0.026496  0.356563  0.155670     0.162186   \n",
       "bathrooms          -0.126479  0.665838  0.507173     0.162766   \n",
       "floors             -0.264075  0.458794  0.489193    -0.256545   \n",
       "waterfront          0.016648  0.082818 -0.024487     0.040061   \n",
       "condition           1.000000 -0.146896 -0.361592     0.135211   \n",
       "grade              -0.146896  1.000000  0.447865     0.051255   \n",
       "yr_built           -0.361592  0.447865  1.000000    -0.167844   \n",
       "is_basement         0.135211  0.051255 -0.167844     1.000000   \n",
       "sqft_living_log    -0.049620  0.743038  0.349689     0.237156   \n",
       "sqft_lot_log        0.073694  0.184323 -0.007287    -0.050144   \n",
       "sqft_above_log     -0.150730  0.742869  0.451397    -0.217167   \n",
       "sqft_living15_log  -0.089255  0.689054  0.333819     0.063179   \n",
       "sqft_lot15_log      0.079862  0.185000  0.018759    -0.055472   \n",
       "\n",
       "                   sqft_living_log  sqft_lot_log  sqft_above_log  \\\n",
       "price                     0.611839      0.161561        0.542675   \n",
       "bedrooms                  0.621820      0.184922        0.516072   \n",
       "bathrooms                 0.762135      0.100624        0.695839   \n",
       "floors                    0.367564     -0.237460        0.547619   \n",
       "waterfront                0.078900      0.072340        0.059125   \n",
       "condition                -0.049620      0.073694       -0.150730   \n",
       "grade                     0.743038      0.184323        0.742869   \n",
       "yr_built                  0.349689     -0.007287        0.451397   \n",
       "is_basement               0.237156     -0.050144       -0.217167   \n",
       "sqft_living_log           1.000000      0.325983        0.864979   \n",
       "sqft_lot_log              0.325983      1.000000        0.318663   \n",
       "sqft_above_log            0.864979      0.318663        1.000000   \n",
       "sqft_living15_log         0.746836      0.363743        0.713102   \n",
       "sqft_lot15_log            0.303058      0.918665        0.298696   \n",
       "\n",
       "                   sqft_living15_log  sqft_lot15_log  \n",
       "price                       0.543829        0.147913  \n",
       "bedrooms                    0.406631        0.162238  \n",
       "bathrooms                   0.571796        0.091975  \n",
       "floors                      0.275476       -0.227223  \n",
       "waterfront                  0.076503        0.081562  \n",
       "condition                  -0.089255        0.079862  \n",
       "grade                       0.689054        0.185000  \n",
       "yr_built                    0.333819        0.018759  \n",
       "is_basement                 0.063179       -0.055472  \n",
       "sqft_living_log             0.746836        0.303058  \n",
       "sqft_lot_log                0.363743        0.918665  \n",
       "sqft_above_log              0.713102        0.298696  \n",
       "sqft_living15_log           1.000000        0.373618  \n",
       "sqft_lot15_log              0.373618        1.000000  "
      ]
     },
     "execution_count": 340,
     "metadata": {},
     "output_type": "execute_result"
    }
   ],
   "source": [
    "data.corr()"
   ]
  },
  {
   "cell_type": "code",
   "execution_count": 357,
   "metadata": {
    "scrolled": true
   },
   "outputs": [
    {
     "data": {
      "image/png": "[encoded data removed]",
      "text/plain": [
       "<Figure size 432x288 with 1 Axes>"
      ]
     },
     "metadata": {
      "needs_background": "light"
     },
     "output_type": "display_data"
    }
   ],
   "source": [
    "df.plot.scatter(x='sqft_living', y='price');"
   ]
  },
  {
   "cell_type": "code",
   "execution_count": 361,
   "metadata": {
    "scrolled": true
   },
   "outputs": [
    {
     "data": {
      "image/png": "[encoded data removed]",
      "text/plain": [
       "<Figure size 432x288 with 1 Axes>"
      ]
     },
     "metadata": {
      "needs_background": "light"
     },
     "output_type": "display_data"
    }
   ],
   "source": [
    "df[df.price < 1000000].price.hist(bins='auto');"
   ]
  },
  {
   "cell_type": "code",
   "execution_count": 362,
   "metadata": {},
   "outputs": [],
   "source": [
    "y = np.log(df.price)"
   ]
  },
  {
   "cell_type": "code",
   "execution_count": 364,
   "metadata": {},
   "outputs": [
    {
     "data": {
      "text/plain": [
       "<AxesSubplot:>"
      ]
     },
     "execution_count": 364,
     "metadata": {},
     "output_type": "execute_result"
    },
    {
     "data": {
      "image/png": "[encoded data removed]",
      "text/plain": [
       "<Figure size 432x288 with 1 Axes>"
      ]
     },
     "metadata": {
      "needs_background": "light"
     },
     "output_type": "display_data"
    }
   ],
   "source": [
    "y.hist(bins='auto')"
   ]
  },
  {
   "cell_type": "markdown",
   "metadata": {},
   "source": [
    "## Baseline Model"
   ]
  },
  {
   "cell_type": "code",
   "execution_count": 218,
   "metadata": {},
   "outputs": [],
   "source": [
    "baseline_model = LinearRegression()"
   ]
  },
  {
   "cell_type": "code",
   "execution_count": 274,
   "metadata": {},
   "outputs": [
    {
     "name": "stdout",
     "output_type": "stream",
     "text": [
      "Train score:      0.48774659364870426\n",
      "Validation score: 0.5024006604207555\n"
     ]
    }
   ],
   "source": [
    "from sklearn.model_selection import cross_validate, ShuffleSplit\n",
    "\n",
    "splitter = ShuffleSplit(n_splits=3, test_size=0.25, random_state=0)\n",
    "\n",
    "baseline_scores = cross_validate(\n",
    "    estimator=baseline_model,\n",
    "    X=df[['sqft_living']],\n",
    "    y=df[['price']],\n",
    "    return_train_score=True,\n",
    "    cv=splitter\n",
    ")\n",
    "\n",
    "print(\"Train score:     \", baseline_scores[\"train_score\"].mean())\n",
    "print(\"Validation score:\", baseline_scores[\"test_score\"].mean())"
   ]
  },
  {
   "cell_type": "code",
   "execution_count": 366,
   "metadata": {},
   "outputs": [
    {
     "name": "stdout",
     "output_type": "stream",
     "text": [
      "Train score:      0.6555388283863258\n",
      "Validation score: 0.6731097985557474\n"
     ]
    }
   ],
   "source": [
    "from sklearn.model_selection import cross_validate, ShuffleSplit\n",
    "\n",
    "splitter = ShuffleSplit(n_splits=3, test_size=0.25, random_state=0)\n",
    "\n",
    "baseline_scores = cross_validate(\n",
    "    estimator=baseline_model,\n",
    "    X=data.drop('price', axis=1),\n",
    "    y=y,\n",
    "    return_train_score=True,\n",
    "    cv=splitter\n",
    ")\n",
    "\n",
    "print(\"Train score:     \", baseline_scores[\"train_score\"].mean())\n",
    "print(\"Validation score:\", baseline_scores[\"test_score\"].mean())"
   ]
  },
  {
   "cell_type": "code",
   "execution_count": 355,
   "metadata": {},
   "outputs": [
    {
     "data": {
      "text/html": [
       "<table class=\"simpletable\">\n",
       "<caption>OLS Regression Results</caption>\n",
       "<tr>\n",
       "  <th>Dep. Variable:</th>          <td>price</td>      <th>  R-squared:         </th>  <td>   0.493</td>  \n",
       "</tr>\n",
       "<tr>\n",
       "  <th>Model:</th>                   <td>OLS</td>       <th>  Adj. R-squared:    </th>  <td>   0.493</td>  \n",
       "</tr>\n",
       "<tr>\n",
       "  <th>Method:</th>             <td>Least Squares</td>  <th>  F-statistic:       </th>  <td>2.097e+04</td> \n",
       "</tr>\n",
       "<tr>\n",
       "  <th>Date:</th>             <td>Thu, 13 Jan 2022</td> <th>  Prob (F-statistic):</th>   <td>  0.00</td>   \n",
       "</tr>\n",
       "<tr>\n",
       "  <th>Time:</th>                 <td>13:58:26</td>     <th>  Log-Likelihood:    </th> <td>-3.0006e+05</td>\n",
       "</tr>\n",
       "<tr>\n",
       "  <th>No. Observations:</th>      <td> 21597</td>      <th>  AIC:               </th>  <td>6.001e+05</td> \n",
       "</tr>\n",
       "<tr>\n",
       "  <th>Df Residuals:</th>          <td> 21595</td>      <th>  BIC:               </th>  <td>6.001e+05</td> \n",
       "</tr>\n",
       "<tr>\n",
       "  <th>Df Model:</th>              <td>     1</td>      <th>                     </th>      <td> </td>     \n",
       "</tr>\n",
       "<tr>\n",
       "  <th>Covariance Type:</th>      <td>nonrobust</td>    <th>                     </th>      <td> </td>     \n",
       "</tr>\n",
       "</table>\n",
       "<table class=\"simpletable\">\n",
       "<tr>\n",
       "       <td></td>          <th>coef</th>     <th>std err</th>      <th>t</th>      <th>P>|t|</th>  <th>[0.025</th>    <th>0.975]</th>  \n",
       "</tr>\n",
       "<tr>\n",
       "  <th>const</th>       <td>-4.399e+04</td> <td> 4410.023</td> <td>   -9.975</td> <td> 0.000</td> <td>-5.26e+04</td> <td>-3.53e+04</td>\n",
       "</tr>\n",
       "<tr>\n",
       "  <th>sqft_living</th> <td>  280.8630</td> <td>    1.939</td> <td>  144.819</td> <td> 0.000</td> <td>  277.062</td> <td>  284.664</td>\n",
       "</tr>\n",
       "</table>\n",
       "<table class=\"simpletable\">\n",
       "<tr>\n",
       "  <th>Omnibus:</th>       <td>14801.942</td> <th>  Durbin-Watson:     </th>  <td>   1.982</td> \n",
       "</tr>\n",
       "<tr>\n",
       "  <th>Prob(Omnibus):</th>  <td> 0.000</td>   <th>  Jarque-Bera (JB):  </th> <td>542662.604</td>\n",
       "</tr>\n",
       "<tr>\n",
       "  <th>Skew:</th>           <td> 2.820</td>   <th>  Prob(JB):          </th>  <td>    0.00</td> \n",
       "</tr>\n",
       "<tr>\n",
       "  <th>Kurtosis:</th>       <td>26.901</td>   <th>  Cond. No.          </th>  <td>5.63e+03</td> \n",
       "</tr>\n",
       "</table><br/><br/>Notes:<br/>[1] Standard Errors assume that the covariance matrix of the errors is correctly specified.<br/>[2] The condition number is large, 5.63e+03. This might indicate that there are<br/>strong multicollinearity or other numerical problems."
      ],
      "text/plain": [
       "<class 'statsmodels.iolib.summary.Summary'>\n",
       "\"\"\"\n",
       "                            OLS Regression Results                            \n",
       "==============================================================================\n",
       "Dep. Variable:                  price   R-squared:                       0.493\n",
       "Model:                            OLS   Adj. R-squared:                  0.493\n",
       "Method:                 Least Squares   F-statistic:                 2.097e+04\n",
       "Date:                Thu, 13 Jan 2022   Prob (F-statistic):               0.00\n",
       "Time:                        13:58:26   Log-Likelihood:            -3.0006e+05\n",
       "No. Observations:               21597   AIC:                         6.001e+05\n",
       "Df Residuals:                   21595   BIC:                         6.001e+05\n",
       "Df Model:                           1                                         \n",
       "Covariance Type:            nonrobust                                         \n",
       "===============================================================================\n",
       "                  coef    std err          t      P>|t|      [0.025      0.975]\n",
       "-------------------------------------------------------------------------------\n",
       "const       -4.399e+04   4410.023     -9.975      0.000   -5.26e+04   -3.53e+04\n",
       "sqft_living   280.8630      1.939    144.819      0.000     277.062     284.664\n",
       "==============================================================================\n",
       "Omnibus:                    14801.942   Durbin-Watson:                   1.982\n",
       "Prob(Omnibus):                  0.000   Jarque-Bera (JB):           542662.604\n",
       "Skew:                           2.820   Prob(JB):                         0.00\n",
       "Kurtosis:                      26.901   Cond. No.                     5.63e+03\n",
       "==============================================================================\n",
       "\n",
       "Notes:\n",
       "[1] Standard Errors assume that the covariance matrix of the errors is correctly specified.\n",
       "[2] The condition number is large, 5.63e+03. This might indicate that there are\n",
       "strong multicollinearity or other numerical problems.\n",
       "\"\"\""
      ]
     },
     "execution_count": 355,
     "metadata": {},
     "output_type": "execute_result"
    }
   ],
   "source": [
    "import statsmodels.api as sm\n",
    "\n",
    "sm.OLS(df[['price']], sm.add_constant(df['sqft_living'])).fit().summary()"
   ]
  },
  {
   "cell_type": "code",
   "execution_count": 373,
   "metadata": {},
   "outputs": [],
   "source": [
    "significant_features = [\"bedrooms\", \"bathrooms\", \"floors\", \"waterfront\", \"condition\",\n",
    "                       \"grade\", \"yr_built\", \"sqft_above\",\n",
    "                       \"sqft_living\", \"sqft_living15\", \"sqft_lot15\"]"
   ]
  },
  {
   "cell_type": "code",
   "execution_count": 352,
   "metadata": {},
   "outputs": [],
   "source": [
    "# significant_features = [\"bedrooms\", \"floors\", \"waterfront\", \"condition\",\n",
    "#                         \"yr_built\", \"sqft_living\", \"sqft_lot15\"]"
   ]
  },
  {
   "cell_type": "code",
   "execution_count": 349,
   "metadata": {},
   "outputs": [
    {
     "name": "stdout",
     "output_type": "stream",
     "text": [
      "Train score:      0.5787690757688785\n",
      "Validation score: 0.6057697131621445\n"
     ]
    }
   ],
   "source": [
    "from sklearn.model_selection import cross_validate, ShuffleSplit\n",
    "\n",
    "splitter = ShuffleSplit(n_splits=3, test_size=0.25, random_state=0)\n",
    "\n",
    "baseline_scores = cross_validate(\n",
    "    estimator=baseline_model,\n",
    "    X=df[significant_features],\n",
    "    y=df[['price']],\n",
    "    return_train_score=True,\n",
    "    cv=splitter\n",
    ")\n",
    "\n",
    "print(\"Train score:     \", baseline_scores[\"train_score\"].mean())\n",
    "print(\"Validation score:\", baseline_scores[\"test_score\"].mean())"
   ]
  },
  {
   "cell_type": "code",
   "execution_count": 417,
   "metadata": {
    "scrolled": true
   },
   "outputs": [
    {
     "name": "stdout",
     "output_type": "stream",
     "text": [
      "Was the column selected?\n",
      "bedrooms: True\n",
      "bathrooms: True\n",
      "sqft_living: True\n",
      "sqft_lot: True\n",
      "floors: True\n",
      "waterfront: True\n",
      "condition: True\n",
      "grade: True\n",
      "sqft_above: True\n",
      "yr_built: True\n",
      "sqft_living15: True\n",
      "sqft_lot15: True\n",
      "is_basement: True\n"
     ]
    }
   ],
   "source": [
    "from sklearn.feature_selection import RFECV\n",
    "from sklearn.preprocessing import StandardScaler\n",
    "\n",
    "# Importances are based on coefficient magnitude, so\n",
    "# we need to scale the data to normalize the coefficients\n",
    "data_for_RFECV = StandardScaler().fit_transform(X_train)\n",
    "\n",
    "model_for_RFECV = LinearRegression()\n",
    "\n",
    "# Instantiate and fit the selector\n",
    "selector = RFECV(model_for_RFECV, cv=splitter)\n",
    "selector.fit(data_for_RFECV, y_train)\n",
    "\n",
    "# Print the results\n",
    "print(\"Was the column selected?\")\n",
    "for index, col in enumerate(X_train.columns):\n",
    "    print(f\"{col}: {selector.support_[index]}\")"
   ]
  },
  {
   "cell_type": "code",
   "execution_count": 337,
   "metadata": {},
   "outputs": [
    {
     "data": {
      "text/plain": [
       "array([1, 1, 1, 3, 1, 1, 1, 1, 1, 1, 1, 1, 2])"
      ]
     },
     "execution_count": 337,
     "metadata": {},
     "output_type": "execute_result"
    }
   ],
   "source": [
    "selector.ranking_"
   ]
  },
  {
   "cell_type": "code",
   "execution_count": 374,
   "metadata": {},
   "outputs": [
    {
     "data": {
      "text/html": [
       "<table class=\"simpletable\">\n",
       "<caption>OLS Regression Results</caption>\n",
       "<tr>\n",
       "  <th>Dep. Variable:</th>          <td>price</td>      <th>  R-squared:         </th>  <td>   0.648</td>  \n",
       "</tr>\n",
       "<tr>\n",
       "  <th>Model:</th>                   <td>OLS</td>       <th>  Adj. R-squared:    </th>  <td>   0.648</td>  \n",
       "</tr>\n",
       "<tr>\n",
       "  <th>Method:</th>             <td>Least Squares</td>  <th>  F-statistic:       </th>  <td>   3612.</td>  \n",
       "</tr>\n",
       "<tr>\n",
       "  <th>Date:</th>             <td>Thu, 13 Jan 2022</td> <th>  Prob (F-statistic):</th>   <td>  0.00</td>   \n",
       "</tr>\n",
       "<tr>\n",
       "  <th>Time:</th>                 <td>14:13:54</td>     <th>  Log-Likelihood:    </th> <td>-2.9612e+05</td>\n",
       "</tr>\n",
       "<tr>\n",
       "  <th>No. Observations:</th>      <td> 21597</td>      <th>  AIC:               </th>  <td>5.923e+05</td> \n",
       "</tr>\n",
       "<tr>\n",
       "  <th>Df Residuals:</th>          <td> 21585</td>      <th>  BIC:               </th>  <td>5.924e+05</td> \n",
       "</tr>\n",
       "<tr>\n",
       "  <th>Df Model:</th>              <td>    11</td>      <th>                     </th>      <td> </td>     \n",
       "</tr>\n",
       "<tr>\n",
       "  <th>Covariance Type:</th>      <td>nonrobust</td>    <th>                     </th>      <td> </td>     \n",
       "</tr>\n",
       "</table>\n",
       "<table class=\"simpletable\">\n",
       "<tr>\n",
       "        <td></td>           <th>coef</th>     <th>std err</th>      <th>t</th>      <th>P>|t|</th>  <th>[0.025</th>    <th>0.975]</th>  \n",
       "</tr>\n",
       "<tr>\n",
       "  <th>const</th>         <td>  6.67e+06</td> <td>  1.3e+05</td> <td>   51.174</td> <td> 0.000</td> <td> 6.41e+06</td> <td> 6.93e+06</td>\n",
       "</tr>\n",
       "<tr>\n",
       "  <th>bedrooms</th>      <td>-4.287e+04</td> <td> 2045.832</td> <td>  -20.953</td> <td> 0.000</td> <td>-4.69e+04</td> <td>-3.89e+04</td>\n",
       "</tr>\n",
       "<tr>\n",
       "  <th>bathrooms</th>     <td> 4.897e+04</td> <td> 3506.814</td> <td>   13.964</td> <td> 0.000</td> <td> 4.21e+04</td> <td> 5.58e+04</td>\n",
       "</tr>\n",
       "<tr>\n",
       "  <th>floors</th>        <td> 3.029e+04</td> <td> 3815.635</td> <td>    7.939</td> <td> 0.000</td> <td> 2.28e+04</td> <td> 3.78e+04</td>\n",
       "</tr>\n",
       "<tr>\n",
       "  <th>waterfront</th>    <td> 7.522e+05</td> <td> 1.83e+04</td> <td>   41.070</td> <td> 0.000</td> <td> 7.16e+05</td> <td> 7.88e+05</td>\n",
       "</tr>\n",
       "<tr>\n",
       "  <th>condition</th>     <td> 1.896e+04</td> <td> 2486.019</td> <td>    7.627</td> <td> 0.000</td> <td> 1.41e+04</td> <td> 2.38e+04</td>\n",
       "</tr>\n",
       "<tr>\n",
       "  <th>grade</th>         <td> 1.246e+05</td> <td> 2269.043</td> <td>   54.913</td> <td> 0.000</td> <td>  1.2e+05</td> <td> 1.29e+05</td>\n",
       "</tr>\n",
       "<tr>\n",
       "  <th>yr_built</th>      <td>-3823.5685</td> <td>   67.337</td> <td>  -56.783</td> <td> 0.000</td> <td>-3955.553</td> <td>-3691.584</td>\n",
       "</tr>\n",
       "<tr>\n",
       "  <th>sqft_above</th>    <td>  -21.6339</td> <td>    4.504</td> <td>   -4.804</td> <td> 0.000</td> <td>  -30.461</td> <td>  -12.807</td>\n",
       "</tr>\n",
       "<tr>\n",
       "  <th>sqft_living</th>   <td>  180.8186</td> <td>    4.658</td> <td>   38.817</td> <td> 0.000</td> <td>  171.688</td> <td>  189.949</td>\n",
       "</tr>\n",
       "<tr>\n",
       "  <th>sqft_living15</th> <td>   33.6330</td> <td>    3.596</td> <td>    9.353</td> <td> 0.000</td> <td>   26.584</td> <td>   40.682</td>\n",
       "</tr>\n",
       "<tr>\n",
       "  <th>sqft_lot15</th>    <td>   -0.5288</td> <td>    0.056</td> <td>   -9.373</td> <td> 0.000</td> <td>   -0.639</td> <td>   -0.418</td>\n",
       "</tr>\n",
       "</table>\n",
       "<table class=\"simpletable\">\n",
       "<tr>\n",
       "  <th>Omnibus:</th>       <td>16309.489</td> <th>  Durbin-Watson:     </th>  <td>   1.976</td>  \n",
       "</tr>\n",
       "<tr>\n",
       "  <th>Prob(Omnibus):</th>  <td> 0.000</td>   <th>  Jarque-Bera (JB):  </th> <td>1140922.051</td>\n",
       "</tr>\n",
       "<tr>\n",
       "  <th>Skew:</th>           <td> 3.043</td>   <th>  Prob(JB):          </th>  <td>    0.00</td>  \n",
       "</tr>\n",
       "<tr>\n",
       "  <th>Kurtosis:</th>       <td>38.083</td>   <th>  Cond. No.          </th>  <td>2.65e+06</td>  \n",
       "</tr>\n",
       "</table><br/><br/>Notes:<br/>[1] Standard Errors assume that the covariance matrix of the errors is correctly specified.<br/>[2] The condition number is large, 2.65e+06. This might indicate that there are<br/>strong multicollinearity or other numerical problems."
      ],
      "text/plain": [
       "<class 'statsmodels.iolib.summary.Summary'>\n",
       "\"\"\"\n",
       "                            OLS Regression Results                            \n",
       "==============================================================================\n",
       "Dep. Variable:                  price   R-squared:                       0.648\n",
       "Model:                            OLS   Adj. R-squared:                  0.648\n",
       "Method:                 Least Squares   F-statistic:                     3612.\n",
       "Date:                Thu, 13 Jan 2022   Prob (F-statistic):               0.00\n",
       "Time:                        14:13:54   Log-Likelihood:            -2.9612e+05\n",
       "No. Observations:               21597   AIC:                         5.923e+05\n",
       "Df Residuals:                   21585   BIC:                         5.924e+05\n",
       "Df Model:                          11                                         \n",
       "Covariance Type:            nonrobust                                         \n",
       "=================================================================================\n",
       "                    coef    std err          t      P>|t|      [0.025      0.975]\n",
       "---------------------------------------------------------------------------------\n",
       "const           6.67e+06    1.3e+05     51.174      0.000    6.41e+06    6.93e+06\n",
       "bedrooms      -4.287e+04   2045.832    -20.953      0.000   -4.69e+04   -3.89e+04\n",
       "bathrooms      4.897e+04   3506.814     13.964      0.000    4.21e+04    5.58e+04\n",
       "floors         3.029e+04   3815.635      7.939      0.000    2.28e+04    3.78e+04\n",
       "waterfront     7.522e+05   1.83e+04     41.070      0.000    7.16e+05    7.88e+05\n",
       "condition      1.896e+04   2486.019      7.627      0.000    1.41e+04    2.38e+04\n",
       "grade          1.246e+05   2269.043     54.913      0.000     1.2e+05    1.29e+05\n",
       "yr_built      -3823.5685     67.337    -56.783      0.000   -3955.553   -3691.584\n",
       "sqft_above      -21.6339      4.504     -4.804      0.000     -30.461     -12.807\n",
       "sqft_living     180.8186      4.658     38.817      0.000     171.688     189.949\n",
       "sqft_living15    33.6330      3.596      9.353      0.000      26.584      40.682\n",
       "sqft_lot15       -0.5288      0.056     -9.373      0.000      -0.639      -0.418\n",
       "==============================================================================\n",
       "Omnibus:                    16309.489   Durbin-Watson:                   1.976\n",
       "Prob(Omnibus):                  0.000   Jarque-Bera (JB):          1140922.051\n",
       "Skew:                           3.043   Prob(JB):                         0.00\n",
       "Kurtosis:                      38.083   Cond. No.                     2.65e+06\n",
       "==============================================================================\n",
       "\n",
       "Notes:\n",
       "[1] Standard Errors assume that the covariance matrix of the errors is correctly specified.\n",
       "[2] The condition number is large, 2.65e+06. This might indicate that there are\n",
       "strong multicollinearity or other numerical problems.\n",
       "\"\"\""
      ]
     },
     "execution_count": 374,
     "metadata": {},
     "output_type": "execute_result"
    }
   ],
   "source": [
    "sm.OLS(df[['price']], sm.add_constant(df[significant_features])).fit().summary()"
   ]
  },
  {
   "cell_type": "code",
   "execution_count": 283,
   "metadata": {},
   "outputs": [
    {
     "data": {
      "text/plain": [
       "LinearRegression()"
      ]
     },
     "execution_count": 283,
     "metadata": {},
     "output_type": "execute_result"
    }
   ],
   "source": [
    "final_model = LinearRegression()\n",
    "final_model.fit(df[significant_features], df[['price']])"
   ]
  },
  {
   "cell_type": "code",
   "execution_count": 285,
   "metadata": {},
   "outputs": [
    {
     "data": {
      "text/plain": [
       "array([[-4.14791608e+04,  5.16322344e+04,  2.24198166e+04,\n",
       "         7.55344755e+05,  1.89900533e+04,  1.30404561e+05,\n",
       "        -3.86465875e+03,  1.73690931e+02]])"
      ]
     },
     "execution_count": 285,
     "metadata": {},
     "output_type": "execute_result"
    }
   ],
   "source": [
    "final_model.coef_"
   ]
  },
  {
   "cell_type": "code",
   "execution_count": 287,
   "metadata": {},
   "outputs": [
    {
     "data": {
      "text/plain": [
       "Index(['bedrooms', 'bathrooms', 'floors', 'waterfront', 'condition', 'grade',\n",
       "       'yr_built', 'sqft_living'],\n",
       "      dtype='object')"
      ]
     },
     "execution_count": 287,
     "metadata": {},
     "output_type": "execute_result"
    }
   ],
   "source": [
    "df[significant_features].columns"
   ]
  },
  {
   "cell_type": "code",
   "execution_count": 294,
   "metadata": {},
   "outputs": [],
   "source": [
    "def normalize(feature):\n",
    "    return (feature - feature.mean()) / feature.std()\n"
   ]
  },
  {
   "cell_type": "code",
   "execution_count": 297,
   "metadata": {},
   "outputs": [],
   "source": [
    "cont_log_norm = cont_log.apply(normalize)"
   ]
  },
  {
   "cell_type": "code",
   "execution_count": 332,
   "metadata": {},
   "outputs": [
    {
     "data": {
      "image/png": "[encoded data removed]",
      "text/plain": [
       "<Figure size 720x720 with 6 Axes>"
      ]
     },
     "metadata": {
      "needs_background": "light"
     },
     "output_type": "display_data"
    }
   ],
   "source": [
    "cont_log_norm.hist(figsize=(10, 10), bins='auto');"
   ]
  },
  {
   "cell_type": "code",
   "execution_count": 301,
   "metadata": {},
   "outputs": [],
   "source": [
    "data_norm = data.drop('price', axis=1).apply(normalize)"
   ]
  },
  {
   "cell_type": "code",
   "execution_count": 302,
   "metadata": {},
   "outputs": [
    {
     "data": {
      "text/html": [
       "<div>\n",
       "<style scoped>\n",
       "    .dataframe tbody tr th:only-of-type {\n",
       "        vertical-align: middle;\n",
       "    }\n",
       "\n",
       "    .dataframe tbody tr th {\n",
       "        vertical-align: top;\n",
       "    }\n",
       "\n",
       "    .dataframe thead th {\n",
       "        text-align: right;\n",
       "    }\n",
       "</style>\n",
       "<table border=\"1\" class=\"dataframe\">\n",
       "  <thead>\n",
       "    <tr style=\"text-align: right;\">\n",
       "      <th></th>\n",
       "      <th>bedrooms</th>\n",
       "      <th>bathrooms</th>\n",
       "      <th>floors</th>\n",
       "      <th>waterfront</th>\n",
       "      <th>condition</th>\n",
       "      <th>grade</th>\n",
       "      <th>yr_built</th>\n",
       "      <th>is_basement</th>\n",
       "      <th>sqft_living_log</th>\n",
       "      <th>sqft_lot_log</th>\n",
       "      <th>sqft_above_log</th>\n",
       "      <th>sqft_living15_log</th>\n",
       "      <th>sqft_lot15_log</th>\n",
       "    </tr>\n",
       "  </thead>\n",
       "  <tbody>\n",
       "    <tr>\n",
       "      <th>0</th>\n",
       "      <td>-0.402894</td>\n",
       "      <td>-1.451039</td>\n",
       "      <td>-0.915531</td>\n",
       "      <td>-0.082498</td>\n",
       "      <td>-0.629972</td>\n",
       "      <td>-0.560787</td>\n",
       "      <td>-0.544665</td>\n",
       "      <td>-0.804573</td>\n",
       "      <td>-1.125556</td>\n",
       "      <td>-0.388430</td>\n",
       "      <td>-0.753565</td>\n",
       "      <td>-1.035429</td>\n",
       "      <td>-0.395450</td>\n",
       "    </tr>\n",
       "    <tr>\n",
       "      <th>1</th>\n",
       "      <td>-0.402894</td>\n",
       "      <td>0.174482</td>\n",
       "      <td>0.937409</td>\n",
       "      <td>-0.082498</td>\n",
       "      <td>-0.629972</td>\n",
       "      <td>-0.560787</td>\n",
       "      <td>-0.680835</td>\n",
       "      <td>1.242837</td>\n",
       "      <td>0.709446</td>\n",
       "      <td>-0.113241</td>\n",
       "      <td>0.672693</td>\n",
       "      <td>-0.326781</td>\n",
       "      <td>-0.024287</td>\n",
       "    </tr>\n",
       "    <tr>\n",
       "      <th>2</th>\n",
       "      <td>-1.482459</td>\n",
       "      <td>-1.451039</td>\n",
       "      <td>-0.915531</td>\n",
       "      <td>-0.082498</td>\n",
       "      <td>-0.629972</td>\n",
       "      <td>-1.413157</td>\n",
       "      <td>-1.293596</td>\n",
       "      <td>-0.804573</td>\n",
       "      <td>-2.131893</td>\n",
       "      <td>0.244475</td>\n",
       "      <td>-1.752954</td>\n",
       "      <td>1.126504</td>\n",
       "      <td>0.042036</td>\n",
       "    </tr>\n",
       "    <tr>\n",
       "      <th>3</th>\n",
       "      <td>0.676671</td>\n",
       "      <td>1.149794</td>\n",
       "      <td>-0.915531</td>\n",
       "      <td>-0.082498</td>\n",
       "      <td>2.444371</td>\n",
       "      <td>-0.560787</td>\n",
       "      <td>-0.204243</td>\n",
       "      <td>1.242837</td>\n",
       "      <td>0.070674</td>\n",
       "      <td>-0.523914</td>\n",
       "      <td>-1.026835</td>\n",
       "      <td>-0.990187</td>\n",
       "      <td>-0.545850</td>\n",
       "    </tr>\n",
       "    <tr>\n",
       "      <th>4</th>\n",
       "      <td>-0.402894</td>\n",
       "      <td>-0.150622</td>\n",
       "      <td>-0.915531</td>\n",
       "      <td>-0.082498</td>\n",
       "      <td>-0.629972</td>\n",
       "      <td>0.291583</td>\n",
       "      <td>0.544688</td>\n",
       "      <td>-0.804573</td>\n",
       "      <td>-0.292725</td>\n",
       "      <td>0.008139</td>\n",
       "      <td>0.073515</td>\n",
       "      <td>-0.134218</td>\n",
       "      <td>-0.046394</td>\n",
       "    </tr>\n",
       "    <tr>\n",
       "      <th>...</th>\n",
       "      <td>...</td>\n",
       "      <td>...</td>\n",
       "      <td>...</td>\n",
       "      <td>...</td>\n",
       "      <td>...</td>\n",
       "      <td>...</td>\n",
       "      <td>...</td>\n",
       "      <td>...</td>\n",
       "      <td>...</td>\n",
       "      <td>...</td>\n",
       "      <td>...</td>\n",
       "      <td>...</td>\n",
       "      <td>...</td>\n",
       "    </tr>\n",
       "    <tr>\n",
       "      <th>21592</th>\n",
       "      <td>-0.402894</td>\n",
       "      <td>0.499586</td>\n",
       "      <td>2.790349</td>\n",
       "      <td>-0.082498</td>\n",
       "      <td>-0.629972</td>\n",
       "      <td>0.291583</td>\n",
       "      <td>1.293618</td>\n",
       "      <td>-0.804573</td>\n",
       "      <td>-0.513206</td>\n",
       "      <td>-2.171594</td>\n",
       "      <td>-0.145444</td>\n",
       "      <td>-0.630509</td>\n",
       "      <td>-2.020096</td>\n",
       "    </tr>\n",
       "    <tr>\n",
       "      <th>21593</th>\n",
       "      <td>0.676671</td>\n",
       "      <td>0.499586</td>\n",
       "      <td>0.937409</td>\n",
       "      <td>-0.082498</td>\n",
       "      <td>-0.629972</td>\n",
       "      <td>0.291583</td>\n",
       "      <td>1.463829</td>\n",
       "      <td>-0.804573</td>\n",
       "      <td>0.458007</td>\n",
       "      <td>-0.356901</td>\n",
       "      <td>0.819063</td>\n",
       "      <td>-0.083742</td>\n",
       "      <td>-0.097121</td>\n",
       "    </tr>\n",
       "    <tr>\n",
       "      <th>21594</th>\n",
       "      <td>-1.482459</td>\n",
       "      <td>-1.776143</td>\n",
       "      <td>0.937409</td>\n",
       "      <td>-0.082498</td>\n",
       "      <td>-0.629972</td>\n",
       "      <td>-0.560787</td>\n",
       "      <td>1.293618</td>\n",
       "      <td>-0.804573</td>\n",
       "      <td>-1.469061</td>\n",
       "      <td>-1.975378</td>\n",
       "      <td>-1.094699</td>\n",
       "      <td>-1.868694</td>\n",
       "      <td>-1.669137</td>\n",
       "    </tr>\n",
       "    <tr>\n",
       "      <th>21595</th>\n",
       "      <td>-0.402894</td>\n",
       "      <td>0.499586</td>\n",
       "      <td>0.937409</td>\n",
       "      <td>-0.082498</td>\n",
       "      <td>-0.629972</td>\n",
       "      <td>0.291583</td>\n",
       "      <td>1.123406</td>\n",
       "      <td>-0.804573</td>\n",
       "      <td>-0.407744</td>\n",
       "      <td>-1.343114</td>\n",
       "      <td>-0.040710</td>\n",
       "      <td>-0.879932</td>\n",
       "      <td>-2.215926</td>\n",
       "    </tr>\n",
       "    <tr>\n",
       "      <th>21596</th>\n",
       "      <td>-1.482459</td>\n",
       "      <td>-1.776143</td>\n",
       "      <td>0.937409</td>\n",
       "      <td>-0.082498</td>\n",
       "      <td>-0.629972</td>\n",
       "      <td>-0.560787</td>\n",
       "      <td>1.259575</td>\n",
       "      <td>-0.804573</td>\n",
       "      <td>-1.469061</td>\n",
       "      <td>-2.226858</td>\n",
       "      <td>-1.094699</td>\n",
       "      <td>-1.868694</td>\n",
       "      <td>-2.150750</td>\n",
       "    </tr>\n",
       "  </tbody>\n",
       "</table>\n",
       "<p>21597 rows × 13 columns</p>\n",
       "</div>"
      ],
      "text/plain": [
       "       bedrooms  bathrooms    floors  waterfront  condition     grade  \\\n",
       "0     -0.402894  -1.451039 -0.915531   -0.082498  -0.629972 -0.560787   \n",
       "1     -0.402894   0.174482  0.937409   -0.082498  -0.629972 -0.560787   \n",
       "2     -1.482459  -1.451039 -0.915531   -0.082498  -0.629972 -1.413157   \n",
       "3      0.676671   1.149794 -0.915531   -0.082498   2.444371 -0.560787   \n",
       "4     -0.402894  -0.150622 -0.915531   -0.082498  -0.629972  0.291583   \n",
       "...         ...        ...       ...         ...        ...       ...   \n",
       "21592 -0.402894   0.499586  2.790349   -0.082498  -0.629972  0.291583   \n",
       "21593  0.676671   0.499586  0.937409   -0.082498  -0.629972  0.291583   \n",
       "21594 -1.482459  -1.776143  0.937409   -0.082498  -0.629972 -0.560787   \n",
       "21595 -0.402894   0.499586  0.937409   -0.082498  -0.629972  0.291583   \n",
       "21596 -1.482459  -1.776143  0.937409   -0.082498  -0.629972 -0.560787   \n",
       "\n",
       "       yr_built  is_basement  sqft_living_log  sqft_lot_log  sqft_above_log  \\\n",
       "0     -0.544665    -0.804573        -1.125556     -0.388430       -0.753565   \n",
       "1     -0.680835     1.242837         0.709446     -0.113241        0.672693   \n",
       "2     -1.293596    -0.804573        -2.131893      0.244475       -1.752954   \n",
       "3     -0.204243     1.242837         0.070674     -0.523914       -1.026835   \n",
       "4      0.544688    -0.804573        -0.292725      0.008139        0.073515   \n",
       "...         ...          ...              ...           ...             ...   \n",
       "21592  1.293618    -0.804573        -0.513206     -2.171594       -0.145444   \n",
       "21593  1.463829    -0.804573         0.458007     -0.356901        0.819063   \n",
       "21594  1.293618    -0.804573        -1.469061     -1.975378       -1.094699   \n",
       "21595  1.123406    -0.804573        -0.407744     -1.343114       -0.040710   \n",
       "21596  1.259575    -0.804573        -1.469061     -2.226858       -1.094699   \n",
       "\n",
       "       sqft_living15_log  sqft_lot15_log  \n",
       "0              -1.035429       -0.395450  \n",
       "1              -0.326781       -0.024287  \n",
       "2               1.126504        0.042036  \n",
       "3              -0.990187       -0.545850  \n",
       "4              -0.134218       -0.046394  \n",
       "...                  ...             ...  \n",
       "21592          -0.630509       -2.020096  \n",
       "21593          -0.083742       -0.097121  \n",
       "21594          -1.868694       -1.669137  \n",
       "21595          -0.879932       -2.215926  \n",
       "21596          -1.868694       -2.150750  \n",
       "\n",
       "[21597 rows x 13 columns]"
      ]
     },
     "execution_count": 302,
     "metadata": {},
     "output_type": "execute_result"
    }
   ],
   "source": [
    "data_norm"
   ]
  },
  {
   "cell_type": "code",
   "execution_count": 303,
   "metadata": {},
   "outputs": [],
   "source": [
    "final_data = pd.concat([df[['price']], data_norm], axis=1)"
   ]
  },
  {
   "cell_type": "code",
   "execution_count": 307,
   "metadata": {},
   "outputs": [],
   "source": [
    "second_model = LinearRegression()"
   ]
  },
  {
   "cell_type": "code",
   "execution_count": 409,
   "metadata": {},
   "outputs": [
    {
     "name": "stdout",
     "output_type": "stream",
     "text": [
      "Train score:      0.5557100282852672\n",
      "Validation score: 0.5695917056277439\n"
     ]
    }
   ],
   "source": [
    "from sklearn.model_selection import cross_validate, ShuffleSplit\n",
    "\n",
    "splitter = ShuffleSplit(n_splits=3, test_size=0.25)\n",
    "\n",
    "baseline_scores = cross_validate(\n",
    "    estimator=second_model,\n",
    "    X=X_train,\n",
    "    y=y_train,\n",
    "    return_train_score=True,\n",
    "    cv=splitter\n",
    ")\n",
    "\n",
    "print(\"Train score:     \", baseline_scores[\"train_score\"].mean())\n",
    "print(\"Validation score:\", baseline_scores[\"test_score\"].mean())"
   ]
  },
  {
   "cell_type": "code",
   "execution_count": 342,
   "metadata": {},
   "outputs": [
    {
     "data": {
      "text/html": [
       "<div>\n",
       "<style scoped>\n",
       "    .dataframe tbody tr th:only-of-type {\n",
       "        vertical-align: middle;\n",
       "    }\n",
       "\n",
       "    .dataframe tbody tr th {\n",
       "        vertical-align: top;\n",
       "    }\n",
       "\n",
       "    .dataframe thead th {\n",
       "        text-align: right;\n",
       "    }\n",
       "</style>\n",
       "<table border=\"1\" class=\"dataframe\">\n",
       "  <thead>\n",
       "    <tr style=\"text-align: right;\">\n",
       "      <th></th>\n",
       "      <th>price</th>\n",
       "      <th>bedrooms</th>\n",
       "      <th>bathrooms</th>\n",
       "      <th>sqft_living</th>\n",
       "      <th>sqft_lot</th>\n",
       "      <th>floors</th>\n",
       "      <th>waterfront</th>\n",
       "      <th>condition</th>\n",
       "      <th>grade</th>\n",
       "      <th>sqft_above</th>\n",
       "      <th>yr_built</th>\n",
       "      <th>sqft_living15</th>\n",
       "      <th>sqft_lot15</th>\n",
       "      <th>is_basement</th>\n",
       "    </tr>\n",
       "  </thead>\n",
       "  <tbody>\n",
       "    <tr>\n",
       "      <th>price</th>\n",
       "      <td>True</td>\n",
       "      <td>False</td>\n",
       "      <td>False</td>\n",
       "      <td>False</td>\n",
       "      <td>False</td>\n",
       "      <td>False</td>\n",
       "      <td>False</td>\n",
       "      <td>False</td>\n",
       "      <td>False</td>\n",
       "      <td>False</td>\n",
       "      <td>False</td>\n",
       "      <td>False</td>\n",
       "      <td>False</td>\n",
       "      <td>False</td>\n",
       "    </tr>\n",
       "    <tr>\n",
       "      <th>bedrooms</th>\n",
       "      <td>False</td>\n",
       "      <td>True</td>\n",
       "      <td>False</td>\n",
       "      <td>False</td>\n",
       "      <td>False</td>\n",
       "      <td>False</td>\n",
       "      <td>False</td>\n",
       "      <td>False</td>\n",
       "      <td>False</td>\n",
       "      <td>False</td>\n",
       "      <td>False</td>\n",
       "      <td>False</td>\n",
       "      <td>False</td>\n",
       "      <td>False</td>\n",
       "    </tr>\n",
       "    <tr>\n",
       "      <th>bathrooms</th>\n",
       "      <td>False</td>\n",
       "      <td>False</td>\n",
       "      <td>True</td>\n",
       "      <td>True</td>\n",
       "      <td>False</td>\n",
       "      <td>False</td>\n",
       "      <td>False</td>\n",
       "      <td>False</td>\n",
       "      <td>False</td>\n",
       "      <td>False</td>\n",
       "      <td>False</td>\n",
       "      <td>False</td>\n",
       "      <td>False</td>\n",
       "      <td>False</td>\n",
       "    </tr>\n",
       "    <tr>\n",
       "      <th>sqft_living</th>\n",
       "      <td>False</td>\n",
       "      <td>False</td>\n",
       "      <td>True</td>\n",
       "      <td>True</td>\n",
       "      <td>False</td>\n",
       "      <td>False</td>\n",
       "      <td>False</td>\n",
       "      <td>False</td>\n",
       "      <td>True</td>\n",
       "      <td>True</td>\n",
       "      <td>False</td>\n",
       "      <td>True</td>\n",
       "      <td>False</td>\n",
       "      <td>False</td>\n",
       "    </tr>\n",
       "    <tr>\n",
       "      <th>sqft_lot</th>\n",
       "      <td>False</td>\n",
       "      <td>False</td>\n",
       "      <td>False</td>\n",
       "      <td>False</td>\n",
       "      <td>True</td>\n",
       "      <td>False</td>\n",
       "      <td>False</td>\n",
       "      <td>False</td>\n",
       "      <td>False</td>\n",
       "      <td>False</td>\n",
       "      <td>False</td>\n",
       "      <td>False</td>\n",
       "      <td>False</td>\n",
       "      <td>False</td>\n",
       "    </tr>\n",
       "    <tr>\n",
       "      <th>floors</th>\n",
       "      <td>False</td>\n",
       "      <td>False</td>\n",
       "      <td>False</td>\n",
       "      <td>False</td>\n",
       "      <td>False</td>\n",
       "      <td>True</td>\n",
       "      <td>False</td>\n",
       "      <td>False</td>\n",
       "      <td>False</td>\n",
       "      <td>False</td>\n",
       "      <td>False</td>\n",
       "      <td>False</td>\n",
       "      <td>False</td>\n",
       "      <td>False</td>\n",
       "    </tr>\n",
       "    <tr>\n",
       "      <th>waterfront</th>\n",
       "      <td>False</td>\n",
       "      <td>False</td>\n",
       "      <td>False</td>\n",
       "      <td>False</td>\n",
       "      <td>False</td>\n",
       "      <td>False</td>\n",
       "      <td>True</td>\n",
       "      <td>False</td>\n",
       "      <td>False</td>\n",
       "      <td>False</td>\n",
       "      <td>False</td>\n",
       "      <td>False</td>\n",
       "      <td>False</td>\n",
       "      <td>False</td>\n",
       "    </tr>\n",
       "    <tr>\n",
       "      <th>condition</th>\n",
       "      <td>False</td>\n",
       "      <td>False</td>\n",
       "      <td>False</td>\n",
       "      <td>False</td>\n",
       "      <td>False</td>\n",
       "      <td>False</td>\n",
       "      <td>False</td>\n",
       "      <td>True</td>\n",
       "      <td>False</td>\n",
       "      <td>False</td>\n",
       "      <td>False</td>\n",
       "      <td>False</td>\n",
       "      <td>False</td>\n",
       "      <td>False</td>\n",
       "    </tr>\n",
       "    <tr>\n",
       "      <th>grade</th>\n",
       "      <td>False</td>\n",
       "      <td>False</td>\n",
       "      <td>False</td>\n",
       "      <td>True</td>\n",
       "      <td>False</td>\n",
       "      <td>False</td>\n",
       "      <td>False</td>\n",
       "      <td>False</td>\n",
       "      <td>True</td>\n",
       "      <td>True</td>\n",
       "      <td>False</td>\n",
       "      <td>False</td>\n",
       "      <td>False</td>\n",
       "      <td>False</td>\n",
       "    </tr>\n",
       "    <tr>\n",
       "      <th>sqft_above</th>\n",
       "      <td>False</td>\n",
       "      <td>False</td>\n",
       "      <td>False</td>\n",
       "      <td>True</td>\n",
       "      <td>False</td>\n",
       "      <td>False</td>\n",
       "      <td>False</td>\n",
       "      <td>False</td>\n",
       "      <td>True</td>\n",
       "      <td>True</td>\n",
       "      <td>False</td>\n",
       "      <td>False</td>\n",
       "      <td>False</td>\n",
       "      <td>False</td>\n",
       "    </tr>\n",
       "    <tr>\n",
       "      <th>yr_built</th>\n",
       "      <td>False</td>\n",
       "      <td>False</td>\n",
       "      <td>False</td>\n",
       "      <td>False</td>\n",
       "      <td>False</td>\n",
       "      <td>False</td>\n",
       "      <td>False</td>\n",
       "      <td>False</td>\n",
       "      <td>False</td>\n",
       "      <td>False</td>\n",
       "      <td>True</td>\n",
       "      <td>False</td>\n",
       "      <td>False</td>\n",
       "      <td>False</td>\n",
       "    </tr>\n",
       "    <tr>\n",
       "      <th>sqft_living15</th>\n",
       "      <td>False</td>\n",
       "      <td>False</td>\n",
       "      <td>False</td>\n",
       "      <td>True</td>\n",
       "      <td>False</td>\n",
       "      <td>False</td>\n",
       "      <td>False</td>\n",
       "      <td>False</td>\n",
       "      <td>False</td>\n",
       "      <td>False</td>\n",
       "      <td>False</td>\n",
       "      <td>True</td>\n",
       "      <td>False</td>\n",
       "      <td>False</td>\n",
       "    </tr>\n",
       "    <tr>\n",
       "      <th>sqft_lot15</th>\n",
       "      <td>False</td>\n",
       "      <td>False</td>\n",
       "      <td>False</td>\n",
       "      <td>False</td>\n",
       "      <td>False</td>\n",
       "      <td>False</td>\n",
       "      <td>False</td>\n",
       "      <td>False</td>\n",
       "      <td>False</td>\n",
       "      <td>False</td>\n",
       "      <td>False</td>\n",
       "      <td>False</td>\n",
       "      <td>True</td>\n",
       "      <td>False</td>\n",
       "    </tr>\n",
       "    <tr>\n",
       "      <th>is_basement</th>\n",
       "      <td>False</td>\n",
       "      <td>False</td>\n",
       "      <td>False</td>\n",
       "      <td>False</td>\n",
       "      <td>False</td>\n",
       "      <td>False</td>\n",
       "      <td>False</td>\n",
       "      <td>False</td>\n",
       "      <td>False</td>\n",
       "      <td>False</td>\n",
       "      <td>False</td>\n",
       "      <td>False</td>\n",
       "      <td>False</td>\n",
       "      <td>True</td>\n",
       "    </tr>\n",
       "  </tbody>\n",
       "</table>\n",
       "</div>"
      ],
      "text/plain": [
       "               price  bedrooms  bathrooms  sqft_living  sqft_lot  floors  \\\n",
       "price           True     False      False        False     False   False   \n",
       "bedrooms       False      True      False        False     False   False   \n",
       "bathrooms      False     False       True         True     False   False   \n",
       "sqft_living    False     False       True         True     False   False   \n",
       "sqft_lot       False     False      False        False      True   False   \n",
       "floors         False     False      False        False     False    True   \n",
       "waterfront     False     False      False        False     False   False   \n",
       "condition      False     False      False        False     False   False   \n",
       "grade          False     False      False         True     False   False   \n",
       "sqft_above     False     False      False         True     False   False   \n",
       "yr_built       False     False      False        False     False   False   \n",
       "sqft_living15  False     False      False         True     False   False   \n",
       "sqft_lot15     False     False      False        False     False   False   \n",
       "is_basement    False     False      False        False     False   False   \n",
       "\n",
       "               waterfront  condition  grade  sqft_above  yr_built  \\\n",
       "price               False      False  False       False     False   \n",
       "bedrooms            False      False  False       False     False   \n",
       "bathrooms           False      False  False       False     False   \n",
       "sqft_living         False      False   True        True     False   \n",
       "sqft_lot            False      False  False       False     False   \n",
       "floors              False      False  False       False     False   \n",
       "waterfront           True      False  False       False     False   \n",
       "condition           False       True  False       False     False   \n",
       "grade               False      False   True        True     False   \n",
       "sqft_above          False      False   True        True     False   \n",
       "yr_built            False      False  False       False      True   \n",
       "sqft_living15       False      False  False       False     False   \n",
       "sqft_lot15          False      False  False       False     False   \n",
       "is_basement         False      False  False       False     False   \n",
       "\n",
       "               sqft_living15  sqft_lot15  is_basement  \n",
       "price                  False       False        False  \n",
       "bedrooms               False       False        False  \n",
       "bathrooms              False       False        False  \n",
       "sqft_living             True       False        False  \n",
       "sqft_lot               False       False        False  \n",
       "floors                 False       False        False  \n",
       "waterfront             False       False        False  \n",
       "condition              False       False        False  \n",
       "grade                  False       False        False  \n",
       "sqft_above             False       False        False  \n",
       "yr_built               False       False        False  \n",
       "sqft_living15           True       False        False  \n",
       "sqft_lot15             False        True        False  \n",
       "is_basement            False       False         True  "
      ]
     },
     "execution_count": 342,
     "metadata": {},
     "output_type": "execute_result"
    }
   ],
   "source": [
    "df.corr() > 0.75"
   ]
  },
  {
   "cell_type": "code",
   "execution_count": 344,
   "metadata": {},
   "outputs": [],
   "source": [
    "df2=df.corr().abs().stack().reset_index().sort_values(0, ascending=False)\n",
    "\n",
    "# zip the variable name columns (Which were only named level_0 and level_1 by default) in a new column named \"pairs\"\n",
    "df2['pairs'] = list(zip(df2.level_0, df2.level_1))\n",
    "\n",
    "# set index to pairs\n",
    "df2.set_index(['pairs'], inplace = True)\n",
    "\n",
    "#d rop level columns\n",
    "df2.drop(columns=['level_1', 'level_0'], inplace = True)\n",
    "\n",
    "# rename correlation column as cc rather than 0\n",
    "df2.columns = ['cc']\n",
    "\n",
    "# drop duplicates. This could be dangerous if you have variables perfectly correlated with variables other than themselves.\n",
    "# for the sake of exercise, kept it in.\n",
    "df2.drop_duplicates(inplace=True)"
   ]
  },
  {
   "cell_type": "code",
   "execution_count": 346,
   "metadata": {},
   "outputs": [
    {
     "data": {
      "text/html": [
       "<div>\n",
       "<style scoped>\n",
       "    .dataframe tbody tr th:only-of-type {\n",
       "        vertical-align: middle;\n",
       "    }\n",
       "\n",
       "    .dataframe tbody tr th {\n",
       "        vertical-align: top;\n",
       "    }\n",
       "\n",
       "    .dataframe thead th {\n",
       "        text-align: right;\n",
       "    }\n",
       "</style>\n",
       "<table border=\"1\" class=\"dataframe\">\n",
       "  <thead>\n",
       "    <tr style=\"text-align: right;\">\n",
       "      <th></th>\n",
       "      <th>cc</th>\n",
       "    </tr>\n",
       "    <tr>\n",
       "      <th>pairs</th>\n",
       "      <th></th>\n",
       "    </tr>\n",
       "  </thead>\n",
       "  <tbody>\n",
       "    <tr>\n",
       "      <th>(sqft_living, sqft_above)</th>\n",
       "      <td>0.876448</td>\n",
       "    </tr>\n",
       "    <tr>\n",
       "      <th>(sqft_living, grade)</th>\n",
       "      <td>0.762779</td>\n",
       "    </tr>\n",
       "    <tr>\n",
       "      <th>(sqft_living15, sqft_living)</th>\n",
       "      <td>0.756402</td>\n",
       "    </tr>\n",
       "    <tr>\n",
       "      <th>(grade, sqft_above)</th>\n",
       "      <td>0.756073</td>\n",
       "    </tr>\n",
       "    <tr>\n",
       "      <th>(sqft_living, bathrooms)</th>\n",
       "      <td>0.755758</td>\n",
       "    </tr>\n",
       "  </tbody>\n",
       "</table>\n",
       "</div>"
      ],
      "text/plain": [
       "                                    cc\n",
       "pairs                                 \n",
       "(sqft_living, sqft_above)     0.876448\n",
       "(sqft_living, grade)          0.762779\n",
       "(sqft_living15, sqft_living)  0.756402\n",
       "(grade, sqft_above)           0.756073\n",
       "(sqft_living, bathrooms)      0.755758"
      ]
     },
     "execution_count": 346,
     "metadata": {},
     "output_type": "execute_result"
    }
   ],
   "source": [
    "df2[(df2.cc>.75) & (df2.cc <1)]"
   ]
  },
  {
   "cell_type": "code",
   "execution_count": 347,
   "metadata": {},
   "outputs": [
    {
     "data": {
      "image/png": "[encoded data removed]",
      "text/plain": [
       "<Figure size 432x288 with 2 Axes>"
      ]
     },
     "metadata": {
      "needs_background": "light"
     },
     "output_type": "display_data"
    }
   ],
   "source": [
    "import seaborn as sns\n",
    "sns.heatmap(df.corr(), center=0);"
   ]
  },
  {
   "cell_type": "code",
   "execution_count": 404,
   "metadata": {},
   "outputs": [],
   "source": [
    "X_train_final = X_train[significant_features]\n",
    "X_test_final = X_test[significant_features]"
   ]
  },
  {
   "cell_type": "code",
   "execution_count": 429,
   "metadata": {},
   "outputs": [],
   "source": [
    "final_model = LinearRegression()"
   ]
  },
  {
   "cell_type": "code",
   "execution_count": 430,
   "metadata": {},
   "outputs": [
    {
     "data": {
      "text/plain": [
       "LinearRegression()"
      ]
     },
     "execution_count": 430,
     "metadata": {},
     "output_type": "execute_result"
    }
   ],
   "source": [
    "final_model.fit(X_train, y_train)"
   ]
  },
  {
   "cell_type": "code",
   "execution_count": 431,
   "metadata": {},
   "outputs": [
    {
     "data": {
      "text/plain": [
       "0.5701592024484239"
      ]
     },
     "execution_count": 431,
     "metadata": {},
     "output_type": "execute_result"
    }
   ],
   "source": [
    "final_model.score(X_test, y_test)"
   ]
  },
  {
   "cell_type": "code",
   "execution_count": 432,
   "metadata": {},
   "outputs": [
    {
     "data": {
      "text/plain": [
       "127465.61907283985"
      ]
     },
     "execution_count": 432,
     "metadata": {},
     "output_type": "execute_result"
    }
   ],
   "source": [
    "from sklearn.metrics import mean_squared_error\n",
    "\n",
    "mean_squared_error(y_test, final_model.predict(X_test), squared=False)"
   ]
  },
  {
   "cell_type": "code",
   "execution_count": 434,
   "metadata": {},
   "outputs": [
    {
     "name": "stdout",
     "output_type": "stream",
     "text": [
      "bedrooms         -11376.521905\n",
      "bathrooms         23764.106315\n",
      "sqft_living          41.419452\n",
      "sqft_lot              0.205830\n",
      "floors            55322.997343\n",
      "waterfront       172654.250182\n",
      "condition         17631.228853\n",
      "grade             86476.154816\n",
      "sqft_above           11.880074\n",
      "yr_built          -2591.384609\n",
      "sqft_living15        60.894493\n",
      "sqft_lot15           -0.241134\n",
      "is_basement       44100.825785\n",
      "Name: Coefficients, dtype: float64\n",
      "\n",
      "Intercept: 4556465.687338863\n"
     ]
    }
   ],
   "source": [
    "print(pd.Series(final_model.coef_, index=X_train.columns, name=\"Coefficients\"))\n",
    "print()\n",
    "print(\"Intercept:\", final_model.intercept_)"
   ]
  },
  {
   "cell_type": "code",
   "execution_count": 435,
   "metadata": {},
   "outputs": [
    {
     "data": {
      "image/png": "[encoded data removed]",
      "text/plain": [
       "<Figure size 432x288 with 1 Axes>"
      ]
     },
     "metadata": {
      "needs_background": "light"
     },
     "output_type": "display_data"
    }
   ],
   "source": [
    "preds = final_model.predict(X_test)\n",
    "fig, ax = plt.subplots()\n",
    "\n",
    "perfect_line = np.arange(y_test.min(), y_test.max())\n",
    "ax.plot(perfect_line, linestyle=\"--\", color=\"orange\", label=\"Perfect Fit\")\n",
    "ax.scatter(y_test, preds, alpha=0.5)\n",
    "ax.set_xlabel(\"Actual Price\")\n",
    "ax.set_ylabel(\"Predicted Price\")\n",
    "ax.legend();"
   ]
  },
  {
   "cell_type": "code",
   "execution_count": 436,
   "metadata": {},
   "outputs": [
    {
     "data": {
      "image/png": "[encoded data removed]",
      "text/plain": [
       "<Figure size 432x288 with 1 Axes>"
      ]
     },
     "metadata": {
      "needs_background": "light"
     },
     "output_type": "display_data"
    }
   ],
   "source": [
    "import scipy.stats as stats\n",
    "residuals = (y_test - preds)\n",
    "sm.graphics.qqplot(residuals, dist=stats.norm, line='45', fit=True);"
   ]
  },
  {
   "cell_type": "code",
   "execution_count": 439,
   "metadata": {
    "scrolled": true
   },
   "outputs": [
    {
     "data": {
      "text/plain": [
       "bedrooms          23.021268\n",
       "bathrooms         24.359220\n",
       "sqft_living      111.238507\n",
       "sqft_lot           2.469653\n",
       "floors            16.564026\n",
       "waterfront         1.004619\n",
       "condition         16.100596\n",
       "grade            148.919452\n",
       "sqft_above       101.384623\n",
       "yr_built         120.390321\n",
       "sqft_living15     28.416506\n",
       "sqft_lot15         2.647257\n",
       "is_basement        5.982918\n",
       "Name: Variance Inflation Factor, dtype: float64"
      ]
     },
     "execution_count": 439,
     "metadata": {},
     "output_type": "execute_result"
    }
   ],
   "source": [
    "from statsmodels.stats.outliers_influence import variance_inflation_factor\n",
    "vif = [variance_inflation_factor(X_train.values, i) for i in range(X_train.shape[1])]\n",
    "pd.Series(vif, index=X_train.columns, name=\"Variance Inflation Factor\")"
   ]
  },
  {
   "cell_type": "code",
   "execution_count": 440,
   "metadata": {},
   "outputs": [
    {
     "data": {
      "image/png": "[encoded data removed]",
      "text/plain": [
       "<Figure size 432x288 with 1 Axes>"
      ]
     },
     "metadata": {
      "needs_background": "light"
     },
     "output_type": "display_data"
    }
   ],
   "source": [
    "fig, ax = plt.subplots()\n",
    "\n",
    "ax.scatter(preds, residuals, alpha=0.5)\n",
    "ax.plot(preds, [0 for i in range(len(X_test))])\n",
    "ax.set_xlabel(\"Predicted Value\")\n",
    "ax.set_ylabel(\"Actual - Predicted Value\");"
   ]
  },
  {
   "cell_type": "code",
   "execution_count": null,
   "metadata": {},
   "outputs": [],
   "source": []
  }
 ],
 "metadata": {
  "kernelspec": {
   "display_name": "Python 3",
   "language": "python",
   "name": "python3"
  },
  "language_info": {
   "codemirror_mode": {
    "name": "ipython",
    "version": 3
   },
   "file_extension": ".py",
   "mimetype": "text/x-python",
   "name": "python",
   "nbconvert_exporter": "python",
   "pygments_lexer": "ipython3",
   "version": "3.8.5"
  },
  "toc": {
   "base_numbering": 1,
   "nav_menu": {},
   "number_sections": true,
   "sideBar": true,
   "skip_h1_title": false,
   "title_cell": "Table of Contents",
   "title_sidebar": "Contents",
   "toc_cell": false,
   "toc_position": {},
   "toc_section_display": true,
   "toc_window_display": false
  }
 },
 "nbformat": 4,
 "nbformat_minor": 2
}
