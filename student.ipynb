{
 "cells": [
  {
   "cell_type": "markdown",
   "metadata": {},
   "source": [
    "# Housing Renovation Analysis"
   ]
  },
  {
   "cell_type": "markdown",
   "metadata": {},
   "source": [
    "<img src=\"images/housing.jpg\" alt=\"Drawing\" style=\"width: 1000px;height:300px;float: left;\"/>"
   ]
  },
  {
   "cell_type": "markdown",
   "metadata": {},
   "source": [
    "## Overview\n",
    "This project uses linear regression analysis to infer how certain variables impact housing prices and by how much. Analysis of data from King County House Sales shows that house condition, grade, and bathroom number are three key features that can increase a house's price. Any home seller can use this information to make decisions on potential renovations. "
   ]
  },
  {
   "cell_type": "markdown",
   "metadata": {},
   "source": [
    "## Business Problem\n",
    "A real estate agency is looking to guide homeowners who are looking to sell their houses. They want to provided these homeowners with analysis of how renovations may impact the price of their home."
   ]
  },
  {
   "cell_type": "markdown",
   "metadata": {},
   "source": [
    "## Data Understanding\n",
    "This project uses data from the King County House Sales dataset. It includes information on house age, size, condition and other features."
   ]
  },
  {
   "cell_type": "code",
   "execution_count": 330,
   "metadata": {
    "scrolled": true
   },
   "outputs": [],
   "source": [
    "#import libraries\n",
    "import pandas as pd\n",
    "import numpy as np\n",
    "import scipy.stats as stats\n",
    "import math\n",
    "import matplotlib.pyplot as plt\n",
    "from sklearn.impute import MissingIndicator\n",
    "from sklearn.impute import SimpleImputer\n",
    "from sklearn.linear_model import LinearRegression\n",
    "from sklearn.model_selection import train_test_split\n",
    "from sklearn import preprocessing\n",
    "from sklearn.model_selection import cross_validate, ShuffleSplit\n",
    "import statsmodels.api as sm\n",
    "from sklearn.feature_selection import RFECV\n",
    "from statsmodels.stats.outliers_influence import variance_inflation_factor\n",
    "\n",
    "%matplotlib inline"
   ]
  },
  {
   "cell_type": "code",
   "execution_count": 277,
   "metadata": {
    "scrolled": false
   },
   "outputs": [
    {
     "data": {
      "text/html": [
       "<div>\n",
       "<style scoped>\n",
       "    .dataframe tbody tr th:only-of-type {\n",
       "        vertical-align: middle;\n",
       "    }\n",
       "\n",
       "    .dataframe tbody tr th {\n",
       "        vertical-align: top;\n",
       "    }\n",
       "\n",
       "    .dataframe thead th {\n",
       "        text-align: right;\n",
       "    }\n",
       "</style>\n",
       "<table border=\"1\" class=\"dataframe\">\n",
       "  <thead>\n",
       "    <tr style=\"text-align: right;\">\n",
       "      <th></th>\n",
       "      <th>id</th>\n",
       "      <th>date</th>\n",
       "      <th>price</th>\n",
       "      <th>bedrooms</th>\n",
       "      <th>bathrooms</th>\n",
       "      <th>sqft_living</th>\n",
       "      <th>sqft_lot</th>\n",
       "      <th>floors</th>\n",
       "      <th>waterfront</th>\n",
       "      <th>view</th>\n",
       "      <th>...</th>\n",
       "      <th>grade</th>\n",
       "      <th>sqft_above</th>\n",
       "      <th>sqft_basement</th>\n",
       "      <th>yr_built</th>\n",
       "      <th>yr_renovated</th>\n",
       "      <th>zipcode</th>\n",
       "      <th>lat</th>\n",
       "      <th>long</th>\n",
       "      <th>sqft_living15</th>\n",
       "      <th>sqft_lot15</th>\n",
       "    </tr>\n",
       "  </thead>\n",
       "  <tbody>\n",
       "    <tr>\n",
       "      <th>0</th>\n",
       "      <td>7129300520</td>\n",
       "      <td>10/13/2014</td>\n",
       "      <td>221900.0</td>\n",
       "      <td>3</td>\n",
       "      <td>1.00</td>\n",
       "      <td>1180</td>\n",
       "      <td>5650</td>\n",
       "      <td>1.0</td>\n",
       "      <td>NaN</td>\n",
       "      <td>NONE</td>\n",
       "      <td>...</td>\n",
       "      <td>7 Average</td>\n",
       "      <td>1180</td>\n",
       "      <td>0.0</td>\n",
       "      <td>1955</td>\n",
       "      <td>0.0</td>\n",
       "      <td>98178</td>\n",
       "      <td>47.5112</td>\n",
       "      <td>-122.257</td>\n",
       "      <td>1340</td>\n",
       "      <td>5650</td>\n",
       "    </tr>\n",
       "    <tr>\n",
       "      <th>1</th>\n",
       "      <td>6414100192</td>\n",
       "      <td>12/9/2014</td>\n",
       "      <td>538000.0</td>\n",
       "      <td>3</td>\n",
       "      <td>2.25</td>\n",
       "      <td>2570</td>\n",
       "      <td>7242</td>\n",
       "      <td>2.0</td>\n",
       "      <td>NO</td>\n",
       "      <td>NONE</td>\n",
       "      <td>...</td>\n",
       "      <td>7 Average</td>\n",
       "      <td>2170</td>\n",
       "      <td>400.0</td>\n",
       "      <td>1951</td>\n",
       "      <td>1991.0</td>\n",
       "      <td>98125</td>\n",
       "      <td>47.7210</td>\n",
       "      <td>-122.319</td>\n",
       "      <td>1690</td>\n",
       "      <td>7639</td>\n",
       "    </tr>\n",
       "    <tr>\n",
       "      <th>2</th>\n",
       "      <td>5631500400</td>\n",
       "      <td>2/25/2015</td>\n",
       "      <td>180000.0</td>\n",
       "      <td>2</td>\n",
       "      <td>1.00</td>\n",
       "      <td>770</td>\n",
       "      <td>10000</td>\n",
       "      <td>1.0</td>\n",
       "      <td>NO</td>\n",
       "      <td>NONE</td>\n",
       "      <td>...</td>\n",
       "      <td>6 Low Average</td>\n",
       "      <td>770</td>\n",
       "      <td>0.0</td>\n",
       "      <td>1933</td>\n",
       "      <td>NaN</td>\n",
       "      <td>98028</td>\n",
       "      <td>47.7379</td>\n",
       "      <td>-122.233</td>\n",
       "      <td>2720</td>\n",
       "      <td>8062</td>\n",
       "    </tr>\n",
       "    <tr>\n",
       "      <th>3</th>\n",
       "      <td>2487200875</td>\n",
       "      <td>12/9/2014</td>\n",
       "      <td>604000.0</td>\n",
       "      <td>4</td>\n",
       "      <td>3.00</td>\n",
       "      <td>1960</td>\n",
       "      <td>5000</td>\n",
       "      <td>1.0</td>\n",
       "      <td>NO</td>\n",
       "      <td>NONE</td>\n",
       "      <td>...</td>\n",
       "      <td>7 Average</td>\n",
       "      <td>1050</td>\n",
       "      <td>910.0</td>\n",
       "      <td>1965</td>\n",
       "      <td>0.0</td>\n",
       "      <td>98136</td>\n",
       "      <td>47.5208</td>\n",
       "      <td>-122.393</td>\n",
       "      <td>1360</td>\n",
       "      <td>5000</td>\n",
       "    </tr>\n",
       "    <tr>\n",
       "      <th>4</th>\n",
       "      <td>1954400510</td>\n",
       "      <td>2/18/2015</td>\n",
       "      <td>510000.0</td>\n",
       "      <td>3</td>\n",
       "      <td>2.00</td>\n",
       "      <td>1680</td>\n",
       "      <td>8080</td>\n",
       "      <td>1.0</td>\n",
       "      <td>NO</td>\n",
       "      <td>NONE</td>\n",
       "      <td>...</td>\n",
       "      <td>8 Good</td>\n",
       "      <td>1680</td>\n",
       "      <td>0.0</td>\n",
       "      <td>1987</td>\n",
       "      <td>0.0</td>\n",
       "      <td>98074</td>\n",
       "      <td>47.6168</td>\n",
       "      <td>-122.045</td>\n",
       "      <td>1800</td>\n",
       "      <td>7503</td>\n",
       "    </tr>\n",
       "  </tbody>\n",
       "</table>\n",
       "<p>5 rows × 21 columns</p>\n",
       "</div>"
      ],
      "text/plain": [
       "           id        date     price  bedrooms  bathrooms  sqft_living  \\\n",
       "0  7129300520  10/13/2014  221900.0         3       1.00         1180   \n",
       "1  6414100192   12/9/2014  538000.0         3       2.25         2570   \n",
       "2  5631500400   2/25/2015  180000.0         2       1.00          770   \n",
       "3  2487200875   12/9/2014  604000.0         4       3.00         1960   \n",
       "4  1954400510   2/18/2015  510000.0         3       2.00         1680   \n",
       "\n",
       "   sqft_lot  floors waterfront  view  ...          grade sqft_above  \\\n",
       "0      5650     1.0        NaN  NONE  ...      7 Average       1180   \n",
       "1      7242     2.0         NO  NONE  ...      7 Average       2170   \n",
       "2     10000     1.0         NO  NONE  ...  6 Low Average        770   \n",
       "3      5000     1.0         NO  NONE  ...      7 Average       1050   \n",
       "4      8080     1.0         NO  NONE  ...         8 Good       1680   \n",
       "\n",
       "   sqft_basement yr_built  yr_renovated  zipcode      lat     long  \\\n",
       "0            0.0     1955           0.0    98178  47.5112 -122.257   \n",
       "1          400.0     1951        1991.0    98125  47.7210 -122.319   \n",
       "2            0.0     1933           NaN    98028  47.7379 -122.233   \n",
       "3          910.0     1965           0.0    98136  47.5208 -122.393   \n",
       "4            0.0     1987           0.0    98074  47.6168 -122.045   \n",
       "\n",
       "   sqft_living15  sqft_lot15  \n",
       "0           1340        5650  \n",
       "1           1690        7639  \n",
       "2           2720        8062  \n",
       "3           1360        5000  \n",
       "4           1800        7503  \n",
       "\n",
       "[5 rows x 21 columns]"
      ]
     },
     "execution_count": 277,
     "metadata": {},
     "output_type": "execute_result"
    }
   ],
   "source": [
    "#load and preiview data\n",
    "df = pd.read_csv('data/kc_house_data.csv')\n",
    "df.head(5)"
   ]
  },
  {
   "cell_type": "code",
   "execution_count": 278,
   "metadata": {
    "scrolled": true
   },
   "outputs": [
    {
     "name": "stdout",
     "output_type": "stream",
     "text": [
      "<class 'pandas.core.frame.DataFrame'>\n",
      "RangeIndex: 21597 entries, 0 to 21596\n",
      "Data columns (total 21 columns):\n",
      " #   Column         Non-Null Count  Dtype  \n",
      "---  ------         --------------  -----  \n",
      " 0   id             21597 non-null  int64  \n",
      " 1   date           21597 non-null  object \n",
      " 2   price          21597 non-null  float64\n",
      " 3   bedrooms       21597 non-null  int64  \n",
      " 4   bathrooms      21597 non-null  float64\n",
      " 5   sqft_living    21597 non-null  int64  \n",
      " 6   sqft_lot       21597 non-null  int64  \n",
      " 7   floors         21597 non-null  float64\n",
      " 8   waterfront     19221 non-null  object \n",
      " 9   view           21534 non-null  object \n",
      " 10  condition      21597 non-null  object \n",
      " 11  grade          21597 non-null  object \n",
      " 12  sqft_above     21597 non-null  int64  \n",
      " 13  sqft_basement  21597 non-null  object \n",
      " 14  yr_built       21597 non-null  int64  \n",
      " 15  yr_renovated   17755 non-null  float64\n",
      " 16  zipcode        21597 non-null  int64  \n",
      " 17  lat            21597 non-null  float64\n",
      " 18  long           21597 non-null  float64\n",
      " 19  sqft_living15  21597 non-null  int64  \n",
      " 20  sqft_lot15     21597 non-null  int64  \n",
      "dtypes: float64(6), int64(9), object(6)\n",
      "memory usage: 3.5+ MB\n"
     ]
    }
   ],
   "source": [
    "df.info()"
   ]
  },
  {
   "cell_type": "markdown",
   "metadata": {},
   "source": [
    "The data has six non-numeric columns that will need to be manipulated or removed: \"date\", \"waterfront\", \"view\", \"condition\", \"grade\", and \"sqft_basement\". "
   ]
  },
  {
   "cell_type": "markdown",
   "metadata": {},
   "source": [
    "## Data Preparation"
   ]
  },
  {
   "cell_type": "markdown",
   "metadata": {},
   "source": [
    "### Data Cleaning\n",
    "Drop irrelevant columns, address missing values and manipulate data into desired forms"
   ]
  },
  {
   "cell_type": "code",
   "execution_count": 279,
   "metadata": {},
   "outputs": [],
   "source": [
    "#drop irrelevant columns\n",
    "df.drop(['id', 'date', 'zipcode', 'lat', 'long', 'yr_renovated', 'view'],\n",
    "        axis=1, inplace=True)"
   ]
  },
  {
   "cell_type": "code",
   "execution_count": 280,
   "metadata": {},
   "outputs": [],
   "source": [
    "#fill in missing sqft_basement values\n",
    "df.loc[df.sqft_basement == '?', 'sqft_basement'] = (df[df.sqft_basement \n",
    "                                                       == '?'].sqft_living\n",
    "                               - df[df.sqft_basement == '?'].sqft_above)\n",
    "\n",
    "#convert into numeric\n",
    "df['sqft_basement'] = df.sqft_basement.astype('float64')\n",
    "\n",
    "#sqft_basement is a zero inflated variable, so I convert it into \n",
    "#a categorical variable\n",
    "df['is_basement'] = df.sqft_basement.map(lambda x: 0 if x == 0 else 1)\n",
    "df.drop('sqft_basement', axis=1, inplace=True)"
   ]
  },
  {
   "cell_type": "code",
   "execution_count": 281,
   "metadata": {},
   "outputs": [],
   "source": [
    "#convert condition and grade into numeric values\n",
    "df['condition'] = df.condition.map(lambda x: 1 if x=='Poor' \n",
    "                                   else (2 if x=='Fair'\n",
    "                                    else (3 if x=='Average'\n",
    "                                    else  (4 if x=='Good' else 4))))\n",
    "\n",
    "df['grade'] = df.grade.map(lambda x: int(x[0:2]))"
   ]
  },
  {
   "cell_type": "code",
   "execution_count": 282,
   "metadata": {
    "scrolled": false
   },
   "outputs": [],
   "source": [
    "#convert waterfront strings to 0 and 1\n",
    "df['waterfront'] = df.waterfront.map(lambda x: 0 if x==\"NO\" \n",
    "                                     else (1 if x==\"YES\" else None))\n",
    "\n",
    "#create new column indicating if waterfront value is missing\n",
    "waterfront = df[[\"waterfront\"]]\n",
    "missing_indicator = MissingIndicator()\n",
    "missing_indicator.fit(waterfront)\n",
    "waterfront_missing = missing_indicator.transform(waterfront)\n",
    "\n",
    "df['waterfront_missing'] = waterfront_missing\n",
    "\n",
    "df['waterfront_missing'] = df.waterfront_missing.map(lambda x: 0 if x==False\n",
    "                                         else 1)"
   ]
  },
  {
   "cell_type": "code",
   "execution_count": 283,
   "metadata": {
    "scrolled": false
   },
   "outputs": [],
   "source": [
    "#fill in missing waterfront values with median\n",
    "imputer = SimpleImputer(strategy=\"median\")\n",
    "\n",
    "imputer.fit(waterfront)\n",
    "waterfront_imputed = imputer.transform(waterfront)\n",
    "\n",
    "df['waterfront'] = waterfront_imputed"
   ]
  },
  {
   "cell_type": "markdown",
   "metadata": {},
   "source": [
    "### Log Transformation\n",
    "Determine which skewed variables are fixed through log transforms"
   ]
  },
  {
   "cell_type": "code",
   "execution_count": 284,
   "metadata": {},
   "outputs": [
    {
     "data": {
      "image/png": "[encoded data removed]",
      "text/plain": [
       "<Figure size 720x720 with 9 Axes>"
      ]
     },
     "metadata": {
      "needs_background": "light"
     },
     "output_type": "display_data"
    }
   ],
   "source": [
    "#examine distributions of continuous variables\n",
    "cont_data = df.loc[:, ((df.dtypes != 'object') & (df.nunique() > 20))]\n",
    "cont_data.hist(bins='auto', figsize=(10,10));"
   ]
  },
  {
   "cell_type": "code",
   "execution_count": 285,
   "metadata": {
    "scrolled": false
   },
   "outputs": [
    {
     "data": {
      "image/png": "[encoded data removed]",
      "text/plain": [
       "<Figure size 720x720 with 9 Axes>"
      ]
     },
     "metadata": {
      "needs_background": "light"
     },
     "output_type": "display_data"
    }
   ],
   "source": [
    "#log transforms of continuous variables\n",
    "log_names = [f'{column}_log' for column in cont_data.columns]\n",
    "\n",
    "log_data = np.log(cont_data);\n",
    "log_data.columns = log_names;\n",
    "log_data.hist(figsize=(10, 10), bins='auto');"
   ]
  },
  {
   "cell_type": "markdown",
   "metadata": {},
   "source": [
    "With the exception of yr_built and bathrooms, log transforming the other variable improved the skewness of the data. I will replace the original data of these variables with the log transformed data."
   ]
  },
  {
   "cell_type": "code",
   "execution_count": 286,
   "metadata": {
    "scrolled": true
   },
   "outputs": [
    {
     "name": "stderr",
     "output_type": "stream",
     "text": [
      "C:\\Users\\bento\\anaconda3\\envs\\learn-env\\lib\\site-packages\\pandas\\core\\frame.py:4163: SettingWithCopyWarning: \n",
      "A value is trying to be set on a copy of a slice from a DataFrame\n",
      "\n",
      "See the caveats in the documentation: https://pandas.pydata.org/pandas-docs/stable/user_guide/indexing.html#returning-a-view-versus-a-copy\n",
      "  return super().drop(\n"
     ]
    }
   ],
   "source": [
    "#drop variables not included in log transformed data\n",
    "cont_data.drop(['bathrooms', 'yr_built'], axis=1, inplace=True)\n",
    "log_data.drop(['bathrooms_log', 'yr_built_log'], axis=1, inplace=True)"
   ]
  },
  {
   "cell_type": "code",
   "execution_count": 287,
   "metadata": {},
   "outputs": [],
   "source": [
    "#replace continuous variables with log transforms\n",
    "df.drop(cont_data.columns, axis=1, inplace=True)\n",
    "df = pd.concat([df, log_data],  axis=1)"
   ]
  },
  {
   "cell_type": "markdown",
   "metadata": {},
   "source": [
    "### Split Data\n",
    "I split the data into a training and test set. The training set will be used to build a model. The model will be validated on the test set."
   ]
  },
  {
   "cell_type": "code",
   "execution_count": 288,
   "metadata": {},
   "outputs": [],
   "source": [
    "#assaing independent(X) and dependent(y) variables\n",
    "X = df.drop('price_log', axis=1)\n",
    "y = df.price_log"
   ]
  },
  {
   "cell_type": "code",
   "execution_count": 289,
   "metadata": {},
   "outputs": [],
   "source": [
    "#plit the data\n",
    "X_train, X_test, y_train, y_test = train_test_split(X, y, test_size=0.25)"
   ]
  },
  {
   "cell_type": "markdown",
   "metadata": {},
   "source": [
    "### Feature Scaling\n",
    "The features in this dataset have different scales so I standardize all non-binary independent variable to insure some aren't improperly weighted in the model."
   ]
  },
  {
   "cell_type": "code",
   "execution_count": 290,
   "metadata": {},
   "outputs": [],
   "source": [
    "#X_train feature scaling\n",
    "std_scale = preprocessing.StandardScaler().fit(X_train.drop(['waterfront', 'waterfront_missing'], axis=1))\n",
    "data_std = std_scale.transform(X_train.drop(['waterfront', 'waterfront_missing'], axis=1))\n",
    "data_std = pd.DataFrame(data_std, columns=X_train.drop(['waterfront', 'waterfront_missing'], axis=1).columns,\n",
    "                       index=X_train.index)"
   ]
  },
  {
   "cell_type": "code",
   "execution_count": 291,
   "metadata": {},
   "outputs": [],
   "source": [
    "#replace original data with standardized data\n",
    "X_train_std = pd.concat([data_std, X_train[['waterfront', 'waterfront_missing']]], axis=1)"
   ]
  },
  {
   "cell_type": "code",
   "execution_count": 292,
   "metadata": {},
   "outputs": [],
   "source": [
    "#X_test feature scaling\n",
    "std_scale = preprocessing.StandardScaler().fit(X_test.drop(['waterfront', 'waterfront_missing'], axis=1))\n",
    "data_std = std_scale.transform(X_test.drop(['waterfront', 'waterfront_missing'], axis=1))\n",
    "data_std = pd.DataFrame(data_std, columns=X_test.drop(['waterfront', 'waterfront_missing'], axis=1).columns,\n",
    "                       index=X_test.index)"
   ]
  },
  {
   "cell_type": "code",
   "execution_count": 293,
   "metadata": {},
   "outputs": [],
   "source": [
    "#replace original data with standardized data\n",
    "X_test_std = pd.concat([data_std, X_test[['waterfront', 'waterfront_missing']]],  axis=1)"
   ]
  },
  {
   "cell_type": "markdown",
   "metadata": {},
   "source": [
    "## Linear Regression Modeling\n",
    "Using the cleaned, transformed, and scaled data above, I will model the effects of the predictor variables on housing price."
   ]
  },
  {
   "cell_type": "markdown",
   "metadata": {},
   "source": [
    "### Baseline Model\n",
    "The baseline model will predict housing price based on only the most highly correlated predictor variable."
   ]
  },
  {
   "cell_type": "code",
   "execution_count": 298,
   "metadata": {
    "scrolled": false
   },
   "outputs": [
    {
     "data": {
      "text/plain": [
       "price_log             1.000000\n",
       "grade                 0.703151\n",
       "sqft_living_log       0.673033\n",
       "sqft_living15_log     0.606663\n",
       "sqft_above_log        0.584533\n",
       "bathrooms             0.549806\n",
       "bedrooms              0.333058\n",
       "floors                0.310690\n",
       "is_basement           0.211008\n",
       "waterfront            0.163710\n",
       "sqft_lot_log          0.135981\n",
       "sqft_lot15_log        0.121442\n",
       "yr_built              0.081561\n",
       "condition             0.012668\n",
       "waterfront_missing   -0.008472\n",
       "Name: price_log, dtype: float64"
      ]
     },
     "execution_count": 298,
     "metadata": {},
     "output_type": "execute_result"
    }
   ],
   "source": [
    "#determine highest correlating feature with price\n",
    "pd.concat([X_train_std, y_train], axis=1).corr().price_log.sort_values(\n",
    "    ascending=False)"
   ]
  },
  {
   "cell_type": "markdown",
   "metadata": {},
   "source": [
    "House grade is most highly correlate with price at a value of 0.704"
   ]
  },
  {
   "cell_type": "code",
   "execution_count": 299,
   "metadata": {},
   "outputs": [],
   "source": [
    "baseline_model = LinearRegression()"
   ]
  },
  {
   "cell_type": "code",
   "execution_count": 300,
   "metadata": {
    "scrolled": false
   },
   "outputs": [
    {
     "name": "stdout",
     "output_type": "stream",
     "text": [
      "Train score:      0.49829797762322364\n",
      "Validation score: 0.48228385681051805\n"
     ]
    }
   ],
   "source": [
    "#define how many splits to make of training data\n",
    "splitter = ShuffleSplit(n_splits=3, test_size=0.25, random_state=0)\n",
    "\n",
    "#score the model using only the grade data as a predictor\n",
    "baseline_scores = cross_validate(\n",
    "    estimator=baseline_model,\n",
    "    X=X_train_std[['grade']],\n",
    "    y=y_train,\n",
    "    return_train_score=True,\n",
    "    cv=splitter\n",
    ")\n",
    "\n",
    "#print training and validation scores\n",
    "print(\"Train score:     \", baseline_scores[\"train_score\"].mean())\n",
    "print(\"Validation score:\", baseline_scores[\"test_score\"].mean())"
   ]
  },
  {
   "cell_type": "markdown",
   "metadata": {},
   "source": [
    "### Second Model\n",
    "For the second model I will use all predictor variables and see if it improves the score compared to the baseline."
   ]
  },
  {
   "cell_type": "code",
   "execution_count": 301,
   "metadata": {},
   "outputs": [],
   "source": [
    "second_model = LinearRegression()"
   ]
  },
  {
   "cell_type": "code",
   "execution_count": 302,
   "metadata": {},
   "outputs": [
    {
     "name": "stdout",
     "output_type": "stream",
     "text": [
      "Train score:      0.6592713254768645\n",
      "Validation score: 0.6569632715578406\n"
     ]
    }
   ],
   "source": [
    "second_model_scores = cross_validate(\n",
    "    estimator=second_model,\n",
    "    X=X_train_std,\n",
    "    y=y_train,\n",
    "    return_train_score=True,\n",
    "    cv=splitter\n",
    ")\n",
    "\n",
    "#print training and validation scores\n",
    "print(\"Train score:     \", second_model_scores[\"train_score\"].mean())\n",
    "print(\"Validation score:\", second_model_scores[\"test_score\"].mean())"
   ]
  },
  {
   "cell_type": "markdown",
   "metadata": {},
   "source": [
    "Using all the predictors greatly improved the score compared to the baseline model."
   ]
  },
  {
   "cell_type": "markdown",
   "metadata": {},
   "source": [
    "### Third Model: Check for Multicollinearity\n",
    "Using a model with all the variables will likely include multicollinearity which could negatively affect the coefficients of our predictors, so I use the variance inflation factor to determine if any variables should be removed due to multicollinearity."
   ]
  },
  {
   "cell_type": "code",
   "execution_count": 303,
   "metadata": {},
   "outputs": [
    {
     "data": {
      "text/plain": [
       "bedrooms               1.736688\n",
       "bathrooms              3.247669\n",
       "floors                 2.365900\n",
       "condition              1.182162\n",
       "grade                  2.994680\n",
       "yr_built               1.726358\n",
       "is_basement            4.534567\n",
       "sqft_living_log       19.496619\n",
       "sqft_lot_log           6.716088\n",
       "sqft_above_log        19.316584\n",
       "sqft_living15_log      2.734918\n",
       "sqft_lot15_log         6.486189\n",
       "waterfront             1.022740\n",
       "waterfront_missing     1.000309\n",
       "Name: Variance Inflation Factor, dtype: float64"
      ]
     },
     "execution_count": 303,
     "metadata": {},
     "output_type": "execute_result"
    }
   ],
   "source": [
    "vif = [variance_inflation_factor(X_train_std.values,\n",
    "           i) for i in range(X_train_std.shape[1])]\n",
    "pd.Series(vif, index=X_train_std.columns, \n",
    "          name=\"Variance Inflation Factor\")"
   ]
  },
  {
   "cell_type": "markdown",
   "metadata": {},
   "source": [
    "Any variable with an inflation of 5 are exhibiting multicollinearity. Sqft_lot_log, sqft_living_log and sqft_above_log are all above 5 and will be removed from this model."
   ]
  },
  {
   "cell_type": "code",
   "execution_count": 304,
   "metadata": {},
   "outputs": [],
   "source": [
    "third_model = LinearRegression()"
   ]
  },
  {
   "cell_type": "code",
   "execution_count": 305,
   "metadata": {},
   "outputs": [
    {
     "name": "stdout",
     "output_type": "stream",
     "text": [
      "Train score:      0.649309332946577\n",
      "Validation score: 0.6473421709758299\n"
     ]
    }
   ],
   "source": [
    "third_model_scores = cross_validate(\n",
    "    estimator=third_model,\n",
    "    X=X_train_std.drop(['sqft_lot_log', 'sqft_living_log',\n",
    "                              'sqft_above_log'], axis=1),\n",
    "    y=y_train,\n",
    "    return_train_score=True,\n",
    "    cv=splitter\n",
    ")\n",
    "\n",
    "print(\"Train score:     \", third_model_scores[\"train_score\"].mean())\n",
    "print(\"Validation score:\", third_model_scores[\"test_score\"].mean())"
   ]
  },
  {
   "cell_type": "markdown",
   "metadata": {},
   "source": [
    "This model's score is slightly lower than the second model, but including multicollinearity in the model could be interfere with the accuracy of our coefficients, so this model is preferable to the second."
   ]
  },
  {
   "cell_type": "markdown",
   "metadata": {},
   "source": [
    "### Fourth Model\n",
    "Select features to include in the model based on their p significance value. Any p values below 0.05 will be included."
   ]
  },
  {
   "cell_type": "code",
   "execution_count": 312,
   "metadata": {
    "scrolled": false
   },
   "outputs": [],
   "source": [
    "#construct model using all predictor variables\n",
    "model = sm.OLS(y_train, sm.add_constant(X_train_std.drop(['sqft_lot_log',\n",
    "                              'sqft_living_log',\n",
    "                              'sqft_above_log'], axis=1))).fit()"
   ]
  },
  {
   "cell_type": "code",
   "execution_count": 313,
   "metadata": {
    "scrolled": true
   },
   "outputs": [
    {
     "data": {
      "text/plain": [
       "const                 False\n",
       "bedrooms              False\n",
       "bathrooms             False\n",
       "floors                False\n",
       "condition             False\n",
       "grade                 False\n",
       "yr_built              False\n",
       "is_basement           False\n",
       "sqft_living15_log     False\n",
       "sqft_lot15_log        False\n",
       "waterfront            False\n",
       "waterfront_missing     True\n",
       "dtype: bool"
      ]
     },
     "execution_count": 313,
     "metadata": {},
     "output_type": "execute_result"
    }
   ],
   "source": [
    "#features with p-values over 0.05\n",
    "model.pvalues > 0.05"
   ]
  },
  {
   "cell_type": "markdown",
   "metadata": {},
   "source": [
    "bedrooms and waterfront_missing were not significant, so our fourth model will exclude these two features."
   ]
  },
  {
   "cell_type": "code",
   "execution_count": 314,
   "metadata": {},
   "outputs": [],
   "source": [
    "fourth_model = LinearRegression()"
   ]
  },
  {
   "cell_type": "code",
   "execution_count": 315,
   "metadata": {
    "scrolled": true
   },
   "outputs": [
    {
     "name": "stdout",
     "output_type": "stream",
     "text": [
      "Train score:      0.6491852169005706\n",
      "Validation score: 0.6474161405467833\n"
     ]
    }
   ],
   "source": [
    "fourth_model_scores = cross_validate(\n",
    "    estimator=fourth_model,\n",
    "    X=X_train_std.drop(['bedrooms', 'waterfront_missing', 'sqft_lot_log',\n",
    "                              'sqft_living_log',\n",
    "                              'sqft_above_log'], axis=1),\n",
    "    y=y_train,\n",
    "    return_train_score=True,\n",
    "    cv=splitter\n",
    ")\n",
    "\n",
    "print(\"Train score:     \", fourth_model_scores[\"train_score\"].mean())\n",
    "print(\"Validation score:\", fourth_model_scores[\"test_score\"].mean())"
   ]
  },
  {
   "cell_type": "markdown",
   "metadata": {},
   "source": [
    "The score of the model is slightly higher than our third model."
   ]
  },
  {
   "cell_type": "markdown",
   "metadata": {},
   "source": [
    "## Fifth Model\n",
    "I will use sklearn feature selection to determine which data to include in this model"
   ]
  },
  {
   "cell_type": "code",
   "execution_count": 316,
   "metadata": {
    "scrolled": true
   },
   "outputs": [
    {
     "name": "stdout",
     "output_type": "stream",
     "text": [
      "Was the column selected?\n",
      "bedrooms: False\n",
      "bathrooms: True\n",
      "floors: True\n",
      "condition: True\n",
      "grade: True\n",
      "yr_built: True\n",
      "is_basement: True\n",
      "sqft_living15_log: True\n",
      "sqft_lot15_log: True\n",
      "waterfront: True\n",
      "waterfront_missing: False\n"
     ]
    }
   ],
   "source": [
    "model_for_RFECV = LinearRegression()\n",
    "\n",
    "# Instantiate and fit the selector\n",
    "selector = RFECV(model_for_RFECV, cv=splitter)\n",
    "selector.fit(X_train_std.drop(['sqft_lot_log',\n",
    "                              'sqft_living_log',\n",
    "                              'sqft_above_log'], axis=1), y_train)\n",
    "\n",
    "# Print the results\n",
    "print(\"Was the column selected?\")\n",
    "for index, col in enumerate(X_train_std.drop(['sqft_lot_log',\n",
    "                              'sqft_living_log',\n",
    "                              'sqft_above_log'], axis=1).columns):\n",
    "    print(f\"{col}: {selector.support_[index]}\")"
   ]
  },
  {
   "cell_type": "markdown",
   "metadata": {},
   "source": [
    "This process selected the same features as our p-significance model."
   ]
  },
  {
   "cell_type": "markdown",
   "metadata": {},
   "source": [
    "### Final Model\n",
    "Given the results from our models above, the final model will include all predictors except sqft_lot_log, sqft_living_log, sqft_above_log, bedrooms, and waterfront_missing. "
   ]
  },
  {
   "cell_type": "code",
   "execution_count": 317,
   "metadata": {},
   "outputs": [],
   "source": [
    "X_train_final = X_train_std.drop(['bedrooms', 'waterfront_missing', 'sqft_lot_log',\n",
    "                              'sqft_living_log',\n",
    "                              'sqft_above_log'], axis=1)\n",
    "X_test_final = X_test_std.drop(['bedrooms', 'waterfront_missing', 'sqft_lot_log',\n",
    "                              'sqft_living_log',\n",
    "                              'sqft_above_log'], axis=1)"
   ]
  },
  {
   "cell_type": "code",
   "execution_count": 318,
   "metadata": {},
   "outputs": [],
   "source": [
    "final_model = LinearRegression()"
   ]
  },
  {
   "cell_type": "code",
   "execution_count": 319,
   "metadata": {},
   "outputs": [
    {
     "data": {
      "text/plain": [
       "LinearRegression()"
      ]
     },
     "execution_count": 319,
     "metadata": {},
     "output_type": "execute_result"
    }
   ],
   "source": [
    "#construct model using final selected data\n",
    "final_model.fit(X_train_final, y_train)"
   ]
  },
  {
   "cell_type": "code",
   "execution_count": 320,
   "metadata": {
    "scrolled": true
   },
   "outputs": [
    {
     "data": {
      "text/plain": [
       "0.652167338182391"
      ]
     },
     "execution_count": 320,
     "metadata": {},
     "output_type": "execute_result"
    }
   ],
   "source": [
    "#R-squared score of the test set\n",
    "final_model.score(X_test_final, y_test)"
   ]
  },
  {
   "cell_type": "markdown",
   "metadata": {},
   "source": [
    "## Check for Linear Regression Assumptions\n",
    "To be able to use this model with confidence, it must meet the assumptions of linearity, normality, and homoscedasticity."
   ]
  },
  {
   "cell_type": "markdown",
   "metadata": {},
   "source": [
    "### Linearity"
   ]
  },
  {
   "cell_type": "code",
   "execution_count": 370,
   "metadata": {
    "scrolled": false
   },
   "outputs": [
    {
     "data": {
      "image/png": "[encoded data removed]",
      "text/plain": [
       "<Figure size 432x288 with 1 Axes>"
      ]
     },
     "metadata": {
      "needs_background": "light"
     },
     "output_type": "display_data"
    }
   ],
   "source": [
    "#predict the log(price) values based on X_test set\n",
    "preds = final_model.predict(X_test_final)\n",
    "\n",
    "#plot the predicted data vs the actual and compare to perfect line\n",
    "fig, ax = plt.subplots()\n",
    "perfect_line = np.arange(y_test.min(), y_test.max())\n",
    "ax.plot(perfect_line, perfect_line, linestyle=\"--\", color=\"orange\", label=\"Perfect Fit\")\n",
    "ax.scatter(y_test, preds, alpha=0.5)\n",
    "ax.set_xlabel(\"Actual log(Price)\")\n",
    "ax.set_ylabel(\"Predicted log(Price)\")\n",
    "ax.legend();"
   ]
  },
  {
   "cell_type": "markdown",
   "metadata": {},
   "source": [
    "The model is fairly linear, and thus fulfills the linearity assumption."
   ]
  },
  {
   "cell_type": "markdown",
   "metadata": {},
   "source": [
    "### Normality"
   ]
  },
  {
   "cell_type": "code",
   "execution_count": 322,
   "metadata": {
    "scrolled": true
   },
   "outputs": [
    {
     "data": {
      "image/png": "[encoded data removed]",
      "text/plain": [
       "<Figure size 432x288 with 1 Axes>"
      ]
     },
     "metadata": {
      "needs_background": "light"
     },
     "output_type": "display_data"
    }
   ],
   "source": [
    "#calculate the residuals(differnce between actrual and predicted)\n",
    "residuals = (y_test - preds)\n",
    "#graph qq-plot\n",
    "sm.graphics.qqplot(residuals, dist=stats.norm, line='45', fit=True);"
   ]
  },
  {
   "cell_type": "markdown",
   "metadata": {},
   "source": [
    "The qq-plot of the residuals is linear thus the normality assumption is fulfilled."
   ]
  },
  {
   "cell_type": "markdown",
   "metadata": {},
   "source": [
    "### Homoscedasticity"
   ]
  },
  {
   "cell_type": "code",
   "execution_count": 323,
   "metadata": {
    "scrolled": false
   },
   "outputs": [
    {
     "data": {
      "image/png": "[encoded data removed]",
      "text/plain": [
       "<Figure size 432x288 with 1 Axes>"
      ]
     },
     "metadata": {
      "needs_background": "light"
     },
     "output_type": "display_data"
    }
   ],
   "source": [
    "fig, ax = plt.subplots()\n",
    "\n",
    "#plot the predicted data vs its residuals\n",
    "ax.scatter(preds, residuals, alpha=0.5)\n",
    "ax.plot(preds, [0 for i in range(len(X_test))])\n",
    "ax.set_xlabel(\"Predicted Value\")\n",
    "ax.set_ylabel(\"Actual - Predicted Value\");"
   ]
  },
  {
   "cell_type": "markdown",
   "metadata": {},
   "source": [
    "The plot above is not too cone shaped thus the homoscedasticity assumption is fulfilled."
   ]
  },
  {
   "cell_type": "markdown",
   "metadata": {},
   "source": [
    "## Model Interpretation\n",
    "With the model fulfilling the assumptions of linear regression, I can now interpret the model."
   ]
  },
  {
   "cell_type": "code",
   "execution_count": 324,
   "metadata": {
    "scrolled": false
   },
   "outputs": [
    {
     "name": "stdout",
     "output_type": "stream",
     "text": [
      "bathrooms            0.090722\n",
      "floors               0.054162\n",
      "condition            0.022421\n",
      "grade                0.285988\n",
      "yr_built            -0.182299\n",
      "is_basement          0.050940\n",
      "sqft_living15_log    0.122335\n",
      "sqft_lot15_log      -0.028751\n",
      "waterfront           0.539242\n",
      "Name: Coefficients, dtype: float64\n",
      "\n",
      "Intercept: 13.042760565159371\n"
     ]
    }
   ],
   "source": [
    "coefs = pd.Series(final_model.coef_, index=X_train_final.columns, name=\"Coefficients\")\n",
    "print(coefs)\n",
    "print()\n",
    "print(\"Intercept:\", final_model.intercept_)"
   ]
  },
  {
   "cell_type": "markdown",
   "metadata": {},
   "source": [
    "Given that I transformed and scaled the data, the coefficients listed above must be interpreted according the the transformation and scaling applied to each."
   ]
  },
  {
   "cell_type": "code",
   "execution_count": 337,
   "metadata": {},
   "outputs": [
    {
     "data": {
      "text/plain": [
       "1.1726521444215625"
      ]
     },
     "execution_count": 337,
     "metadata": {},
     "output_type": "execute_result"
    }
   ],
   "source": [
    "X_train.grade.std()"
   ]
  },
  {
   "cell_type": "code",
   "execution_count": 343,
   "metadata": {
    "scrolled": true
   },
   "outputs": [
    {
     "data": {
      "text/plain": [
       "28.233088761336333"
      ]
     },
     "execution_count": 343,
     "metadata": {},
     "output_type": "execute_result"
    }
   ],
   "source": [
    "(math.exp(coefs.grade) - 1)*100*(1/X_train.grade.std())"
   ]
  },
  {
   "cell_type": "code",
   "execution_count": 346,
   "metadata": {
    "scrolled": false
   },
   "outputs": [
    {
     "data": {
      "text/plain": [
       "4.568640809921405"
      ]
     },
     "execution_count": 346,
     "metadata": {},
     "output_type": "execute_result"
    }
   ],
   "source": [
    "(math.exp(coefs.condition) - 1)*100*(1/X_train.condition.std())"
   ]
  },
  {
   "cell_type": "code",
   "execution_count": 348,
   "metadata": {},
   "outputs": [
    {
     "data": {
      "text/plain": [
       "12.360989226526703"
      ]
     },
     "execution_count": 348,
     "metadata": {},
     "output_type": "execute_result"
    }
   ],
   "source": [
    "(math.exp(coefs.bathrooms) - 1)*100*(1/X_train.bathrooms.std())"
   ]
  },
  {
   "cell_type": "code",
   "execution_count": 364,
   "metadata": {},
   "outputs": [],
   "source": [
    "model = sm.OLS(y_train, sm.add_constant(X_train_final)).fit()"
   ]
  },
  {
   "cell_type": "code",
   "execution_count": 375,
   "metadata": {
    "scrolled": true
   },
   "outputs": [],
   "source": [
    "conf_int = model.conf_int(alpha=0.05)"
   ]
  },
  {
   "cell_type": "code",
   "execution_count": 391,
   "metadata": {},
   "outputs": [],
   "source": [
    "conf_int.columns = ['Low', 'High']"
   ]
  },
  {
   "cell_type": "code",
   "execution_count": 392,
   "metadata": {},
   "outputs": [
    {
     "data": {
      "text/html": [
       "<div>\n",
       "<style scoped>\n",
       "    .dataframe tbody tr th:only-of-type {\n",
       "        vertical-align: middle;\n",
       "    }\n",
       "\n",
       "    .dataframe tbody tr th {\n",
       "        vertical-align: top;\n",
       "    }\n",
       "\n",
       "    .dataframe thead th {\n",
       "        text-align: right;\n",
       "    }\n",
       "</style>\n",
       "<table border=\"1\" class=\"dataframe\">\n",
       "  <thead>\n",
       "    <tr style=\"text-align: right;\">\n",
       "      <th></th>\n",
       "      <th>Low</th>\n",
       "      <th>High</th>\n",
       "    </tr>\n",
       "  </thead>\n",
       "  <tbody>\n",
       "    <tr>\n",
       "      <th>const</th>\n",
       "      <td>13.037935</td>\n",
       "      <td>13.047586</td>\n",
       "    </tr>\n",
       "    <tr>\n",
       "      <th>bathrooms</th>\n",
       "      <td>0.083122</td>\n",
       "      <td>0.098322</td>\n",
       "    </tr>\n",
       "    <tr>\n",
       "      <th>floors</th>\n",
       "      <td>0.047250</td>\n",
       "      <td>0.061075</td>\n",
       "    </tr>\n",
       "    <tr>\n",
       "      <th>condition</th>\n",
       "      <td>0.017220</td>\n",
       "      <td>0.027622</td>\n",
       "    </tr>\n",
       "    <tr>\n",
       "      <th>grade</th>\n",
       "      <td>0.278274</td>\n",
       "      <td>0.293701</td>\n",
       "    </tr>\n",
       "    <tr>\n",
       "      <th>yr_built</th>\n",
       "      <td>-0.188550</td>\n",
       "      <td>-0.176048</td>\n",
       "    </tr>\n",
       "    <tr>\n",
       "      <th>is_basement</th>\n",
       "      <td>0.045387</td>\n",
       "      <td>0.056493</td>\n",
       "    </tr>\n",
       "    <tr>\n",
       "      <th>sqft_living15_log</th>\n",
       "      <td>0.115055</td>\n",
       "      <td>0.129615</td>\n",
       "    </tr>\n",
       "    <tr>\n",
       "      <th>sqft_lot15_log</th>\n",
       "      <td>-0.034503</td>\n",
       "      <td>-0.022999</td>\n",
       "    </tr>\n",
       "    <tr>\n",
       "      <th>waterfront</th>\n",
       "      <td>0.479614</td>\n",
       "      <td>0.598869</td>\n",
       "    </tr>\n",
       "  </tbody>\n",
       "</table>\n",
       "</div>"
      ],
      "text/plain": [
       "                         Low       High\n",
       "const              13.037935  13.047586\n",
       "bathrooms           0.083122   0.098322\n",
       "floors              0.047250   0.061075\n",
       "condition           0.017220   0.027622\n",
       "grade               0.278274   0.293701\n",
       "yr_built           -0.188550  -0.176048\n",
       "is_basement         0.045387   0.056493\n",
       "sqft_living15_log   0.115055   0.129615\n",
       "sqft_lot15_log     -0.034503  -0.022999\n",
       "waterfront          0.479614   0.598869"
      ]
     },
     "execution_count": 392,
     "metadata": {},
     "output_type": "execute_result"
    }
   ],
   "source": [
    "conf_int"
   ]
  },
  {
   "cell_type": "code",
   "execution_count": 367,
   "metadata": {},
   "outputs": [
    {
     "data": {
      "text/plain": [
       "0.0907220472607176"
      ]
     },
     "execution_count": 367,
     "metadata": {},
     "output_type": "execute_result"
    }
   ],
   "source": [
    "model.params.bathrooms"
   ]
  },
  {
   "cell_type": "code",
   "execution_count": 266,
   "metadata": {},
   "outputs": [
    {
     "data": {
      "text/html": [
       "<table class=\"simpletable\">\n",
       "<caption>OLS Regression Results</caption>\n",
       "<tr>\n",
       "  <th>Dep. Variable:</th>        <td>price_log</td>    <th>  R-squared:         </th> <td>   0.654</td>\n",
       "</tr>\n",
       "<tr>\n",
       "  <th>Model:</th>                   <td>OLS</td>       <th>  Adj. R-squared:    </th> <td>   0.654</td>\n",
       "</tr>\n",
       "<tr>\n",
       "  <th>Method:</th>             <td>Least Squares</td>  <th>  F-statistic:       </th> <td>   3396.</td>\n",
       "</tr>\n",
       "<tr>\n",
       "  <th>Date:</th>             <td>Tue, 18 Jan 2022</td> <th>  Prob (F-statistic):</th>  <td>  0.00</td> \n",
       "</tr>\n",
       "<tr>\n",
       "  <th>Time:</th>                 <td>14:38:07</td>     <th>  Log-Likelihood:    </th> <td> -4075.6</td>\n",
       "</tr>\n",
       "<tr>\n",
       "  <th>No. Observations:</th>      <td> 16197</td>      <th>  AIC:               </th> <td>   8171.</td>\n",
       "</tr>\n",
       "<tr>\n",
       "  <th>Df Residuals:</th>          <td> 16187</td>      <th>  BIC:               </th> <td>   8248.</td>\n",
       "</tr>\n",
       "<tr>\n",
       "  <th>Df Model:</th>              <td>     9</td>      <th>                     </th>     <td> </td>   \n",
       "</tr>\n",
       "<tr>\n",
       "  <th>Covariance Type:</th>      <td>nonrobust</td>    <th>                     </th>     <td> </td>   \n",
       "</tr>\n",
       "</table>\n",
       "<table class=\"simpletable\">\n",
       "<tr>\n",
       "          <td></td>             <th>coef</th>     <th>std err</th>      <th>t</th>      <th>P>|t|</th>  <th>[0.025</th>    <th>0.975]</th>  \n",
       "</tr>\n",
       "<tr>\n",
       "  <th>const</th>             <td>   13.0437</td> <td>    0.002</td> <td> 5314.475</td> <td> 0.000</td> <td>   13.039</td> <td>   13.048</td>\n",
       "</tr>\n",
       "<tr>\n",
       "  <th>bathrooms</th>         <td>    0.0905</td> <td>    0.004</td> <td>   23.297</td> <td> 0.000</td> <td>    0.083</td> <td>    0.098</td>\n",
       "</tr>\n",
       "<tr>\n",
       "  <th>floors</th>            <td>    0.0554</td> <td>    0.004</td> <td>   15.674</td> <td> 0.000</td> <td>    0.048</td> <td>    0.062</td>\n",
       "</tr>\n",
       "<tr>\n",
       "  <th>condition</th>         <td>    0.0265</td> <td>    0.003</td> <td>    9.994</td> <td> 0.000</td> <td>    0.021</td> <td>    0.032</td>\n",
       "</tr>\n",
       "<tr>\n",
       "  <th>grade</th>             <td>    0.2838</td> <td>    0.004</td> <td>   71.755</td> <td> 0.000</td> <td>    0.276</td> <td>    0.292</td>\n",
       "</tr>\n",
       "<tr>\n",
       "  <th>yr_built</th>          <td>   -0.1806</td> <td>    0.003</td> <td>  -56.802</td> <td> 0.000</td> <td>   -0.187</td> <td>   -0.174</td>\n",
       "</tr>\n",
       "<tr>\n",
       "  <th>is_basement</th>       <td>    0.0517</td> <td>    0.003</td> <td>   18.220</td> <td> 0.000</td> <td>    0.046</td> <td>    0.057</td>\n",
       "</tr>\n",
       "<tr>\n",
       "  <th>sqft_living15_log</th> <td>    0.1247</td> <td>    0.004</td> <td>   33.447</td> <td> 0.000</td> <td>    0.117</td> <td>    0.132</td>\n",
       "</tr>\n",
       "<tr>\n",
       "  <th>sqft_lot15_log</th>    <td>   -0.0287</td> <td>    0.003</td> <td>   -9.785</td> <td> 0.000</td> <td>   -0.034</td> <td>   -0.023</td>\n",
       "</tr>\n",
       "<tr>\n",
       "  <th>waterfront</th>        <td>    0.5748</td> <td>    0.030</td> <td>   18.954</td> <td> 0.000</td> <td>    0.515</td> <td>    0.634</td>\n",
       "</tr>\n",
       "</table>\n",
       "<table class=\"simpletable\">\n",
       "<tr>\n",
       "  <th>Omnibus:</th>       <td>63.934</td> <th>  Durbin-Watson:     </th> <td>   1.995</td>\n",
       "</tr>\n",
       "<tr>\n",
       "  <th>Prob(Omnibus):</th> <td> 0.000</td> <th>  Jarque-Bera (JB):  </th> <td>  87.101</td>\n",
       "</tr>\n",
       "<tr>\n",
       "  <th>Skew:</th>          <td>-0.016</td> <th>  Prob(JB):          </th> <td>1.22e-19</td>\n",
       "</tr>\n",
       "<tr>\n",
       "  <th>Kurtosis:</th>      <td> 3.358</td> <th>  Cond. No.          </th> <td>    21.9</td>\n",
       "</tr>\n",
       "</table><br/><br/>Notes:<br/>[1] Standard Errors assume that the covariance matrix of the errors is correctly specified."
      ],
      "text/plain": [
       "<class 'statsmodels.iolib.summary.Summary'>\n",
       "\"\"\"\n",
       "                            OLS Regression Results                            \n",
       "==============================================================================\n",
       "Dep. Variable:              price_log   R-squared:                       0.654\n",
       "Model:                            OLS   Adj. R-squared:                  0.654\n",
       "Method:                 Least Squares   F-statistic:                     3396.\n",
       "Date:                Tue, 18 Jan 2022   Prob (F-statistic):               0.00\n",
       "Time:                        14:38:07   Log-Likelihood:                -4075.6\n",
       "No. Observations:               16197   AIC:                             8171.\n",
       "Df Residuals:                   16187   BIC:                             8248.\n",
       "Df Model:                           9                                         \n",
       "Covariance Type:            nonrobust                                         \n",
       "=====================================================================================\n",
       "                        coef    std err          t      P>|t|      [0.025      0.975]\n",
       "-------------------------------------------------------------------------------------\n",
       "const                13.0437      0.002   5314.475      0.000      13.039      13.048\n",
       "bathrooms             0.0905      0.004     23.297      0.000       0.083       0.098\n",
       "floors                0.0554      0.004     15.674      0.000       0.048       0.062\n",
       "condition             0.0265      0.003      9.994      0.000       0.021       0.032\n",
       "grade                 0.2838      0.004     71.755      0.000       0.276       0.292\n",
       "yr_built             -0.1806      0.003    -56.802      0.000      -0.187      -0.174\n",
       "is_basement           0.0517      0.003     18.220      0.000       0.046       0.057\n",
       "sqft_living15_log     0.1247      0.004     33.447      0.000       0.117       0.132\n",
       "sqft_lot15_log       -0.0287      0.003     -9.785      0.000      -0.034      -0.023\n",
       "waterfront            0.5748      0.030     18.954      0.000       0.515       0.634\n",
       "==============================================================================\n",
       "Omnibus:                       63.934   Durbin-Watson:                   1.995\n",
       "Prob(Omnibus):                  0.000   Jarque-Bera (JB):               87.101\n",
       "Skew:                          -0.016   Prob(JB):                     1.22e-19\n",
       "Kurtosis:                       3.358   Cond. No.                         21.9\n",
       "==============================================================================\n",
       "\n",
       "Notes:\n",
       "[1] Standard Errors assume that the covariance matrix of the errors is correctly specified.\n",
       "\"\"\""
      ]
     },
     "execution_count": 266,
     "metadata": {},
     "output_type": "execute_result"
    }
   ],
   "source": [
    "model.summary()"
   ]
  },
  {
   "cell_type": "markdown",
   "metadata": {},
   "source": [
    "## Conclusions"
   ]
  },
  {
   "cell_type": "code",
   "execution_count": null,
   "metadata": {},
   "outputs": [],
   "source": []
  },
  {
   "cell_type": "markdown",
   "metadata": {},
   "source": [
    "## Next Steps"
   ]
  },
  {
   "cell_type": "code",
   "execution_count": null,
   "metadata": {},
   "outputs": [],
   "source": []
  }
 ],
 "metadata": {
  "kernelspec": {
   "display_name": "Python 3",
   "language": "python",
   "name": "python3"
  },
  "language_info": {
   "codemirror_mode": {
    "name": "ipython",
    "version": 3
   },
   "file_extension": ".py",
   "mimetype": "text/x-python",
   "name": "python",
   "nbconvert_exporter": "python",
   "pygments_lexer": "ipython3",
   "version": "3.8.5"
  },
  "toc": {
   "base_numbering": 1,
   "nav_menu": {},
   "number_sections": true,
   "sideBar": true,
   "skip_h1_title": false,
   "title_cell": "Table of Contents",
   "title_sidebar": "Contents",
   "toc_cell": false,
   "toc_position": {},
   "toc_section_display": true,
   "toc_window_display": false
  }
 },
 "nbformat": 4,
 "nbformat_minor": 2
}
